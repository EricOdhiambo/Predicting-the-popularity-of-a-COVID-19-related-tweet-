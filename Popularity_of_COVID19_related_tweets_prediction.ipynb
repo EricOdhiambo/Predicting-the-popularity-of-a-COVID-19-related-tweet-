{
  "cells": [
    {
      "cell_type": "markdown",
      "metadata": {
        "id": "view-in-github",
        "colab_type": "text"
      },
      "source": [
        "<a href=\"https://colab.research.google.com/github/EricOdhiambo/Predicting-the-popularity-of-a-COVID-19-related-tweet-/blob/main/Popularity_of_COVID19_related_tweets_prediction.ipynb\" target=\"_parent\"><img src=\"https://colab.research.google.com/assets/colab-badge.svg\" alt=\"Open In Colab\"/></a>"
      ]
    },
    {
      "cell_type": "markdown",
      "metadata": {
        "id": "YQbKQ02SOvek"
      },
      "source": [
        "# Project: Predict the popularity of COVID-19-related tweets in terms of the number of their retweets\n",
        "\n",
        "\n",
        "\n",
        "**Project Objective**\n",
        "\n",
        "\n",
        "**Project Guide**\n",
        "\n",
        "The goal of this project is achieved by employing the life cycle of a Data Science Project. The cycle consists of the phases below:\n",
        "\n",
        "\n",
        "1.   Business Understanding\n",
        "2.   Data Understanding \n",
        " *   Data Collection\n",
        "    \n",
        "3.   Data preperation   \n",
        "4.   Exploratory Data Analysis\n",
        "5.   Data Modelling\n",
        "6.   Model Evaluation \n"
      ]
    },
    {
      "cell_type": "markdown",
      "metadata": {
        "id": "qaWbQJ-ugeAn"
      },
      "source": [
        "## **1. Phase 1: Business Understanding**\n",
        "\n",
        "The aim of this project is to **predict the popularity of COVID-19-related tweets in terms of the number of their retweets**. Basically, we will predict a tweet’s popularity using the number of its retweets as influenced by other factors that relate to it."
      ]
    },
    {
      "cell_type": "markdown",
      "metadata": {
        "id": "oJNLSBuAx5j7"
      },
      "source": [
        "# **2. Phase 2: Data Collection**"
      ]
    },
    {
      "cell_type": "code",
      "execution_count": 1,
      "metadata": {
        "id": "B7UR1wDxzHHD"
      },
      "outputs": [],
      "source": [
        "# Setting up required packages and dependecies\n",
        "\n",
        "import sys # give access to variables and functions that interact strongly with interpreter\n",
        "import matplotlib.pyplot as plt #to plot graphs and histograms\n",
        "%matplotlib inline\n",
        "import numpy as np #for linear algebra\n",
        "from scipy.stats import randint\n",
        "import pandas as pd #processing the datasets, CSV file I/O\n",
        "import seaborn as sbn #to plot interactive graphs"
      ]
    },
    {
      "cell_type": "code",
      "execution_count": 2,
      "metadata": {
        "colab": {
          "base_uri": "https://localhost:8080/"
        },
        "id": "gIP302Qz6V7v",
        "outputId": "cfffbbf6-518e-4018-d26c-07f3125a8b2d"
      },
      "outputs": [
        {
          "output_type": "stream",
          "name": "stdout",
          "text": [
            "Drive already mounted at /content/drive; to attempt to forcibly remount, call drive.mount(\"/content/drive\", force_remount=True).\n"
          ]
        }
      ],
      "source": [
        "#mounting drive to google colab\n",
        "\n",
        "from google.colab import drive\n",
        "drive.mount('/content/drive')"
      ]
    },
    {
      "cell_type": "code",
      "execution_count": 3,
      "metadata": {
        "id": "t9ThDWN765PF"
      },
      "outputs": [],
      "source": [
        "#loading the dataset to be used as a data frame called tw_export_df\n",
        "tw_export_df = pd.read_excel('/content/drive/MyDrive/tw_export.xlsx')"
      ]
    },
    {
      "cell_type": "code",
      "execution_count": 4,
      "metadata": {
        "colab": {
          "base_uri": "https://localhost:8080/",
          "height": 1000
        },
        "id": "hLDAYhnc9e_j",
        "outputId": "840c7276-b60e-4d83-bc72-2fea7a155fd7"
      },
      "outputs": [
        {
          "output_type": "execute_result",
          "data": {
            "text/plain": [
              "           Tweet ID                          Username  \\\n",
              "68671  1.184785e+18  191634f54c12459cd1dc194d187c5191   \n",
              "69402  1.185497e+18  fe78a05ea81a784cb3acd5b5e103e89d   \n",
              "70917  1.186935e+18  923f1d411f66bf08b661f8381d9de978   \n",
              "70672  1.186734e+18  142dbadbc79a64080f4a53f2c7878c4d   \n",
              "64493  1.181185e+18  384ac89f3216a85b21b7e8e64ead5ee1   \n",
              "99501  1.179091e+18  6d01813fc6299aded2498e71bd292f52   \n",
              "33434  1.186659e+18  a2bcd2cfcf052870853eaf1bf2f6ec1d   \n",
              "15828  1.181896e+18  44abf4954f7979c6a05f79b3860702b2   \n",
              "6603   1.184638e+18  228c81699af9d8e3e309e904a836c634   \n",
              "28930  1.182430e+18  2fdf9df399597b6133d09d9a84c4cc11   \n",
              "7849   1.185833e+18  4ddde7b549f19dc3a109d5000bab79cd   \n",
              "54944  1.183751e+18  a79a7226e69faa661cad3af2cdbdd955   \n",
              "53794  1.182658e+18  07f058da27bd30f729ed48b81b2939ef   \n",
              "18550  1.184280e+18  5b4b07da901cfe7316c446aac8a4f1a8   \n",
              "22591  1.188048e+18  1c521ec9f4872cec0daaec7759519025   \n",
              "45108  1.185972e+18  f48512218a4dd6309b5cde8bea5c0622   \n",
              "28907  1.182412e+18  cd9a95f21956b7baf1d40ed3004d97f7   \n",
              "72196  1.188104e+18  5473d4a304064a3b54ad088ce7d87801   \n",
              "38538  1.180067e+18  7c770cdc2917364d2a49c1982e42ee51   \n",
              "62569  1.179452e+18  872537d49f924a1706d8ddd5cfa8a0c0   \n",
              "16466  1.182406e+18  03601af1ca06f3278c87682b9e73c568   \n",
              "57893  1.186504e+18  7e29cacd5ca450ad16a6666d64315000   \n",
              "38334  1.179875e+18  c6fd4f3b825269fa08628ef05ca18f34   \n",
              "79008  1.182879e+18  d90a17384e7a6d8ade920607774420e2   \n",
              "35039  1.188073e+18  c192ae6e0dac9518eb507ff2bcb53c28   \n",
              "\n",
              "                            Timestamp  #Followers  #Friends  #Retweets  \\\n",
              "68671  Thu Oct 17 10:56:43 +0000 2019        5660      2969          0   \n",
              "69402  Sat Oct 19 10:02:49 +0000 2019         719       999         25   \n",
              "70917  Wed Oct 23 09:18:26 +0000 2019        3804      4458          0   \n",
              "70672  Tue Oct 22 19:59:07 +0000 2019        2625      3478          0   \n",
              "64493  Mon Oct 07 12:30:27 +0000 2019         114       100          0   \n",
              "99501  Tue Oct 01 17:49:17 +0000 2019       65079      7439         13   \n",
              "33434  Tue Oct 22 15:00:38 +0000 2019        4517      2817         98   \n",
              "15828  Wed Oct 09 11:34:03 +0000 2019          32       391          0   \n",
              "6603   Thu Oct 17 01:09:53 +0000 2019          24         8          0   \n",
              "28930  Thu Oct 10 22:59:01 +0000 2019         884       885          0   \n",
              "7849   Sun Oct 20 08:19:59 +0000 2019       13586     11892         14   \n",
              "54944  Mon Oct 14 14:28:32 +0000 2019        2369      1499          1   \n",
              "53794  Fri Oct 11 14:05:12 +0000 2019          43        73          0   \n",
              "18550  Wed Oct 16 01:27:48 +0000 2019      229787       130        109   \n",
              "22591  Sat Oct 26 11:01:54 +0000 2019         503      1174          6   \n",
              "45108  Sun Oct 20 17:33:49 +0000 2019        4977       311         25   \n",
              "28907  Thu Oct 10 21:45:26 +0000 2019          29       116          0   \n",
              "72196  Sat Oct 26 14:45:29 +0000 2019      556863       630         80   \n",
              "38538  Fri Oct 04 10:29:33 +0000 2019      100647         2          6   \n",
              "62569  Wed Oct 02 17:42:45 +0000 2019         922       471         40   \n",
              "16466  Thu Oct 10 21:23:16 +0000 2019         389      1454          0   \n",
              "57893  Tue Oct 22 04:46:11 +0000 2019        2042       619          6   \n",
              "38334  Thu Oct 03 21:42:56 +0000 2019       20087       998        103   \n",
              "79008  Sat Oct 12 04:40:08 +0000 2019         729        97          0   \n",
              "35039  Sat Oct 26 12:42:22 +0000 2019         400       304         24   \n",
              "\n",
              "       #Favorites                                           Entities  \\\n",
              "68671           0                                              null;   \n",
              "69402           6                                              null;   \n",
              "70917           0  brexit:Brexit:-1.582809637810362;businessinsid...   \n",
              "70672           0                                              null;   \n",
              "64493           0                                              null;   \n",
              "99501          20                    radar:Radar:-2.640704400881144;   \n",
              "33434         119  bts:BTS:-1.442639753934362;mono:Monaural:-2.70...   \n",
              "15828           0                                              null;   \n",
              "6603            0  that s so raven:That%27s_So_Raven:-0.834289754...   \n",
              "28930           0                                              null;   \n",
              "7849           34  bernie sanders:Bernie_Sanders:-0.9809686724194...   \n",
              "54944           2  xi jinping:Xi_Jinping:-0.7756868735617743;tort...   \n",
              "53794           0  a single man:A_Single_Man:-1.730653592413413;c...   \n",
              "18550         683  kapil dev:Kapil_Dev:-0.7105012965032218;faisal...   \n",
              "22591           2                                              null;   \n",
              "45108         135                                              null;   \n",
              "28907           0          subversion:Subversion:-2.885642855966303;   \n",
              "72196        1142                  lawyer:Lawyer:-2.714907388380583;   \n",
              "38538          13                                              null;   \n",
              "62569          68                nu est:NU%27EST:-1.130872188374357;   \n",
              "16466           0                                              null;   \n",
              "57893          95  justin trudeau:Justin_Trudeau:-0.7079266810747...   \n",
              "38334        1324                                              null;   \n",
              "79008           0                                              null;   \n",
              "35039          64  gwyneth paltrow:Gwyneth_Paltrow:-0.69720380504...   \n",
              "\n",
              "      Sentiment                                           Mentions  \\\n",
              "68671      2 -1                                          HossamAbz   \n",
              "69402      3 -1                                              null;   \n",
              "70917      1 -1                                    businessinsider   \n",
              "70672      1 -2  warrclwgmailco1 Larry55872287 NanetteDonnelly ...   \n",
              "64493      2 -1            maskdtheologian m_terrence_ Trads4Trump   \n",
              "99501      1 -4                                              null;   \n",
              "33434      3 -1                               BTS_twt kimparkdaily   \n",
              "15828      1 -1                        KerrangMagazine leonagraham   \n",
              "6603       2 -1                                              null;   \n",
              "28930      2 -1                                              null;   \n",
              "7849       1 -1                                            MMFlint   \n",
              "54944      1 -4                                              null;   \n",
              "53794      1 -1                                    michaeljknowles   \n",
              "18550      1 -2                                                NaN   \n",
              "22591      1 -1                          RajkummarRao narendramodi   \n",
              "45108      3 -1                                              null;   \n",
              "28907      1 -3                                        SpanishDan1   \n",
              "72196      2 -1                                              null;   \n",
              "38538      1 -1                                              null;   \n",
              "62569      3 -1                                              null;   \n",
              "16466      2 -1                                              null;   \n",
              "57893      1 -4                      realDonaldTrump JustinTrudeau   \n",
              "38334      2 -1                                              null;   \n",
              "79008      1 -1                                              null;   \n",
              "35039      1 -1                                              null;   \n",
              "\n",
              "                                        Hashtags  \\\n",
              "68671                                      null;   \n",
              "69402                    BhuttoBhagaoSindhBachao   \n",
              "70917                                      null;   \n",
              "70672                                      null;   \n",
              "64493                                      null;   \n",
              "99501                                      null;   \n",
              "33434                 ILoveYouSoRM 1YearWithMono   \n",
              "15828                                       ACDC   \n",
              "6603                             TheMaskedSinger   \n",
              "28930                                      null;   \n",
              "7849                                  Bernie2020   \n",
              "54944                                      null;   \n",
              "53794                                      null;   \n",
              "18550                                      null;   \n",
              "22591  IndiaWaliDiwali PMCBankcrises BlackDiwali   \n",
              "45108                 DOTUS ServiceDogsAreHeroes   \n",
              "28907                                      null;   \n",
              "72196                                      null;   \n",
              "38538                                      null;   \n",
              "62569                                      null;   \n",
              "16466                                      null;   \n",
              "57893                                      null;   \n",
              "38334                                      null;   \n",
              "79008                                      null;   \n",
              "35039                                      null;   \n",
              "\n",
              "                                                    URLs  \n",
              "68671                                              null;  \n",
              "69402                                              null;  \n",
              "70917  https://www.businessinsider.com/boris-johnson-...  \n",
              "70672                                              null;  \n",
              "64493                                              null;  \n",
              "99501  https://www.counterpunch.org/2019/10/01/how-th...  \n",
              "33434                                              null;  \n",
              "15828                                              null;  \n",
              "6603                                               null;  \n",
              "28930                                              null;  \n",
              "7849                                               null;  \n",
              "54944  https://twitter.com/GordonGChang/status/118372...  \n",
              "53794                                              null;  \n",
              "18550                                              null;  \n",
              "22591  https://twitter.com/rajkummarrao/status/118763...  \n",
              "45108  https://twitter.com/schuylerannemac/status/118...  \n",
              "28907                                              null;  \n",
              "72196  https://twitter.com/realdonaldtrump/status/118...  \n",
              "38538                                              null;  \n",
              "62569                                              null;  \n",
              "16466                                              null;  \n",
              "57893                                              null;  \n",
              "38334                                              null;  \n",
              "79008                                              null;  \n",
              "35039                                              null;  "
            ],
            "text/html": [
              "\n",
              "  <div id=\"df-014595c6-115d-4f33-92ab-fb4eca7f734d\">\n",
              "    <div class=\"colab-df-container\">\n",
              "      <div>\n",
              "<style scoped>\n",
              "    .dataframe tbody tr th:only-of-type {\n",
              "        vertical-align: middle;\n",
              "    }\n",
              "\n",
              "    .dataframe tbody tr th {\n",
              "        vertical-align: top;\n",
              "    }\n",
              "\n",
              "    .dataframe thead th {\n",
              "        text-align: right;\n",
              "    }\n",
              "</style>\n",
              "<table border=\"1\" class=\"dataframe\">\n",
              "  <thead>\n",
              "    <tr style=\"text-align: right;\">\n",
              "      <th></th>\n",
              "      <th>Tweet ID</th>\n",
              "      <th>Username</th>\n",
              "      <th>Timestamp</th>\n",
              "      <th>#Followers</th>\n",
              "      <th>#Friends</th>\n",
              "      <th>#Retweets</th>\n",
              "      <th>#Favorites</th>\n",
              "      <th>Entities</th>\n",
              "      <th>Sentiment</th>\n",
              "      <th>Mentions</th>\n",
              "      <th>Hashtags</th>\n",
              "      <th>URLs</th>\n",
              "    </tr>\n",
              "  </thead>\n",
              "  <tbody>\n",
              "    <tr>\n",
              "      <th>68671</th>\n",
              "      <td>1.184785e+18</td>\n",
              "      <td>191634f54c12459cd1dc194d187c5191</td>\n",
              "      <td>Thu Oct 17 10:56:43 +0000 2019</td>\n",
              "      <td>5660</td>\n",
              "      <td>2969</td>\n",
              "      <td>0</td>\n",
              "      <td>0</td>\n",
              "      <td>null;</td>\n",
              "      <td>2 -1</td>\n",
              "      <td>HossamAbz</td>\n",
              "      <td>null;</td>\n",
              "      <td>null;</td>\n",
              "    </tr>\n",
              "    <tr>\n",
              "      <th>69402</th>\n",
              "      <td>1.185497e+18</td>\n",
              "      <td>fe78a05ea81a784cb3acd5b5e103e89d</td>\n",
              "      <td>Sat Oct 19 10:02:49 +0000 2019</td>\n",
              "      <td>719</td>\n",
              "      <td>999</td>\n",
              "      <td>25</td>\n",
              "      <td>6</td>\n",
              "      <td>null;</td>\n",
              "      <td>3 -1</td>\n",
              "      <td>null;</td>\n",
              "      <td>BhuttoBhagaoSindhBachao</td>\n",
              "      <td>null;</td>\n",
              "    </tr>\n",
              "    <tr>\n",
              "      <th>70917</th>\n",
              "      <td>1.186935e+18</td>\n",
              "      <td>923f1d411f66bf08b661f8381d9de978</td>\n",
              "      <td>Wed Oct 23 09:18:26 +0000 2019</td>\n",
              "      <td>3804</td>\n",
              "      <td>4458</td>\n",
              "      <td>0</td>\n",
              "      <td>0</td>\n",
              "      <td>brexit:Brexit:-1.582809637810362;businessinsid...</td>\n",
              "      <td>1 -1</td>\n",
              "      <td>businessinsider</td>\n",
              "      <td>null;</td>\n",
              "      <td>https://www.businessinsider.com/boris-johnson-...</td>\n",
              "    </tr>\n",
              "    <tr>\n",
              "      <th>70672</th>\n",
              "      <td>1.186734e+18</td>\n",
              "      <td>142dbadbc79a64080f4a53f2c7878c4d</td>\n",
              "      <td>Tue Oct 22 19:59:07 +0000 2019</td>\n",
              "      <td>2625</td>\n",
              "      <td>3478</td>\n",
              "      <td>0</td>\n",
              "      <td>0</td>\n",
              "      <td>null;</td>\n",
              "      <td>1 -2</td>\n",
              "      <td>warrclwgmailco1 Larry55872287 NanetteDonnelly ...</td>\n",
              "      <td>null;</td>\n",
              "      <td>null;</td>\n",
              "    </tr>\n",
              "    <tr>\n",
              "      <th>64493</th>\n",
              "      <td>1.181185e+18</td>\n",
              "      <td>384ac89f3216a85b21b7e8e64ead5ee1</td>\n",
              "      <td>Mon Oct 07 12:30:27 +0000 2019</td>\n",
              "      <td>114</td>\n",
              "      <td>100</td>\n",
              "      <td>0</td>\n",
              "      <td>0</td>\n",
              "      <td>null;</td>\n",
              "      <td>2 -1</td>\n",
              "      <td>maskdtheologian m_terrence_ Trads4Trump</td>\n",
              "      <td>null;</td>\n",
              "      <td>null;</td>\n",
              "    </tr>\n",
              "    <tr>\n",
              "      <th>99501</th>\n",
              "      <td>1.179091e+18</td>\n",
              "      <td>6d01813fc6299aded2498e71bd292f52</td>\n",
              "      <td>Tue Oct 01 17:49:17 +0000 2019</td>\n",
              "      <td>65079</td>\n",
              "      <td>7439</td>\n",
              "      <td>13</td>\n",
              "      <td>20</td>\n",
              "      <td>radar:Radar:-2.640704400881144;</td>\n",
              "      <td>1 -4</td>\n",
              "      <td>null;</td>\n",
              "      <td>null;</td>\n",
              "      <td>https://www.counterpunch.org/2019/10/01/how-th...</td>\n",
              "    </tr>\n",
              "    <tr>\n",
              "      <th>33434</th>\n",
              "      <td>1.186659e+18</td>\n",
              "      <td>a2bcd2cfcf052870853eaf1bf2f6ec1d</td>\n",
              "      <td>Tue Oct 22 15:00:38 +0000 2019</td>\n",
              "      <td>4517</td>\n",
              "      <td>2817</td>\n",
              "      <td>98</td>\n",
              "      <td>119</td>\n",
              "      <td>bts:BTS:-1.442639753934362;mono:Monaural:-2.70...</td>\n",
              "      <td>3 -1</td>\n",
              "      <td>BTS_twt kimparkdaily</td>\n",
              "      <td>ILoveYouSoRM 1YearWithMono</td>\n",
              "      <td>null;</td>\n",
              "    </tr>\n",
              "    <tr>\n",
              "      <th>15828</th>\n",
              "      <td>1.181896e+18</td>\n",
              "      <td>44abf4954f7979c6a05f79b3860702b2</td>\n",
              "      <td>Wed Oct 09 11:34:03 +0000 2019</td>\n",
              "      <td>32</td>\n",
              "      <td>391</td>\n",
              "      <td>0</td>\n",
              "      <td>0</td>\n",
              "      <td>null;</td>\n",
              "      <td>1 -1</td>\n",
              "      <td>KerrangMagazine leonagraham</td>\n",
              "      <td>ACDC</td>\n",
              "      <td>null;</td>\n",
              "    </tr>\n",
              "    <tr>\n",
              "      <th>6603</th>\n",
              "      <td>1.184638e+18</td>\n",
              "      <td>228c81699af9d8e3e309e904a836c634</td>\n",
              "      <td>Thu Oct 17 01:09:53 +0000 2019</td>\n",
              "      <td>24</td>\n",
              "      <td>8</td>\n",
              "      <td>0</td>\n",
              "      <td>0</td>\n",
              "      <td>that s so raven:That%27s_So_Raven:-0.834289754...</td>\n",
              "      <td>2 -1</td>\n",
              "      <td>null;</td>\n",
              "      <td>TheMaskedSinger</td>\n",
              "      <td>null;</td>\n",
              "    </tr>\n",
              "    <tr>\n",
              "      <th>28930</th>\n",
              "      <td>1.182430e+18</td>\n",
              "      <td>2fdf9df399597b6133d09d9a84c4cc11</td>\n",
              "      <td>Thu Oct 10 22:59:01 +0000 2019</td>\n",
              "      <td>884</td>\n",
              "      <td>885</td>\n",
              "      <td>0</td>\n",
              "      <td>0</td>\n",
              "      <td>null;</td>\n",
              "      <td>2 -1</td>\n",
              "      <td>null;</td>\n",
              "      <td>null;</td>\n",
              "      <td>null;</td>\n",
              "    </tr>\n",
              "    <tr>\n",
              "      <th>7849</th>\n",
              "      <td>1.185833e+18</td>\n",
              "      <td>4ddde7b549f19dc3a109d5000bab79cd</td>\n",
              "      <td>Sun Oct 20 08:19:59 +0000 2019</td>\n",
              "      <td>13586</td>\n",
              "      <td>11892</td>\n",
              "      <td>14</td>\n",
              "      <td>34</td>\n",
              "      <td>bernie sanders:Bernie_Sanders:-0.9809686724194...</td>\n",
              "      <td>1 -1</td>\n",
              "      <td>MMFlint</td>\n",
              "      <td>Bernie2020</td>\n",
              "      <td>null;</td>\n",
              "    </tr>\n",
              "    <tr>\n",
              "      <th>54944</th>\n",
              "      <td>1.183751e+18</td>\n",
              "      <td>a79a7226e69faa661cad3af2cdbdd955</td>\n",
              "      <td>Mon Oct 14 14:28:32 +0000 2019</td>\n",
              "      <td>2369</td>\n",
              "      <td>1499</td>\n",
              "      <td>1</td>\n",
              "      <td>2</td>\n",
              "      <td>xi jinping:Xi_Jinping:-0.7756868735617743;tort...</td>\n",
              "      <td>1 -4</td>\n",
              "      <td>null;</td>\n",
              "      <td>null;</td>\n",
              "      <td>https://twitter.com/GordonGChang/status/118372...</td>\n",
              "    </tr>\n",
              "    <tr>\n",
              "      <th>53794</th>\n",
              "      <td>1.182658e+18</td>\n",
              "      <td>07f058da27bd30f729ed48b81b2939ef</td>\n",
              "      <td>Fri Oct 11 14:05:12 +0000 2019</td>\n",
              "      <td>43</td>\n",
              "      <td>73</td>\n",
              "      <td>0</td>\n",
              "      <td>0</td>\n",
              "      <td>a single man:A_Single_Man:-1.730653592413413;c...</td>\n",
              "      <td>1 -1</td>\n",
              "      <td>michaeljknowles</td>\n",
              "      <td>null;</td>\n",
              "      <td>null;</td>\n",
              "    </tr>\n",
              "    <tr>\n",
              "      <th>18550</th>\n",
              "      <td>1.184280e+18</td>\n",
              "      <td>5b4b07da901cfe7316c446aac8a4f1a8</td>\n",
              "      <td>Wed Oct 16 01:27:48 +0000 2019</td>\n",
              "      <td>229787</td>\n",
              "      <td>130</td>\n",
              "      <td>109</td>\n",
              "      <td>683</td>\n",
              "      <td>kapil dev:Kapil_Dev:-0.7105012965032218;faisal...</td>\n",
              "      <td>1 -2</td>\n",
              "      <td>NaN</td>\n",
              "      <td>null;</td>\n",
              "      <td>null;</td>\n",
              "    </tr>\n",
              "    <tr>\n",
              "      <th>22591</th>\n",
              "      <td>1.188048e+18</td>\n",
              "      <td>1c521ec9f4872cec0daaec7759519025</td>\n",
              "      <td>Sat Oct 26 11:01:54 +0000 2019</td>\n",
              "      <td>503</td>\n",
              "      <td>1174</td>\n",
              "      <td>6</td>\n",
              "      <td>2</td>\n",
              "      <td>null;</td>\n",
              "      <td>1 -1</td>\n",
              "      <td>RajkummarRao narendramodi</td>\n",
              "      <td>IndiaWaliDiwali PMCBankcrises BlackDiwali</td>\n",
              "      <td>https://twitter.com/rajkummarrao/status/118763...</td>\n",
              "    </tr>\n",
              "    <tr>\n",
              "      <th>45108</th>\n",
              "      <td>1.185972e+18</td>\n",
              "      <td>f48512218a4dd6309b5cde8bea5c0622</td>\n",
              "      <td>Sun Oct 20 17:33:49 +0000 2019</td>\n",
              "      <td>4977</td>\n",
              "      <td>311</td>\n",
              "      <td>25</td>\n",
              "      <td>135</td>\n",
              "      <td>null;</td>\n",
              "      <td>3 -1</td>\n",
              "      <td>null;</td>\n",
              "      <td>DOTUS ServiceDogsAreHeroes</td>\n",
              "      <td>https://twitter.com/schuylerannemac/status/118...</td>\n",
              "    </tr>\n",
              "    <tr>\n",
              "      <th>28907</th>\n",
              "      <td>1.182412e+18</td>\n",
              "      <td>cd9a95f21956b7baf1d40ed3004d97f7</td>\n",
              "      <td>Thu Oct 10 21:45:26 +0000 2019</td>\n",
              "      <td>29</td>\n",
              "      <td>116</td>\n",
              "      <td>0</td>\n",
              "      <td>0</td>\n",
              "      <td>subversion:Subversion:-2.885642855966303;</td>\n",
              "      <td>1 -3</td>\n",
              "      <td>SpanishDan1</td>\n",
              "      <td>null;</td>\n",
              "      <td>null;</td>\n",
              "    </tr>\n",
              "    <tr>\n",
              "      <th>72196</th>\n",
              "      <td>1.188104e+18</td>\n",
              "      <td>5473d4a304064a3b54ad088ce7d87801</td>\n",
              "      <td>Sat Oct 26 14:45:29 +0000 2019</td>\n",
              "      <td>556863</td>\n",
              "      <td>630</td>\n",
              "      <td>80</td>\n",
              "      <td>1142</td>\n",
              "      <td>lawyer:Lawyer:-2.714907388380583;</td>\n",
              "      <td>2 -1</td>\n",
              "      <td>null;</td>\n",
              "      <td>null;</td>\n",
              "      <td>https://twitter.com/realdonaldtrump/status/118...</td>\n",
              "    </tr>\n",
              "    <tr>\n",
              "      <th>38538</th>\n",
              "      <td>1.180067e+18</td>\n",
              "      <td>7c770cdc2917364d2a49c1982e42ee51</td>\n",
              "      <td>Fri Oct 04 10:29:33 +0000 2019</td>\n",
              "      <td>100647</td>\n",
              "      <td>2</td>\n",
              "      <td>6</td>\n",
              "      <td>13</td>\n",
              "      <td>null;</td>\n",
              "      <td>1 -1</td>\n",
              "      <td>null;</td>\n",
              "      <td>null;</td>\n",
              "      <td>null;</td>\n",
              "    </tr>\n",
              "    <tr>\n",
              "      <th>62569</th>\n",
              "      <td>1.179452e+18</td>\n",
              "      <td>872537d49f924a1706d8ddd5cfa8a0c0</td>\n",
              "      <td>Wed Oct 02 17:42:45 +0000 2019</td>\n",
              "      <td>922</td>\n",
              "      <td>471</td>\n",
              "      <td>40</td>\n",
              "      <td>68</td>\n",
              "      <td>nu est:NU%27EST:-1.130872188374357;</td>\n",
              "      <td>3 -1</td>\n",
              "      <td>null;</td>\n",
              "      <td>null;</td>\n",
              "      <td>null;</td>\n",
              "    </tr>\n",
              "    <tr>\n",
              "      <th>16466</th>\n",
              "      <td>1.182406e+18</td>\n",
              "      <td>03601af1ca06f3278c87682b9e73c568</td>\n",
              "      <td>Thu Oct 10 21:23:16 +0000 2019</td>\n",
              "      <td>389</td>\n",
              "      <td>1454</td>\n",
              "      <td>0</td>\n",
              "      <td>0</td>\n",
              "      <td>null;</td>\n",
              "      <td>2 -1</td>\n",
              "      <td>null;</td>\n",
              "      <td>null;</td>\n",
              "      <td>null;</td>\n",
              "    </tr>\n",
              "    <tr>\n",
              "      <th>57893</th>\n",
              "      <td>1.186504e+18</td>\n",
              "      <td>7e29cacd5ca450ad16a6666d64315000</td>\n",
              "      <td>Tue Oct 22 04:46:11 +0000 2019</td>\n",
              "      <td>2042</td>\n",
              "      <td>619</td>\n",
              "      <td>6</td>\n",
              "      <td>95</td>\n",
              "      <td>justin trudeau:Justin_Trudeau:-0.7079266810747...</td>\n",
              "      <td>1 -4</td>\n",
              "      <td>realDonaldTrump JustinTrudeau</td>\n",
              "      <td>null;</td>\n",
              "      <td>null;</td>\n",
              "    </tr>\n",
              "    <tr>\n",
              "      <th>38334</th>\n",
              "      <td>1.179875e+18</td>\n",
              "      <td>c6fd4f3b825269fa08628ef05ca18f34</td>\n",
              "      <td>Thu Oct 03 21:42:56 +0000 2019</td>\n",
              "      <td>20087</td>\n",
              "      <td>998</td>\n",
              "      <td>103</td>\n",
              "      <td>1324</td>\n",
              "      <td>null;</td>\n",
              "      <td>2 -1</td>\n",
              "      <td>null;</td>\n",
              "      <td>null;</td>\n",
              "      <td>null;</td>\n",
              "    </tr>\n",
              "    <tr>\n",
              "      <th>79008</th>\n",
              "      <td>1.182879e+18</td>\n",
              "      <td>d90a17384e7a6d8ade920607774420e2</td>\n",
              "      <td>Sat Oct 12 04:40:08 +0000 2019</td>\n",
              "      <td>729</td>\n",
              "      <td>97</td>\n",
              "      <td>0</td>\n",
              "      <td>0</td>\n",
              "      <td>null;</td>\n",
              "      <td>1 -1</td>\n",
              "      <td>null;</td>\n",
              "      <td>null;</td>\n",
              "      <td>null;</td>\n",
              "    </tr>\n",
              "    <tr>\n",
              "      <th>35039</th>\n",
              "      <td>1.188073e+18</td>\n",
              "      <td>c192ae6e0dac9518eb507ff2bcb53c28</td>\n",
              "      <td>Sat Oct 26 12:42:22 +0000 2019</td>\n",
              "      <td>400</td>\n",
              "      <td>304</td>\n",
              "      <td>24</td>\n",
              "      <td>64</td>\n",
              "      <td>gwyneth paltrow:Gwyneth_Paltrow:-0.69720380504...</td>\n",
              "      <td>1 -1</td>\n",
              "      <td>null;</td>\n",
              "      <td>null;</td>\n",
              "      <td>null;</td>\n",
              "    </tr>\n",
              "  </tbody>\n",
              "</table>\n",
              "</div>\n",
              "      <button class=\"colab-df-convert\" onclick=\"convertToInteractive('df-014595c6-115d-4f33-92ab-fb4eca7f734d')\"\n",
              "              title=\"Convert this dataframe to an interactive table.\"\n",
              "              style=\"display:none;\">\n",
              "        \n",
              "  <svg xmlns=\"http://www.w3.org/2000/svg\" height=\"24px\"viewBox=\"0 0 24 24\"\n",
              "       width=\"24px\">\n",
              "    <path d=\"M0 0h24v24H0V0z\" fill=\"none\"/>\n",
              "    <path d=\"M18.56 5.44l.94 2.06.94-2.06 2.06-.94-2.06-.94-.94-2.06-.94 2.06-2.06.94zm-11 1L8.5 8.5l.94-2.06 2.06-.94-2.06-.94L8.5 2.5l-.94 2.06-2.06.94zm10 10l.94 2.06.94-2.06 2.06-.94-2.06-.94-.94-2.06-.94 2.06-2.06.94z\"/><path d=\"M17.41 7.96l-1.37-1.37c-.4-.4-.92-.59-1.43-.59-.52 0-1.04.2-1.43.59L10.3 9.45l-7.72 7.72c-.78.78-.78 2.05 0 2.83L4 21.41c.39.39.9.59 1.41.59.51 0 1.02-.2 1.41-.59l7.78-7.78 2.81-2.81c.8-.78.8-2.07 0-2.86zM5.41 20L4 18.59l7.72-7.72 1.47 1.35L5.41 20z\"/>\n",
              "  </svg>\n",
              "      </button>\n",
              "      \n",
              "  <style>\n",
              "    .colab-df-container {\n",
              "      display:flex;\n",
              "      flex-wrap:wrap;\n",
              "      gap: 12px;\n",
              "    }\n",
              "\n",
              "    .colab-df-convert {\n",
              "      background-color: #E8F0FE;\n",
              "      border: none;\n",
              "      border-radius: 50%;\n",
              "      cursor: pointer;\n",
              "      display: none;\n",
              "      fill: #1967D2;\n",
              "      height: 32px;\n",
              "      padding: 0 0 0 0;\n",
              "      width: 32px;\n",
              "    }\n",
              "\n",
              "    .colab-df-convert:hover {\n",
              "      background-color: #E2EBFA;\n",
              "      box-shadow: 0px 1px 2px rgba(60, 64, 67, 0.3), 0px 1px 3px 1px rgba(60, 64, 67, 0.15);\n",
              "      fill: #174EA6;\n",
              "    }\n",
              "\n",
              "    [theme=dark] .colab-df-convert {\n",
              "      background-color: #3B4455;\n",
              "      fill: #D2E3FC;\n",
              "    }\n",
              "\n",
              "    [theme=dark] .colab-df-convert:hover {\n",
              "      background-color: #434B5C;\n",
              "      box-shadow: 0px 1px 3px 1px rgba(0, 0, 0, 0.15);\n",
              "      filter: drop-shadow(0px 1px 2px rgba(0, 0, 0, 0.3));\n",
              "      fill: #FFFFFF;\n",
              "    }\n",
              "  </style>\n",
              "\n",
              "      <script>\n",
              "        const buttonEl =\n",
              "          document.querySelector('#df-014595c6-115d-4f33-92ab-fb4eca7f734d button.colab-df-convert');\n",
              "        buttonEl.style.display =\n",
              "          google.colab.kernel.accessAllowed ? 'block' : 'none';\n",
              "\n",
              "        async function convertToInteractive(key) {\n",
              "          const element = document.querySelector('#df-014595c6-115d-4f33-92ab-fb4eca7f734d');\n",
              "          const dataTable =\n",
              "            await google.colab.kernel.invokeFunction('convertToInteractive',\n",
              "                                                     [key], {});\n",
              "          if (!dataTable) return;\n",
              "\n",
              "          const docLinkHtml = 'Like what you see? Visit the ' +\n",
              "            '<a target=\"_blank\" href=https://colab.research.google.com/notebooks/data_table.ipynb>data table notebook</a>'\n",
              "            + ' to learn more about interactive tables.';\n",
              "          element.innerHTML = '';\n",
              "          dataTable['output_type'] = 'display_data';\n",
              "          await google.colab.output.renderOutput(dataTable, element);\n",
              "          const docLink = document.createElement('div');\n",
              "          docLink.innerHTML = docLinkHtml;\n",
              "          element.appendChild(docLink);\n",
              "        }\n",
              "      </script>\n",
              "    </div>\n",
              "  </div>\n",
              "  "
            ]
          },
          "metadata": {},
          "execution_count": 4
        }
      ],
      "source": [
        "#printing a sample of the dataset as a dataframe\n",
        "tw_export_df.sample(25)"
      ]
    },
    {
      "cell_type": "markdown",
      "metadata": {
        "id": "MhPx8j7yx_31"
      },
      "source": [
        "# **3. Phase 3: Data Preparation -- *Data cleaning**"
      ]
    },
    {
      "cell_type": "markdown",
      "metadata": {
        "id": "hGIYUWxVBJ2K"
      },
      "source": [
        "\n",
        "After making a copy of the dataframe, this section will be guided by the following steps: \n",
        "1. Renaming fields - Splitting the Sentiment column into Positive_sentiments and Negative_sentiments and casting these two columns datatypes as integer. \n",
        "2. Extracting the specific hour of the post and creating a new column Specific_hour\n",
        "3. Extracting the number of mentions and creating a new column Number_of_Mentions\n",
        "4. Extracting the number of hashtags and creating a new column Number_of_Hashtags\n",
        "5. After creating new columns from existing columns, these existing columns  (Sentiments, Timestamp, Mentions and Hashtags) are dropped. This will further improve the data's quality by making the data more accurate \n",
        "\n",
        "The cleaned dataframe is then saved as a new dataframe.\n",
        "\n"
      ]
    },
    {
      "cell_type": "markdown",
      "metadata": {
        "id": "c8aBfw7AsDor"
      },
      "source": [
        "* **Making a copy of the dataframe**"
      ]
    },
    {
      "cell_type": "code",
      "execution_count": 5,
      "metadata": {
        "id": "s6eZxssfsOBH"
      },
      "outputs": [],
      "source": [
        "# making a copy of tw_export_df the tw_export.xlsx dataset \n",
        "# creating a new data frame 'cleaning_df' and \n",
        "cleaning_df = tw_export_df.copy()"
      ]
    },
    {
      "cell_type": "code",
      "execution_count": 6,
      "metadata": {
        "colab": {
          "base_uri": "https://localhost:8080/"
        },
        "id": "Ql87NYMbBISx",
        "outputId": "c9edad0c-4c72-45ae-966d-44249b8fd768"
      },
      "outputs": [
        {
          "output_type": "stream",
          "name": "stdout",
          "text": [
            "<class 'pandas.core.frame.DataFrame'>\n",
            "RangeIndex: 100000 entries, 0 to 99999\n",
            "Data columns (total 12 columns):\n",
            " #   Column      Non-Null Count   Dtype  \n",
            "---  ------      --------------   -----  \n",
            " 0   Tweet ID    100000 non-null  float64\n",
            " 1   Username    100000 non-null  object \n",
            " 2   Timestamp   100000 non-null  object \n",
            " 3   #Followers  100000 non-null  int64  \n",
            " 4   #Friends    100000 non-null  int64  \n",
            " 5   #Retweets   100000 non-null  int64  \n",
            " 6   #Favorites  100000 non-null  int64  \n",
            " 7   Entities    100000 non-null  object \n",
            " 8   Sentiment   100000 non-null  object \n",
            " 9   Mentions    99767 non-null   object \n",
            " 10  Hashtags    99969 non-null   object \n",
            " 11  URLs        100000 non-null  object \n",
            "dtypes: float64(1), int64(4), object(7)\n",
            "memory usage: 9.2+ MB\n"
          ]
        }
      ],
      "source": [
        "# Gathering  the dataframe's information\n",
        "cleaning_df.info()"
      ]
    },
    {
      "cell_type": "markdown",
      "metadata": {
        "id": "97DLrRXuRFkP"
      },
      "source": [
        "## 3.1 Splitting Sentiment column into two columns Positive and Negative Sentiment"
      ]
    },
    {
      "cell_type": "code",
      "execution_count": 7,
      "metadata": {
        "id": "uOqEF6w4y5jM"
      },
      "outputs": [],
      "source": [
        "# Splitting Sentiment column and creating positive sentiment column\n",
        "cleaning_df[\"Positive_sentiments\"]=(cleaning_df.Sentiment.str.split(\" \").apply(lambda x: int(x[0])))\n",
        "\n",
        "# Splitting Sentiment column and creating negative sentiment column\n",
        "cleaning_df[\"Negative_sentiments\"]=(cleaning_df.Sentiment.str.split(\" \").apply(lambda x: int(x[1])))"
      ]
    },
    {
      "cell_type": "code",
      "execution_count": 8,
      "metadata": {
        "colab": {
          "base_uri": "https://localhost:8080/"
        },
        "id": "lJ68-1CHSUr0",
        "outputId": "a8a730f1-1fe3-4b68-f181-5155552c05b6"
      },
      "outputs": [
        {
          "output_type": "stream",
          "name": "stdout",
          "text": [
            "<class 'pandas.core.frame.DataFrame'>\n",
            "RangeIndex: 100000 entries, 0 to 99999\n",
            "Data columns (total 14 columns):\n",
            " #   Column               Non-Null Count   Dtype  \n",
            "---  ------               --------------   -----  \n",
            " 0   Tweet ID             100000 non-null  float64\n",
            " 1   Username             100000 non-null  object \n",
            " 2   Timestamp            100000 non-null  object \n",
            " 3   #Followers           100000 non-null  int64  \n",
            " 4   #Friends             100000 non-null  int64  \n",
            " 5   #Retweets            100000 non-null  int64  \n",
            " 6   #Favorites           100000 non-null  int64  \n",
            " 7   Entities             100000 non-null  object \n",
            " 8   Sentiment            100000 non-null  object \n",
            " 9   Mentions             99767 non-null   object \n",
            " 10  Hashtags             99969 non-null   object \n",
            " 11  URLs                 100000 non-null  object \n",
            " 12  Positive_sentiments  100000 non-null  int64  \n",
            " 13  Negative_sentiments  100000 non-null  int64  \n",
            "dtypes: float64(1), int64(6), object(7)\n",
            "memory usage: 10.7+ MB\n"
          ]
        }
      ],
      "source": [
        "#checking the dataframe's info after splitting sentiment column\n",
        "cleaning_df.info()"
      ]
    },
    {
      "cell_type": "markdown",
      "metadata": {
        "id": "aqu-_BxlVloX"
      },
      "source": [
        "##3.2 Extracting the specific hour of the post and creating a new column Specific_hour"
      ]
    },
    {
      "cell_type": "code",
      "execution_count": 9,
      "metadata": {
        "id": "Kn3g79L_V5v6"
      },
      "outputs": [],
      "source": [
        "# fetching exact hours from Timestamp column\n",
        "cleaning_df[\"Timestamp\"]=pd.to_datetime(cleaning_df.iloc[:,2]).apply(lambda x: x.hour)"
      ]
    },
    {
      "cell_type": "code",
      "execution_count": 10,
      "metadata": {
        "id": "9JmxL__5wl_p"
      },
      "outputs": [],
      "source": [
        "# renaming Timestamp column to Specific_hour\n",
        "cleaning_df.rename(columns = {\"Timestamp\":\"Specific_hour\"}, inplace = True)"
      ]
    },
    {
      "cell_type": "code",
      "execution_count": 11,
      "metadata": {
        "colab": {
          "base_uri": "https://localhost:8080/",
          "height": 288
        },
        "id": "_dKSATxKxoSq",
        "outputId": "b2f8c5e7-fdf2-463b-bba1-4184bbd476af"
      },
      "outputs": [
        {
          "output_type": "execute_result",
          "data": {
            "text/plain": [
              "           Tweet ID                          Username  Specific_hour  \\\n",
              "50914  1.180124e+18  d96f1313b195eb3adf1ab4b0a9835502             14   \n",
              "55685  1.184386e+18  17d9321965a36de06122ad6fddc0e676              8   \n",
              "63119  1.179923e+18  4e1df022d62d2dd81a87b3e356a3624f              0   \n",
              "55125  1.183891e+18  b21134f84416cbef7b42d3e0a5cde1cc             23   \n",
              "53819  1.182674e+18  afe46e28633a310c409f282da4a29d57             15   \n",
              "\n",
              "       #Followers  #Friends  #Retweets  #Favorites  \\\n",
              "50914          16       185          3           0   \n",
              "55685        2019       598          0           0   \n",
              "63119        1595      1646          0           0   \n",
              "55125        1649      3080          1           0   \n",
              "53819      116557      1653          2           1   \n",
              "\n",
              "                                                Entities Sentiment  \\\n",
              "50914  karimnagar:Karimnagar:-1.6508008386316866;niza...      1 -2   \n",
              "55685        tgifridays:TGI_Fridays:-2.9655942967204174;      1 -1   \n",
              "63119     oh no:Oh_No_%28musician%29:-2.208817867114626;      2 -1   \n",
              "55125  twitter:Twitter:-1.1708686827892931;nucleic ac...      1 -3   \n",
              "53819                                              null;      1 -2   \n",
              "\n",
              "         Mentions  Hashtags  \\\n",
              "50914       null;     null;   \n",
              "55685       null;     null;   \n",
              "63119  VOLoonatic     null;   \n",
              "55125       null;     null;   \n",
              "53819       null;  BREAKING   \n",
              "\n",
              "                                                    URLs  Positive_sentiments  \\\n",
              "50914  https://twitter.com/guptanagu8/status/11799690...                    1   \n",
              "55685                                              null;                    1   \n",
              "63119                                              null;                    2   \n",
              "55125                                              null;                    1   \n",
              "53819  https://www.theindychannel.com/news/national/t...                    1   \n",
              "\n",
              "       Negative_sentiments  \n",
              "50914                   -2  \n",
              "55685                   -1  \n",
              "63119                   -1  \n",
              "55125                   -3  \n",
              "53819                   -2  "
            ],
            "text/html": [
              "\n",
              "  <div id=\"df-d9acdbf4-f676-453b-a045-8c1f02daa55f\">\n",
              "    <div class=\"colab-df-container\">\n",
              "      <div>\n",
              "<style scoped>\n",
              "    .dataframe tbody tr th:only-of-type {\n",
              "        vertical-align: middle;\n",
              "    }\n",
              "\n",
              "    .dataframe tbody tr th {\n",
              "        vertical-align: top;\n",
              "    }\n",
              "\n",
              "    .dataframe thead th {\n",
              "        text-align: right;\n",
              "    }\n",
              "</style>\n",
              "<table border=\"1\" class=\"dataframe\">\n",
              "  <thead>\n",
              "    <tr style=\"text-align: right;\">\n",
              "      <th></th>\n",
              "      <th>Tweet ID</th>\n",
              "      <th>Username</th>\n",
              "      <th>Specific_hour</th>\n",
              "      <th>#Followers</th>\n",
              "      <th>#Friends</th>\n",
              "      <th>#Retweets</th>\n",
              "      <th>#Favorites</th>\n",
              "      <th>Entities</th>\n",
              "      <th>Sentiment</th>\n",
              "      <th>Mentions</th>\n",
              "      <th>Hashtags</th>\n",
              "      <th>URLs</th>\n",
              "      <th>Positive_sentiments</th>\n",
              "      <th>Negative_sentiments</th>\n",
              "    </tr>\n",
              "  </thead>\n",
              "  <tbody>\n",
              "    <tr>\n",
              "      <th>50914</th>\n",
              "      <td>1.180124e+18</td>\n",
              "      <td>d96f1313b195eb3adf1ab4b0a9835502</td>\n",
              "      <td>14</td>\n",
              "      <td>16</td>\n",
              "      <td>185</td>\n",
              "      <td>3</td>\n",
              "      <td>0</td>\n",
              "      <td>karimnagar:Karimnagar:-1.6508008386316866;niza...</td>\n",
              "      <td>1 -2</td>\n",
              "      <td>null;</td>\n",
              "      <td>null;</td>\n",
              "      <td>https://twitter.com/guptanagu8/status/11799690...</td>\n",
              "      <td>1</td>\n",
              "      <td>-2</td>\n",
              "    </tr>\n",
              "    <tr>\n",
              "      <th>55685</th>\n",
              "      <td>1.184386e+18</td>\n",
              "      <td>17d9321965a36de06122ad6fddc0e676</td>\n",
              "      <td>8</td>\n",
              "      <td>2019</td>\n",
              "      <td>598</td>\n",
              "      <td>0</td>\n",
              "      <td>0</td>\n",
              "      <td>tgifridays:TGI_Fridays:-2.9655942967204174;</td>\n",
              "      <td>1 -1</td>\n",
              "      <td>null;</td>\n",
              "      <td>null;</td>\n",
              "      <td>null;</td>\n",
              "      <td>1</td>\n",
              "      <td>-1</td>\n",
              "    </tr>\n",
              "    <tr>\n",
              "      <th>63119</th>\n",
              "      <td>1.179923e+18</td>\n",
              "      <td>4e1df022d62d2dd81a87b3e356a3624f</td>\n",
              "      <td>0</td>\n",
              "      <td>1595</td>\n",
              "      <td>1646</td>\n",
              "      <td>0</td>\n",
              "      <td>0</td>\n",
              "      <td>oh no:Oh_No_%28musician%29:-2.208817867114626;</td>\n",
              "      <td>2 -1</td>\n",
              "      <td>VOLoonatic</td>\n",
              "      <td>null;</td>\n",
              "      <td>null;</td>\n",
              "      <td>2</td>\n",
              "      <td>-1</td>\n",
              "    </tr>\n",
              "    <tr>\n",
              "      <th>55125</th>\n",
              "      <td>1.183891e+18</td>\n",
              "      <td>b21134f84416cbef7b42d3e0a5cde1cc</td>\n",
              "      <td>23</td>\n",
              "      <td>1649</td>\n",
              "      <td>3080</td>\n",
              "      <td>1</td>\n",
              "      <td>0</td>\n",
              "      <td>twitter:Twitter:-1.1708686827892931;nucleic ac...</td>\n",
              "      <td>1 -3</td>\n",
              "      <td>null;</td>\n",
              "      <td>null;</td>\n",
              "      <td>null;</td>\n",
              "      <td>1</td>\n",
              "      <td>-3</td>\n",
              "    </tr>\n",
              "    <tr>\n",
              "      <th>53819</th>\n",
              "      <td>1.182674e+18</td>\n",
              "      <td>afe46e28633a310c409f282da4a29d57</td>\n",
              "      <td>15</td>\n",
              "      <td>116557</td>\n",
              "      <td>1653</td>\n",
              "      <td>2</td>\n",
              "      <td>1</td>\n",
              "      <td>null;</td>\n",
              "      <td>1 -2</td>\n",
              "      <td>null;</td>\n",
              "      <td>BREAKING</td>\n",
              "      <td>https://www.theindychannel.com/news/national/t...</td>\n",
              "      <td>1</td>\n",
              "      <td>-2</td>\n",
              "    </tr>\n",
              "  </tbody>\n",
              "</table>\n",
              "</div>\n",
              "      <button class=\"colab-df-convert\" onclick=\"convertToInteractive('df-d9acdbf4-f676-453b-a045-8c1f02daa55f')\"\n",
              "              title=\"Convert this dataframe to an interactive table.\"\n",
              "              style=\"display:none;\">\n",
              "        \n",
              "  <svg xmlns=\"http://www.w3.org/2000/svg\" height=\"24px\"viewBox=\"0 0 24 24\"\n",
              "       width=\"24px\">\n",
              "    <path d=\"M0 0h24v24H0V0z\" fill=\"none\"/>\n",
              "    <path d=\"M18.56 5.44l.94 2.06.94-2.06 2.06-.94-2.06-.94-.94-2.06-.94 2.06-2.06.94zm-11 1L8.5 8.5l.94-2.06 2.06-.94-2.06-.94L8.5 2.5l-.94 2.06-2.06.94zm10 10l.94 2.06.94-2.06 2.06-.94-2.06-.94-.94-2.06-.94 2.06-2.06.94z\"/><path d=\"M17.41 7.96l-1.37-1.37c-.4-.4-.92-.59-1.43-.59-.52 0-1.04.2-1.43.59L10.3 9.45l-7.72 7.72c-.78.78-.78 2.05 0 2.83L4 21.41c.39.39.9.59 1.41.59.51 0 1.02-.2 1.41-.59l7.78-7.78 2.81-2.81c.8-.78.8-2.07 0-2.86zM5.41 20L4 18.59l7.72-7.72 1.47 1.35L5.41 20z\"/>\n",
              "  </svg>\n",
              "      </button>\n",
              "      \n",
              "  <style>\n",
              "    .colab-df-container {\n",
              "      display:flex;\n",
              "      flex-wrap:wrap;\n",
              "      gap: 12px;\n",
              "    }\n",
              "\n",
              "    .colab-df-convert {\n",
              "      background-color: #E8F0FE;\n",
              "      border: none;\n",
              "      border-radius: 50%;\n",
              "      cursor: pointer;\n",
              "      display: none;\n",
              "      fill: #1967D2;\n",
              "      height: 32px;\n",
              "      padding: 0 0 0 0;\n",
              "      width: 32px;\n",
              "    }\n",
              "\n",
              "    .colab-df-convert:hover {\n",
              "      background-color: #E2EBFA;\n",
              "      box-shadow: 0px 1px 2px rgba(60, 64, 67, 0.3), 0px 1px 3px 1px rgba(60, 64, 67, 0.15);\n",
              "      fill: #174EA6;\n",
              "    }\n",
              "\n",
              "    [theme=dark] .colab-df-convert {\n",
              "      background-color: #3B4455;\n",
              "      fill: #D2E3FC;\n",
              "    }\n",
              "\n",
              "    [theme=dark] .colab-df-convert:hover {\n",
              "      background-color: #434B5C;\n",
              "      box-shadow: 0px 1px 3px 1px rgba(0, 0, 0, 0.15);\n",
              "      filter: drop-shadow(0px 1px 2px rgba(0, 0, 0, 0.3));\n",
              "      fill: #FFFFFF;\n",
              "    }\n",
              "  </style>\n",
              "\n",
              "      <script>\n",
              "        const buttonEl =\n",
              "          document.querySelector('#df-d9acdbf4-f676-453b-a045-8c1f02daa55f button.colab-df-convert');\n",
              "        buttonEl.style.display =\n",
              "          google.colab.kernel.accessAllowed ? 'block' : 'none';\n",
              "\n",
              "        async function convertToInteractive(key) {\n",
              "          const element = document.querySelector('#df-d9acdbf4-f676-453b-a045-8c1f02daa55f');\n",
              "          const dataTable =\n",
              "            await google.colab.kernel.invokeFunction('convertToInteractive',\n",
              "                                                     [key], {});\n",
              "          if (!dataTable) return;\n",
              "\n",
              "          const docLinkHtml = 'Like what you see? Visit the ' +\n",
              "            '<a target=\"_blank\" href=https://colab.research.google.com/notebooks/data_table.ipynb>data table notebook</a>'\n",
              "            + ' to learn more about interactive tables.';\n",
              "          element.innerHTML = '';\n",
              "          dataTable['output_type'] = 'display_data';\n",
              "          await google.colab.output.renderOutput(dataTable, element);\n",
              "          const docLink = document.createElement('div');\n",
              "          docLink.innerHTML = docLinkHtml;\n",
              "          element.appendChild(docLink);\n",
              "        }\n",
              "      </script>\n",
              "    </div>\n",
              "  </div>\n",
              "  "
            ]
          },
          "metadata": {},
          "execution_count": 11
        }
      ],
      "source": [
        "# checking the dataframe\n",
        "cleaning_df.sample(5)"
      ]
    },
    {
      "cell_type": "markdown",
      "metadata": {
        "id": "wgsJfzLZV9dH"
      },
      "source": [
        "##3.3  Extracting the number of mentions and creating a new column Number_of_Mentions"
      ]
    },
    {
      "cell_type": "code",
      "execution_count": 12,
      "metadata": {
        "id": "_16jZrMO04yZ"
      },
      "outputs": [],
      "source": [
        "# creating a function to create a new column from an existing column\n",
        "def newColumn (existing_column_name, new_column):\n",
        "  cleaning_df[new_column]=(cleaning_df[existing_column_name]\n",
        "                           .apply(lambda x: str(x))).apply(lambda x: 0 if 'null;' in x else len(x.split())) #usimg apply() function with lambda to replace the\n",
        "                                                                                                            #columns entries, null; is replaced with 0\n",
        "\n",
        "                                                                                                            \n",
        "#calling the function newColumn to create the Number_of_Column\n",
        "newColumn('Mentions', 'Number_of_Mentions')"
      ]
    },
    {
      "cell_type": "markdown",
      "metadata": {
        "id": "wPp6BnyfWRnd"
      },
      "source": [
        "##3.4 Extracting the number of hashtags and creating a new column Number_of_Hashtags"
      ]
    },
    {
      "cell_type": "code",
      "execution_count": 13,
      "metadata": {
        "id": "4QGOyjXq3OQw"
      },
      "outputs": [],
      "source": [
        "#calling the function newColumn to create a new column Number_of_Hashtags\n",
        "newColumn('Hashtags', 'Number_of_Hashtags')"
      ]
    },
    {
      "cell_type": "code",
      "execution_count": 14,
      "metadata": {
        "colab": {
          "base_uri": "https://localhost:8080/",
          "height": 374
        },
        "id": "y7GdfB_z3io8",
        "outputId": "56133e07-6d12-438b-9a59-636301d4480e"
      },
      "outputs": [
        {
          "output_type": "execute_result",
          "data": {
            "text/plain": [
              "           Tweet ID                          Username  Specific_hour  \\\n",
              "32381  1.185588e+18  c4e5cc89b275a306b57715d7dca03b9a             16   \n",
              "47978  1.188705e+18  01b34dbcb7adc2915a6eedcc19dcb227              6   \n",
              "89881  1.181634e+18  b61ffcbfd399b7e555164e3a51340182             18   \n",
              "90321  1.182008e+18  2051b92dc0a77bc4c46efcde3ddd2768             18   \n",
              "76048  1.180304e+18  d962291c4b08291c0bf718c8cc51c4e0              2   \n",
              "\n",
              "       #Followers  #Friends  #Retweets  #Favorites  \\\n",
              "32381       20121     19326         33          56   \n",
              "47978         374       524          0           0   \n",
              "89881        3892      1204          0           0   \n",
              "90321          94       751          0           0   \n",
              "76048        4613       263          0           0   \n",
              "\n",
              "                                                Entities Sentiment  \\\n",
              "32381  ghislaine maxwell:Ghislaine_Maxwell:-1.4630644...      2 -1   \n",
              "47978          chelsea:Chelsea_F.C.:-1.4456345819509286;      2 -1   \n",
              "89881                                              null;      1 -1   \n",
              "90321    whipped cream:Whipped_cream:-1.600719703386068;      1 -1   \n",
              "76048  the vaccines:The_Vaccines:-1.1325100271691653;...      2 -2   \n",
              "\n",
              "                                                Mentions         Hashtags  \\\n",
              "32381                        realDonaldTrump DailyMailUK  ImpeachTrumpNow   \n",
              "47978                             LeKibet iamMykheyMutua            null;   \n",
              "89881                                              null;         NewMusic   \n",
              "90321                                          RaxaStake            null;   \n",
              "76048  Plasticdoe TerryExSci christydubbs RogueTrader...            null;   \n",
              "\n",
              "        URLs  Positive_sentiments  Negative_sentiments  Number_of_Mentions  \\\n",
              "32381  null;                    2                   -1                   2   \n",
              "47978  null;                    2                   -1                   2   \n",
              "89881  null;                    1                   -1                   0   \n",
              "90321  null;                    1                   -1                   1   \n",
              "76048  null;                    2                   -2                  50   \n",
              "\n",
              "       Number_of_Hashtags  \n",
              "32381                   1  \n",
              "47978                   0  \n",
              "89881                   1  \n",
              "90321                   0  \n",
              "76048                   0  "
            ],
            "text/html": [
              "\n",
              "  <div id=\"df-3c1c3b17-ead9-4c3d-9418-478d68703fde\">\n",
              "    <div class=\"colab-df-container\">\n",
              "      <div>\n",
              "<style scoped>\n",
              "    .dataframe tbody tr th:only-of-type {\n",
              "        vertical-align: middle;\n",
              "    }\n",
              "\n",
              "    .dataframe tbody tr th {\n",
              "        vertical-align: top;\n",
              "    }\n",
              "\n",
              "    .dataframe thead th {\n",
              "        text-align: right;\n",
              "    }\n",
              "</style>\n",
              "<table border=\"1\" class=\"dataframe\">\n",
              "  <thead>\n",
              "    <tr style=\"text-align: right;\">\n",
              "      <th></th>\n",
              "      <th>Tweet ID</th>\n",
              "      <th>Username</th>\n",
              "      <th>Specific_hour</th>\n",
              "      <th>#Followers</th>\n",
              "      <th>#Friends</th>\n",
              "      <th>#Retweets</th>\n",
              "      <th>#Favorites</th>\n",
              "      <th>Entities</th>\n",
              "      <th>Sentiment</th>\n",
              "      <th>Mentions</th>\n",
              "      <th>Hashtags</th>\n",
              "      <th>URLs</th>\n",
              "      <th>Positive_sentiments</th>\n",
              "      <th>Negative_sentiments</th>\n",
              "      <th>Number_of_Mentions</th>\n",
              "      <th>Number_of_Hashtags</th>\n",
              "    </tr>\n",
              "  </thead>\n",
              "  <tbody>\n",
              "    <tr>\n",
              "      <th>32381</th>\n",
              "      <td>1.185588e+18</td>\n",
              "      <td>c4e5cc89b275a306b57715d7dca03b9a</td>\n",
              "      <td>16</td>\n",
              "      <td>20121</td>\n",
              "      <td>19326</td>\n",
              "      <td>33</td>\n",
              "      <td>56</td>\n",
              "      <td>ghislaine maxwell:Ghislaine_Maxwell:-1.4630644...</td>\n",
              "      <td>2 -1</td>\n",
              "      <td>realDonaldTrump DailyMailUK</td>\n",
              "      <td>ImpeachTrumpNow</td>\n",
              "      <td>null;</td>\n",
              "      <td>2</td>\n",
              "      <td>-1</td>\n",
              "      <td>2</td>\n",
              "      <td>1</td>\n",
              "    </tr>\n",
              "    <tr>\n",
              "      <th>47978</th>\n",
              "      <td>1.188705e+18</td>\n",
              "      <td>01b34dbcb7adc2915a6eedcc19dcb227</td>\n",
              "      <td>6</td>\n",
              "      <td>374</td>\n",
              "      <td>524</td>\n",
              "      <td>0</td>\n",
              "      <td>0</td>\n",
              "      <td>chelsea:Chelsea_F.C.:-1.4456345819509286;</td>\n",
              "      <td>2 -1</td>\n",
              "      <td>LeKibet iamMykheyMutua</td>\n",
              "      <td>null;</td>\n",
              "      <td>null;</td>\n",
              "      <td>2</td>\n",
              "      <td>-1</td>\n",
              "      <td>2</td>\n",
              "      <td>0</td>\n",
              "    </tr>\n",
              "    <tr>\n",
              "      <th>89881</th>\n",
              "      <td>1.181634e+18</td>\n",
              "      <td>b61ffcbfd399b7e555164e3a51340182</td>\n",
              "      <td>18</td>\n",
              "      <td>3892</td>\n",
              "      <td>1204</td>\n",
              "      <td>0</td>\n",
              "      <td>0</td>\n",
              "      <td>null;</td>\n",
              "      <td>1 -1</td>\n",
              "      <td>null;</td>\n",
              "      <td>NewMusic</td>\n",
              "      <td>null;</td>\n",
              "      <td>1</td>\n",
              "      <td>-1</td>\n",
              "      <td>0</td>\n",
              "      <td>1</td>\n",
              "    </tr>\n",
              "    <tr>\n",
              "      <th>90321</th>\n",
              "      <td>1.182008e+18</td>\n",
              "      <td>2051b92dc0a77bc4c46efcde3ddd2768</td>\n",
              "      <td>18</td>\n",
              "      <td>94</td>\n",
              "      <td>751</td>\n",
              "      <td>0</td>\n",
              "      <td>0</td>\n",
              "      <td>whipped cream:Whipped_cream:-1.600719703386068;</td>\n",
              "      <td>1 -1</td>\n",
              "      <td>RaxaStake</td>\n",
              "      <td>null;</td>\n",
              "      <td>null;</td>\n",
              "      <td>1</td>\n",
              "      <td>-1</td>\n",
              "      <td>1</td>\n",
              "      <td>0</td>\n",
              "    </tr>\n",
              "    <tr>\n",
              "      <th>76048</th>\n",
              "      <td>1.180304e+18</td>\n",
              "      <td>d962291c4b08291c0bf718c8cc51c4e0</td>\n",
              "      <td>2</td>\n",
              "      <td>4613</td>\n",
              "      <td>263</td>\n",
              "      <td>0</td>\n",
              "      <td>0</td>\n",
              "      <td>the vaccines:The_Vaccines:-1.1325100271691653;...</td>\n",
              "      <td>2 -2</td>\n",
              "      <td>Plasticdoe TerryExSci christydubbs RogueTrader...</td>\n",
              "      <td>null;</td>\n",
              "      <td>null;</td>\n",
              "      <td>2</td>\n",
              "      <td>-2</td>\n",
              "      <td>50</td>\n",
              "      <td>0</td>\n",
              "    </tr>\n",
              "  </tbody>\n",
              "</table>\n",
              "</div>\n",
              "      <button class=\"colab-df-convert\" onclick=\"convertToInteractive('df-3c1c3b17-ead9-4c3d-9418-478d68703fde')\"\n",
              "              title=\"Convert this dataframe to an interactive table.\"\n",
              "              style=\"display:none;\">\n",
              "        \n",
              "  <svg xmlns=\"http://www.w3.org/2000/svg\" height=\"24px\"viewBox=\"0 0 24 24\"\n",
              "       width=\"24px\">\n",
              "    <path d=\"M0 0h24v24H0V0z\" fill=\"none\"/>\n",
              "    <path d=\"M18.56 5.44l.94 2.06.94-2.06 2.06-.94-2.06-.94-.94-2.06-.94 2.06-2.06.94zm-11 1L8.5 8.5l.94-2.06 2.06-.94-2.06-.94L8.5 2.5l-.94 2.06-2.06.94zm10 10l.94 2.06.94-2.06 2.06-.94-2.06-.94-.94-2.06-.94 2.06-2.06.94z\"/><path d=\"M17.41 7.96l-1.37-1.37c-.4-.4-.92-.59-1.43-.59-.52 0-1.04.2-1.43.59L10.3 9.45l-7.72 7.72c-.78.78-.78 2.05 0 2.83L4 21.41c.39.39.9.59 1.41.59.51 0 1.02-.2 1.41-.59l7.78-7.78 2.81-2.81c.8-.78.8-2.07 0-2.86zM5.41 20L4 18.59l7.72-7.72 1.47 1.35L5.41 20z\"/>\n",
              "  </svg>\n",
              "      </button>\n",
              "      \n",
              "  <style>\n",
              "    .colab-df-container {\n",
              "      display:flex;\n",
              "      flex-wrap:wrap;\n",
              "      gap: 12px;\n",
              "    }\n",
              "\n",
              "    .colab-df-convert {\n",
              "      background-color: #E8F0FE;\n",
              "      border: none;\n",
              "      border-radius: 50%;\n",
              "      cursor: pointer;\n",
              "      display: none;\n",
              "      fill: #1967D2;\n",
              "      height: 32px;\n",
              "      padding: 0 0 0 0;\n",
              "      width: 32px;\n",
              "    }\n",
              "\n",
              "    .colab-df-convert:hover {\n",
              "      background-color: #E2EBFA;\n",
              "      box-shadow: 0px 1px 2px rgba(60, 64, 67, 0.3), 0px 1px 3px 1px rgba(60, 64, 67, 0.15);\n",
              "      fill: #174EA6;\n",
              "    }\n",
              "\n",
              "    [theme=dark] .colab-df-convert {\n",
              "      background-color: #3B4455;\n",
              "      fill: #D2E3FC;\n",
              "    }\n",
              "\n",
              "    [theme=dark] .colab-df-convert:hover {\n",
              "      background-color: #434B5C;\n",
              "      box-shadow: 0px 1px 3px 1px rgba(0, 0, 0, 0.15);\n",
              "      filter: drop-shadow(0px 1px 2px rgba(0, 0, 0, 0.3));\n",
              "      fill: #FFFFFF;\n",
              "    }\n",
              "  </style>\n",
              "\n",
              "      <script>\n",
              "        const buttonEl =\n",
              "          document.querySelector('#df-3c1c3b17-ead9-4c3d-9418-478d68703fde button.colab-df-convert');\n",
              "        buttonEl.style.display =\n",
              "          google.colab.kernel.accessAllowed ? 'block' : 'none';\n",
              "\n",
              "        async function convertToInteractive(key) {\n",
              "          const element = document.querySelector('#df-3c1c3b17-ead9-4c3d-9418-478d68703fde');\n",
              "          const dataTable =\n",
              "            await google.colab.kernel.invokeFunction('convertToInteractive',\n",
              "                                                     [key], {});\n",
              "          if (!dataTable) return;\n",
              "\n",
              "          const docLinkHtml = 'Like what you see? Visit the ' +\n",
              "            '<a target=\"_blank\" href=https://colab.research.google.com/notebooks/data_table.ipynb>data table notebook</a>'\n",
              "            + ' to learn more about interactive tables.';\n",
              "          element.innerHTML = '';\n",
              "          dataTable['output_type'] = 'display_data';\n",
              "          await google.colab.output.renderOutput(dataTable, element);\n",
              "          const docLink = document.createElement('div');\n",
              "          docLink.innerHTML = docLinkHtml;\n",
              "          element.appendChild(docLink);\n",
              "        }\n",
              "      </script>\n",
              "    </div>\n",
              "  </div>\n",
              "  "
            ]
          },
          "metadata": {},
          "execution_count": 14
        }
      ],
      "source": [
        "# checking the dataframe\n",
        "cleaning_df.sample(5)"
      ]
    },
    {
      "cell_type": "code",
      "execution_count": 15,
      "metadata": {
        "colab": {
          "base_uri": "https://localhost:8080/"
        },
        "id": "JWCFJmt64j0f",
        "outputId": "c4866f0a-7f0d-45ee-d689-ec5968b29faa"
      },
      "outputs": [
        {
          "output_type": "execute_result",
          "data": {
            "text/plain": [
              "Index(['Tweet ID', 'Username', 'Specific_hour', '#Followers', '#Friends',\n",
              "       '#Retweets', '#Favorites', 'Entities', 'Sentiment', 'Mentions',\n",
              "       'Hashtags', 'URLs', 'Positive_sentiments', 'Negative_sentiments',\n",
              "       'Number_of_Mentions', 'Number_of_Hashtags'],\n",
              "      dtype='object')"
            ]
          },
          "metadata": {},
          "execution_count": 15
        }
      ],
      "source": [
        "# printing the dataframe's column\n",
        "cleaning_df.columns"
      ]
    },
    {
      "cell_type": "markdown",
      "metadata": {
        "id": "BjH7xSbomzd1"
      },
      "source": [
        "##3.5 Dropping the columns \"Sentiment\", \"Mentions\", and \"Hashtags\" "
      ]
    },
    {
      "cell_type": "markdown",
      "metadata": {
        "id": "-aiVCyQx5wg2"
      },
      "source": [
        "After creating new columns Positive_sentiments, Negative_sentiments, Number_of_mentions, and Number_of_hashtags from Sentimen, Mentions and Hashtags columns, we notice that our dataframe's qality was poor. This was evident with columns with slightly repetitive data. To make the dataframe accurate, we drop the Sentiment\", \"Mentions\", and \"Hashtags\" columns. "
      ]
    },
    {
      "cell_type": "code",
      "execution_count": 16,
      "metadata": {
        "id": "6Qy0vFJConjC"
      },
      "outputs": [],
      "source": [
        "# dropping \"Sentiment\", \"Mentions\", \"Hashtags\" columns to achieve the data's accuracy\n",
        "cleaning_df.drop([\"Sentiment\", \"Mentions\", \"Hashtags\"], axis = 1, inplace = True)"
      ]
    },
    {
      "cell_type": "code",
      "execution_count": 17,
      "metadata": {
        "colab": {
          "base_uri": "https://localhost:8080/"
        },
        "id": "kbyGlWVa5zxi",
        "outputId": "2044cbec-d37f-4422-e436-ffffab1a3546"
      },
      "outputs": [
        {
          "output_type": "execute_result",
          "data": {
            "text/plain": [
              "Index(['Tweet ID', 'Username', 'Specific_hour', '#Followers', '#Friends',\n",
              "       '#Retweets', '#Favorites', 'Entities', 'URLs', 'Positive_sentiments',\n",
              "       'Negative_sentiments', 'Number_of_Mentions', 'Number_of_Hashtags'],\n",
              "      dtype='object')"
            ]
          },
          "metadata": {},
          "execution_count": 17
        }
      ],
      "source": [
        "# printing the dataframe's column after dropping some columns\n",
        "cleaning_df.columns"
      ]
    },
    {
      "cell_type": "code",
      "execution_count": 18,
      "metadata": {
        "colab": {
          "base_uri": "https://localhost:8080/",
          "height": 305
        },
        "id": "Cz3tGBZh618C",
        "outputId": "a8220dac-8f74-4a4e-86d6-daa14ae26d9b"
      },
      "outputs": [
        {
          "output_type": "execute_result",
          "data": {
            "text/plain": [
              "           Tweet ID                          Username  Specific_hour  \\\n",
              "46084  1.186861e+18  9382bcc3833461befb6ff630d48d68a1              4   \n",
              "80152  1.183957e+18  d62412a7453579bca117fe89af76a87b              4   \n",
              "59608  1.188010e+18  c990968a87283d574e51f9ae6f40dfbe              8   \n",
              "48582  1.189255e+18  ee666cebad4eecdf0e8109c91d681b86             18   \n",
              "40752  1.182012e+18  34aa069484f6091a30bb494feb554bf0             19   \n",
              "\n",
              "       #Followers  #Friends  #Retweets  #Favorites  \\\n",
              "46084         430       740          0           0   \n",
              "80152         567       359          0           0   \n",
              "59608          60        63          0           0   \n",
              "48582         766       560          0           0   \n",
              "40752         792      1076          0           0   \n",
              "\n",
              "                                                Entities  \\\n",
              "46084                                              null;   \n",
              "80152                                              null;   \n",
              "59608                    china:China:-2.113921624336916;   \n",
              "48582                                              null;   \n",
              "40752  adam tooze:Adam_Tooze:-0.9897979040337803;hot ...   \n",
              "\n",
              "                                                    URLs  Positive_sentiments  \\\n",
              "46084                                              null;                    2   \n",
              "80152                                              null;                    1   \n",
              "59608                                              null;                    1   \n",
              "48582                                              null;                    2   \n",
              "40752  https://www.nature.com/articles/s41560-019-046...                    1   \n",
              "\n",
              "       Negative_sentiments  Number_of_Mentions  Number_of_Hashtags  \n",
              "46084                   -1                   1                   0  \n",
              "80152                   -3                   0                   0  \n",
              "59608                   -1                   1                   0  \n",
              "48582                   -2                   3                   0  \n",
              "40752                   -1                   2                   0  "
            ],
            "text/html": [
              "\n",
              "  <div id=\"df-33aeed58-bce7-464a-b52b-a234fda40c99\">\n",
              "    <div class=\"colab-df-container\">\n",
              "      <div>\n",
              "<style scoped>\n",
              "    .dataframe tbody tr th:only-of-type {\n",
              "        vertical-align: middle;\n",
              "    }\n",
              "\n",
              "    .dataframe tbody tr th {\n",
              "        vertical-align: top;\n",
              "    }\n",
              "\n",
              "    .dataframe thead th {\n",
              "        text-align: right;\n",
              "    }\n",
              "</style>\n",
              "<table border=\"1\" class=\"dataframe\">\n",
              "  <thead>\n",
              "    <tr style=\"text-align: right;\">\n",
              "      <th></th>\n",
              "      <th>Tweet ID</th>\n",
              "      <th>Username</th>\n",
              "      <th>Specific_hour</th>\n",
              "      <th>#Followers</th>\n",
              "      <th>#Friends</th>\n",
              "      <th>#Retweets</th>\n",
              "      <th>#Favorites</th>\n",
              "      <th>Entities</th>\n",
              "      <th>URLs</th>\n",
              "      <th>Positive_sentiments</th>\n",
              "      <th>Negative_sentiments</th>\n",
              "      <th>Number_of_Mentions</th>\n",
              "      <th>Number_of_Hashtags</th>\n",
              "    </tr>\n",
              "  </thead>\n",
              "  <tbody>\n",
              "    <tr>\n",
              "      <th>46084</th>\n",
              "      <td>1.186861e+18</td>\n",
              "      <td>9382bcc3833461befb6ff630d48d68a1</td>\n",
              "      <td>4</td>\n",
              "      <td>430</td>\n",
              "      <td>740</td>\n",
              "      <td>0</td>\n",
              "      <td>0</td>\n",
              "      <td>null;</td>\n",
              "      <td>null;</td>\n",
              "      <td>2</td>\n",
              "      <td>-1</td>\n",
              "      <td>1</td>\n",
              "      <td>0</td>\n",
              "    </tr>\n",
              "    <tr>\n",
              "      <th>80152</th>\n",
              "      <td>1.183957e+18</td>\n",
              "      <td>d62412a7453579bca117fe89af76a87b</td>\n",
              "      <td>4</td>\n",
              "      <td>567</td>\n",
              "      <td>359</td>\n",
              "      <td>0</td>\n",
              "      <td>0</td>\n",
              "      <td>null;</td>\n",
              "      <td>null;</td>\n",
              "      <td>1</td>\n",
              "      <td>-3</td>\n",
              "      <td>0</td>\n",
              "      <td>0</td>\n",
              "    </tr>\n",
              "    <tr>\n",
              "      <th>59608</th>\n",
              "      <td>1.188010e+18</td>\n",
              "      <td>c990968a87283d574e51f9ae6f40dfbe</td>\n",
              "      <td>8</td>\n",
              "      <td>60</td>\n",
              "      <td>63</td>\n",
              "      <td>0</td>\n",
              "      <td>0</td>\n",
              "      <td>china:China:-2.113921624336916;</td>\n",
              "      <td>null;</td>\n",
              "      <td>1</td>\n",
              "      <td>-1</td>\n",
              "      <td>1</td>\n",
              "      <td>0</td>\n",
              "    </tr>\n",
              "    <tr>\n",
              "      <th>48582</th>\n",
              "      <td>1.189255e+18</td>\n",
              "      <td>ee666cebad4eecdf0e8109c91d681b86</td>\n",
              "      <td>18</td>\n",
              "      <td>766</td>\n",
              "      <td>560</td>\n",
              "      <td>0</td>\n",
              "      <td>0</td>\n",
              "      <td>null;</td>\n",
              "      <td>null;</td>\n",
              "      <td>2</td>\n",
              "      <td>-2</td>\n",
              "      <td>3</td>\n",
              "      <td>0</td>\n",
              "    </tr>\n",
              "    <tr>\n",
              "      <th>40752</th>\n",
              "      <td>1.182012e+18</td>\n",
              "      <td>34aa069484f6091a30bb494feb554bf0</td>\n",
              "      <td>19</td>\n",
              "      <td>792</td>\n",
              "      <td>1076</td>\n",
              "      <td>0</td>\n",
              "      <td>0</td>\n",
              "      <td>adam tooze:Adam_Tooze:-0.9897979040337803;hot ...</td>\n",
              "      <td>https://www.nature.com/articles/s41560-019-046...</td>\n",
              "      <td>1</td>\n",
              "      <td>-1</td>\n",
              "      <td>2</td>\n",
              "      <td>0</td>\n",
              "    </tr>\n",
              "  </tbody>\n",
              "</table>\n",
              "</div>\n",
              "      <button class=\"colab-df-convert\" onclick=\"convertToInteractive('df-33aeed58-bce7-464a-b52b-a234fda40c99')\"\n",
              "              title=\"Convert this dataframe to an interactive table.\"\n",
              "              style=\"display:none;\">\n",
              "        \n",
              "  <svg xmlns=\"http://www.w3.org/2000/svg\" height=\"24px\"viewBox=\"0 0 24 24\"\n",
              "       width=\"24px\">\n",
              "    <path d=\"M0 0h24v24H0V0z\" fill=\"none\"/>\n",
              "    <path d=\"M18.56 5.44l.94 2.06.94-2.06 2.06-.94-2.06-.94-.94-2.06-.94 2.06-2.06.94zm-11 1L8.5 8.5l.94-2.06 2.06-.94-2.06-.94L8.5 2.5l-.94 2.06-2.06.94zm10 10l.94 2.06.94-2.06 2.06-.94-2.06-.94-.94-2.06-.94 2.06-2.06.94z\"/><path d=\"M17.41 7.96l-1.37-1.37c-.4-.4-.92-.59-1.43-.59-.52 0-1.04.2-1.43.59L10.3 9.45l-7.72 7.72c-.78.78-.78 2.05 0 2.83L4 21.41c.39.39.9.59 1.41.59.51 0 1.02-.2 1.41-.59l7.78-7.78 2.81-2.81c.8-.78.8-2.07 0-2.86zM5.41 20L4 18.59l7.72-7.72 1.47 1.35L5.41 20z\"/>\n",
              "  </svg>\n",
              "      </button>\n",
              "      \n",
              "  <style>\n",
              "    .colab-df-container {\n",
              "      display:flex;\n",
              "      flex-wrap:wrap;\n",
              "      gap: 12px;\n",
              "    }\n",
              "\n",
              "    .colab-df-convert {\n",
              "      background-color: #E8F0FE;\n",
              "      border: none;\n",
              "      border-radius: 50%;\n",
              "      cursor: pointer;\n",
              "      display: none;\n",
              "      fill: #1967D2;\n",
              "      height: 32px;\n",
              "      padding: 0 0 0 0;\n",
              "      width: 32px;\n",
              "    }\n",
              "\n",
              "    .colab-df-convert:hover {\n",
              "      background-color: #E2EBFA;\n",
              "      box-shadow: 0px 1px 2px rgba(60, 64, 67, 0.3), 0px 1px 3px 1px rgba(60, 64, 67, 0.15);\n",
              "      fill: #174EA6;\n",
              "    }\n",
              "\n",
              "    [theme=dark] .colab-df-convert {\n",
              "      background-color: #3B4455;\n",
              "      fill: #D2E3FC;\n",
              "    }\n",
              "\n",
              "    [theme=dark] .colab-df-convert:hover {\n",
              "      background-color: #434B5C;\n",
              "      box-shadow: 0px 1px 3px 1px rgba(0, 0, 0, 0.15);\n",
              "      filter: drop-shadow(0px 1px 2px rgba(0, 0, 0, 0.3));\n",
              "      fill: #FFFFFF;\n",
              "    }\n",
              "  </style>\n",
              "\n",
              "      <script>\n",
              "        const buttonEl =\n",
              "          document.querySelector('#df-33aeed58-bce7-464a-b52b-a234fda40c99 button.colab-df-convert');\n",
              "        buttonEl.style.display =\n",
              "          google.colab.kernel.accessAllowed ? 'block' : 'none';\n",
              "\n",
              "        async function convertToInteractive(key) {\n",
              "          const element = document.querySelector('#df-33aeed58-bce7-464a-b52b-a234fda40c99');\n",
              "          const dataTable =\n",
              "            await google.colab.kernel.invokeFunction('convertToInteractive',\n",
              "                                                     [key], {});\n",
              "          if (!dataTable) return;\n",
              "\n",
              "          const docLinkHtml = 'Like what you see? Visit the ' +\n",
              "            '<a target=\"_blank\" href=https://colab.research.google.com/notebooks/data_table.ipynb>data table notebook</a>'\n",
              "            + ' to learn more about interactive tables.';\n",
              "          element.innerHTML = '';\n",
              "          dataTable['output_type'] = 'display_data';\n",
              "          await google.colab.output.renderOutput(dataTable, element);\n",
              "          const docLink = document.createElement('div');\n",
              "          docLink.innerHTML = docLinkHtml;\n",
              "          element.appendChild(docLink);\n",
              "        }\n",
              "      </script>\n",
              "    </div>\n",
              "  </div>\n",
              "  "
            ]
          },
          "metadata": {},
          "execution_count": 18
        }
      ],
      "source": [
        "# checking the dataframe\n",
        "cleaning_df.sample(5)"
      ]
    },
    {
      "cell_type": "markdown",
      "metadata": {
        "id": "bDPiMzohvOCV"
      },
      "source": [
        "##3.6 Working on missing values"
      ]
    },
    {
      "cell_type": "markdown",
      "metadata": {
        "id": "6n7JqgHDtGTj"
      },
      "source": [
        "\n",
        "\n",
        "\n",
        "*   Initially, we noticed that some columns had missing values. These columns were Hashtags and Mentions\n",
        "*   These entries would have been filled by the columns mean, median or even 0\n",
        "* Subsequently, after creating new columns (Number_of_Hashtags and Number_of_Mentions) from the Hashtags and Mentions column respectively, we saw it wise to drop the Hashtags and Mentions columns to improve the data's accuracy and quality\n",
        "* Dropping these columns equally ensured no missing values in our data frame   \n",
        "\n",
        "\n",
        "\n"
      ]
    },
    {
      "cell_type": "code",
      "execution_count": 19,
      "metadata": {
        "colab": {
          "base_uri": "https://localhost:8080/"
        },
        "id": "boiPFzfZvamd",
        "outputId": "1a4d2476-51e3-42fe-9476-d3860717d0ab"
      },
      "outputs": [
        {
          "output_type": "execute_result",
          "data": {
            "text/plain": [
              "Tweet ID               0\n",
              "Username               0\n",
              "Specific_hour          0\n",
              "#Followers             0\n",
              "#Friends               0\n",
              "#Retweets              0\n",
              "#Favorites             0\n",
              "Entities               0\n",
              "URLs                   0\n",
              "Positive_sentiments    0\n",
              "Negative_sentiments    0\n",
              "Number_of_Mentions     0\n",
              "Number_of_Hashtags     0\n",
              "dtype: int64"
            ]
          },
          "metadata": {},
          "execution_count": 19
        }
      ],
      "source": [
        "#checking the total missing values in different columns\n",
        "cleaning_df.isna().sum()"
      ]
    },
    {
      "cell_type": "markdown",
      "metadata": {
        "id": "-VOprAB_0PWj"
      },
      "source": [
        "##3.7 Extra wrangling - checking duplicates in the dataframe after cleaning"
      ]
    },
    {
      "cell_type": "code",
      "execution_count": 20,
      "metadata": {
        "colab": {
          "base_uri": "https://localhost:8080/"
        },
        "id": "mFeTrBR37aba",
        "outputId": "8c52b5ec-1e1a-408b-dac1-011ad1d834b1"
      },
      "outputs": [
        {
          "output_type": "execute_result",
          "data": {
            "text/plain": [
              "0"
            ]
          },
          "metadata": {},
          "execution_count": 20
        }
      ],
      "source": [
        "# checking if the dataframe has duplicate values using the sum() function\n",
        "\n",
        "duplicate_rows = cleaning_df[cleaning_df.duplicated()]\n",
        "sum(cleaning_df.duplicated())"
      ]
    },
    {
      "cell_type": "markdown",
      "metadata": {
        "id": "qBpm-3Bb7rqg"
      },
      "source": [
        "> The dataframe has 0 duplicate rows"
      ]
    },
    {
      "cell_type": "markdown",
      "metadata": {
        "id": "aH2Mq3vm82cy"
      },
      "source": [
        "##3.8 Saving the dataframe after cleaning -- cleaned_df"
      ]
    },
    {
      "cell_type": "code",
      "execution_count": 21,
      "metadata": {
        "id": "do0lx8Z491Kw"
      },
      "outputs": [],
      "source": [
        "#initializing a the cleaned dataframe to a new dataframe cleaned_df\n",
        "cleaned_df = cleaning_df"
      ]
    },
    {
      "cell_type": "code",
      "execution_count": 22,
      "metadata": {
        "colab": {
          "base_uri": "https://localhost:8080/"
        },
        "id": "QeYkf0dvHOAy",
        "outputId": "e6c35069-aac2-4c7e-b69d-c5afc2012812"
      },
      "outputs": [
        {
          "output_type": "stream",
          "name": "stdout",
          "text": [
            "<class 'pandas.core.frame.DataFrame'>\n",
            "RangeIndex: 100000 entries, 0 to 99999\n",
            "Data columns (total 13 columns):\n",
            " #   Column               Non-Null Count   Dtype  \n",
            "---  ------               --------------   -----  \n",
            " 0   Tweet ID             100000 non-null  float64\n",
            " 1   Username             100000 non-null  object \n",
            " 2   Specific_hour        100000 non-null  int64  \n",
            " 3   #Followers           100000 non-null  int64  \n",
            " 4   #Friends             100000 non-null  int64  \n",
            " 5   #Retweets            100000 non-null  int64  \n",
            " 6   #Favorites           100000 non-null  int64  \n",
            " 7   Entities             100000 non-null  object \n",
            " 8   URLs                 100000 non-null  object \n",
            " 9   Positive_sentiments  100000 non-null  int64  \n",
            " 10  Negative_sentiments  100000 non-null  int64  \n",
            " 11  Number_of_Mentions   100000 non-null  int64  \n",
            " 12  Number_of_Hashtags   100000 non-null  int64  \n",
            "dtypes: float64(1), int64(9), object(3)\n",
            "memory usage: 9.9+ MB\n"
          ]
        }
      ],
      "source": [
        "# printing the cleaned dataframe info\n",
        "cleaned_df.info()"
      ]
    },
    {
      "cell_type": "markdown",
      "metadata": {
        "id": "kYn0vRMZyKcf"
      },
      "source": [
        "# **4. Phase 4: Exploratory Data Analysis**"
      ]
    },
    {
      "cell_type": "markdown",
      "metadata": {
        "id": "j1Pxz2R79b5_"
      },
      "source": [
        "We then proceed to plot visualizations of distribution on Followers, Friends and Favorites. To draw more meaning through our visualizations (Histograms), we employ the Numpy's np.log10() method which will enable us find the natural logarithm of the entries in these three columns to be visualized and further enable creation of a good range of values on the x-axis."
      ]
    },
    {
      "cell_type": "markdown",
      "metadata": {
        "id": "m5HhhrJo5dCG"
      },
      "source": [
        "## 4.1 Visualizing the variable #Followers"
      ]
    },
    {
      "cell_type": "code",
      "execution_count": 23,
      "metadata": {
        "colab": {
          "base_uri": "https://localhost:8080/",
          "height": 439
        },
        "id": "Qj0hogwJJGCH",
        "outputId": "eab62cef-cb2e-43c0-bc14-9ba22d8a10ca"
      },
      "outputs": [
        {
          "output_type": "stream",
          "name": "stderr",
          "text": [
            "/usr/local/lib/python3.7/dist-packages/pandas/core/arraylike.py:364: RuntimeWarning: divide by zero encountered in log10\n",
            "  result = getattr(ufunc, method)(*inputs, **kwargs)\n"
          ]
        },
        {
          "output_type": "display_data",
          "data": {
            "text/plain": [
              "<Figure size 792x432 with 1 Axes>"
            ],
            "image/png": "[encoded data removed]"
          },
          "metadata": {
            "needs_background": "light"
          }
        }
      ],
      "source": [
        "# Creating a function plot_histogram with the different parameters it will hold\n",
        "def plot_histogram(column_name, xaxis_label, yaxis_label, title):\n",
        "  \n",
        "  #using the np.log10 to scale the plot \n",
        "  np.log10(cleaned_df[column_name]).plot.hist(figsize=[11, 6], bins=70, range=[0,10], edgecolor=\"white\")\n",
        "  plt.xlabel(xaxis_label)\n",
        "  plt.ylabel(yaxis_label)\n",
        "  plt.title(title)\n",
        "\n",
        "#calling the plot_histogram function and setting values to plot distribution of Log(Followers)\n",
        "plot_histogram('#Followers','Followers (as a log10)', 'Number', 'Distribution of #Followers')"
      ]
    },
    {
      "cell_type": "markdown",
      "metadata": {
        "id": "r9_8cr46gyYN"
      },
      "source": [
        "\n",
        "\n",
        "*   The #Followers distribution is a normal distribution \n",
        "\n"
      ]
    },
    {
      "cell_type": "markdown",
      "metadata": {
        "id": "anSgpWMY7Q0T"
      },
      "source": [
        "## 4.2 Visualizing the variable #Friends"
      ]
    },
    {
      "cell_type": "code",
      "execution_count": 24,
      "metadata": {
        "colab": {
          "base_uri": "https://localhost:8080/",
          "height": 404
        },
        "id": "cO9a_4Dw7pte",
        "outputId": "29794e58-167e-4491-a47d-fe61f74b0e63"
      },
      "outputs": [
        {
          "output_type": "display_data",
          "data": {
            "text/plain": [
              "<Figure size 792x432 with 1 Axes>"
            ],
            "image/png": "[encoded data removed]"
          },
          "metadata": {
            "needs_background": "light"
          }
        }
      ],
      "source": [
        "#calling the plot_histogram function and setting values to plot distribution of Log(Friends)\n",
        "plot_histogram('#Friends','Friends (as a log10)', 'Number', 'Distribution of #Friends')"
      ]
    },
    {
      "cell_type": "markdown",
      "metadata": {
        "id": "B7o9lUNQhfZT"
      },
      "source": [
        "\n",
        "\n",
        "*   The metric #Friends distribution is a normal distribution too with two peaks above 8000 \n",
        "\n"
      ]
    },
    {
      "cell_type": "markdown",
      "metadata": {
        "id": "Fr8mPZ6x7aKe"
      },
      "source": [
        "## 4.3 Visualizing the variable #Favorites"
      ]
    },
    {
      "cell_type": "code",
      "execution_count": 25,
      "metadata": {
        "colab": {
          "base_uri": "https://localhost:8080/",
          "height": 404
        },
        "id": "Bjt942KA8Bz5",
        "outputId": "5db5f900-4838-4964-e537-d4d36015e569"
      },
      "outputs": [
        {
          "output_type": "display_data",
          "data": {
            "text/plain": [
              "<Figure size 792x432 with 1 Axes>"
            ],
            "image/png": "[encoded data removed]"
          },
          "metadata": {
            "needs_background": "light"
          }
        }
      ],
      "source": [
        "#calling the plot_histogram function and setting values to plot distribution of Log(Favorites)\n",
        "plot_histogram('#Favorites','Favorites(as a log10)', 'Number', 'Distribution of #Favorites')"
      ]
    },
    {
      "cell_type": "markdown",
      "metadata": {
        "id": "n9CMmnDvfqJ5"
      },
      "source": [
        "\n",
        "\n",
        "\n",
        "* #Favorites distribution is highly skeewed to the right\n",
        "* Its highhest number/frequency is around 3500\n",
        "\n",
        "\n"
      ]
    },
    {
      "cell_type": "markdown",
      "metadata": {
        "id": "jq4eVNu1Agz4"
      },
      "source": [
        "## 4.4 Displaying the correlation matrix between #Followers, #Friends, #Favorites, Positive Sentiments and Negative Sentiments with respect to #Retweets"
      ]
    },
    {
      "cell_type": "code",
      "execution_count": 26,
      "metadata": {
        "colab": {
          "base_uri": "https://localhost:8080/",
          "height": 238
        },
        "id": "QnuizZkzBtQ5",
        "outputId": "989f2524-e996-400a-9584-48588741b694"
      },
      "outputs": [
        {
          "output_type": "execute_result",
          "data": {
            "text/plain": [
              "<pandas.io.formats.style.Styler at 0x7f38cd5ccf10>"
            ],
            "text/html": [
              "<style type=\"text/css\">\n",
              "#T_80227_row0_col0, #T_80227_row1_col1, #T_80227_row2_col2, #T_80227_row3_col3, #T_80227_row4_col4, #T_80227_row5_col5 {\n",
              "  background-color: #b40426;\n",
              "  color: #f1f1f1;\n",
              "}\n",
              "#T_80227_row0_col1 {\n",
              "  background-color: #6c8ff1;\n",
              "  color: #f1f1f1;\n",
              "}\n",
              "#T_80227_row0_col2, #T_80227_row2_col0 {\n",
              "  background-color: #d85646;\n",
              "  color: #f1f1f1;\n",
              "}\n",
              "#T_80227_row0_col3, #T_80227_row2_col5, #T_80227_row5_col1 {\n",
              "  background-color: #445acc;\n",
              "  color: #f1f1f1;\n",
              "}\n",
              "#T_80227_row0_col4, #T_80227_row3_col0, #T_80227_row3_col1, #T_80227_row3_col4 {\n",
              "  background-color: #455cce;\n",
              "  color: #f1f1f1;\n",
              "}\n",
              "#T_80227_row0_col5, #T_80227_row3_col5 {\n",
              "  background-color: #4358cb;\n",
              "  color: #f1f1f1;\n",
              "}\n",
              "#T_80227_row1_col0 {\n",
              "  background-color: #6788ee;\n",
              "  color: #f1f1f1;\n",
              "}\n",
              "#T_80227_row1_col2 {\n",
              "  background-color: #7295f4;\n",
              "  color: #f1f1f1;\n",
              "}\n",
              "#T_80227_row1_col3 {\n",
              "  background-color: #3f53c6;\n",
              "  color: #f1f1f1;\n",
              "}\n",
              "#T_80227_row1_col4 {\n",
              "  background-color: #3e51c5;\n",
              "  color: #f1f1f1;\n",
              "}\n",
              "#T_80227_row1_col5 {\n",
              "  background-color: #485fd1;\n",
              "  color: #f1f1f1;\n",
              "}\n",
              "#T_80227_row2_col1 {\n",
              "  background-color: #799cf8;\n",
              "  color: #f1f1f1;\n",
              "}\n",
              "#T_80227_row2_col3 {\n",
              "  background-color: #4257c9;\n",
              "  color: #f1f1f1;\n",
              "}\n",
              "#T_80227_row2_col4 {\n",
              "  background-color: #465ecf;\n",
              "  color: #f1f1f1;\n",
              "}\n",
              "#T_80227_row3_col2 {\n",
              "  background-color: #4055c8;\n",
              "  color: #f1f1f1;\n",
              "}\n",
              "#T_80227_row4_col0 {\n",
              "  background-color: #3d50c3;\n",
              "  color: #f1f1f1;\n",
              "}\n",
              "#T_80227_row4_col1, #T_80227_row4_col5, #T_80227_row5_col0, #T_80227_row5_col2, #T_80227_row5_col3, #T_80227_row5_col4 {\n",
              "  background-color: #3b4cc0;\n",
              "  color: #f1f1f1;\n",
              "}\n",
              "#T_80227_row4_col2, #T_80227_row4_col3 {\n",
              "  background-color: #3c4ec2;\n",
              "  color: #f1f1f1;\n",
              "}\n",
              "</style>\n",
              "<table id=\"T_80227_\" class=\"dataframe\">\n",
              "  <thead>\n",
              "    <tr>\n",
              "      <th class=\"blank level0\" >&nbsp;</th>\n",
              "      <th class=\"col_heading level0 col0\" >#Retweets</th>\n",
              "      <th class=\"col_heading level0 col1\" >#Followers</th>\n",
              "      <th class=\"col_heading level0 col2\" >#Favorites</th>\n",
              "      <th class=\"col_heading level0 col3\" >#Friends</th>\n",
              "      <th class=\"col_heading level0 col4\" >Positive_sentiments</th>\n",
              "      <th class=\"col_heading level0 col5\" >Negative_sentiments</th>\n",
              "    </tr>\n",
              "  </thead>\n",
              "  <tbody>\n",
              "    <tr>\n",
              "      <th id=\"T_80227_level0_row0\" class=\"row_heading level0 row0\" >#Retweets</th>\n",
              "      <td id=\"T_80227_row0_col0\" class=\"data row0 col0\" >1.000000</td>\n",
              "      <td id=\"T_80227_row0_col1\" class=\"data row0 col1\" >0.134503</td>\n",
              "      <td id=\"T_80227_row0_col2\" class=\"data row0 col2\" >0.890328</td>\n",
              "      <td id=\"T_80227_row0_col3\" class=\"data row0 col3\" >0.026502</td>\n",
              "      <td id=\"T_80227_row0_col4\" class=\"data row0 col4\" >0.000433</td>\n",
              "      <td id=\"T_80227_row0_col5\" class=\"data row0 col5\" >-0.010565</td>\n",
              "    </tr>\n",
              "    <tr>\n",
              "      <th id=\"T_80227_level0_row1\" class=\"row_heading level0 row1\" >#Followers</th>\n",
              "      <td id=\"T_80227_row1_col0\" class=\"data row1 col0\" >0.134503</td>\n",
              "      <td id=\"T_80227_row1_col1\" class=\"data row1 col1\" >1.000000</td>\n",
              "      <td id=\"T_80227_row1_col2\" class=\"data row1 col2\" >0.172158</td>\n",
              "      <td id=\"T_80227_row1_col3\" class=\"data row1 col3\" >0.011337</td>\n",
              "      <td id=\"T_80227_row1_col4\" class=\"data row1 col4\" >-0.027071</td>\n",
              "      <td id=\"T_80227_row1_col5\" class=\"data row1 col5\" >0.008711</td>\n",
              "    </tr>\n",
              "    <tr>\n",
              "      <th id=\"T_80227_level0_row2\" class=\"row_heading level0 row2\" >#Favorites</th>\n",
              "      <td id=\"T_80227_row2_col0\" class=\"data row2 col0\" >0.890328</td>\n",
              "      <td id=\"T_80227_row2_col1\" class=\"data row2 col1\" >0.172158</td>\n",
              "      <td id=\"T_80227_row2_col2\" class=\"data row2 col2\" >1.000000</td>\n",
              "      <td id=\"T_80227_row2_col3\" class=\"data row2 col3\" >0.017877</td>\n",
              "      <td id=\"T_80227_row2_col4\" class=\"data row2 col4\" >0.002533</td>\n",
              "      <td id=\"T_80227_row2_col5\" class=\"data row2 col5\" >-0.003889</td>\n",
              "    </tr>\n",
              "    <tr>\n",
              "      <th id=\"T_80227_level0_row3\" class=\"row_heading level0 row3\" >#Friends</th>\n",
              "      <td id=\"T_80227_row3_col0\" class=\"data row3 col0\" >0.026502</td>\n",
              "      <td id=\"T_80227_row3_col1\" class=\"data row3 col1\" >0.011337</td>\n",
              "      <td id=\"T_80227_row3_col2\" class=\"data row3 col2\" >0.017877</td>\n",
              "      <td id=\"T_80227_row3_col3\" class=\"data row3 col3\" >1.000000</td>\n",
              "      <td id=\"T_80227_row3_col4\" class=\"data row3 col4\" >-0.000555</td>\n",
              "      <td id=\"T_80227_row3_col5\" class=\"data row3 col5\" >-0.007891</td>\n",
              "    </tr>\n",
              "    <tr>\n",
              "      <th id=\"T_80227_level0_row4\" class=\"row_heading level0 row4\" >Positive_sentiments</th>\n",
              "      <td id=\"T_80227_row4_col0\" class=\"data row4 col0\" >0.000433</td>\n",
              "      <td id=\"T_80227_row4_col1\" class=\"data row4 col1\" >-0.027071</td>\n",
              "      <td id=\"T_80227_row4_col2\" class=\"data row4 col2\" >0.002533</td>\n",
              "      <td id=\"T_80227_row4_col3\" class=\"data row4 col3\" >-0.000555</td>\n",
              "      <td id=\"T_80227_row4_col4\" class=\"data row4 col4\" >1.000000</td>\n",
              "      <td id=\"T_80227_row4_col5\" class=\"data row4 col5\" >-0.039849</td>\n",
              "    </tr>\n",
              "    <tr>\n",
              "      <th id=\"T_80227_level0_row5\" class=\"row_heading level0 row5\" >Negative_sentiments</th>\n",
              "      <td id=\"T_80227_row5_col0\" class=\"data row5 col0\" >-0.010565</td>\n",
              "      <td id=\"T_80227_row5_col1\" class=\"data row5 col1\" >0.008711</td>\n",
              "      <td id=\"T_80227_row5_col2\" class=\"data row5 col2\" >-0.003889</td>\n",
              "      <td id=\"T_80227_row5_col3\" class=\"data row5 col3\" >-0.007891</td>\n",
              "      <td id=\"T_80227_row5_col4\" class=\"data row5 col4\" >-0.039849</td>\n",
              "      <td id=\"T_80227_row5_col5\" class=\"data row5 col5\" >1.000000</td>\n",
              "    </tr>\n",
              "  </tbody>\n",
              "</table>\n"
            ]
          },
          "metadata": {},
          "execution_count": 26
        }
      ],
      "source": [
        "# creating a variable columns to hold the dataframe's target columns for plotting correlation matrix \n",
        "columns=[\"#Retweets\", \"#Followers\", \"#Favorites\", \"#Friends\", \"Positive_sentiments\", \"Negative_sentiments\"]\n",
        "\n",
        "# using the correlation function corr() on our data frame\n",
        "# to print correlation of the variables\n",
        "corr = cleaned_df[columns].corr() \n",
        "\n",
        "#setting up the correlation style for our output for easier visualization\n",
        "corr.style.background_gradient(cmap='coolwarm') "
      ]
    },
    {
      "cell_type": "markdown",
      "metadata": {
        "id": "XkljRlu2lTIS"
      },
      "source": [
        "* We noticed that #Favorites is has a strong positive correlation (0.89) with #Retweets "
      ]
    },
    {
      "cell_type": "markdown",
      "metadata": {
        "id": "et8G9SkFK22V"
      },
      "source": [
        "**Output question 1: What do these plots and correlation matrix signify?**\n"
      ]
    },
    {
      "cell_type": "markdown",
      "metadata": {
        "id": "YLR3oOOTcc4l"
      },
      "source": [
        "\n",
        "\n",
        ">   The histograms plotted display how frequently the numerical data  (features) occur. The height of the rectangles, using the vertical axis, symbolizes the frequency of the variable's distribution \n",
        "\n",
        ">   The correlation matrix signifies the relationship/ correlation between the different variables. This includes showing the correlation between the target variable to be predicted and other variables.\n",
        "\n",
        "\n"
      ]
    },
    {
      "cell_type": "markdown",
      "metadata": {
        "id": "EeWSJ7MAH2au"
      },
      "source": [
        "\n",
        "\n",
        "> Plotting the correlation matrices of the different variables and assessing the values with respesct to the dependent/target variable (#Retweets) we notice that #Favourites, one of the independent variables, is strongly correlated with #Retweets with a correlation matrix of 0.8.\n",
        "\n"
      ]
    },
    {
      "cell_type": "markdown",
      "metadata": {
        "id": "_eYkbHF3LAM8"
      },
      "source": [
        "**Output question 2: What do the signs (+/-) before the correlation magnitudes signify?**\n",
        "\n",
        "\n",
        "> The '+' sign before a correlation magnitude signifies a positive correlation which will imply that an increases in one the variables causes an increase in another variable and vice versa, whereas the '-' negative sign before a correlation value signifies a negative correlation which implies that the variables are inversely related with an increase in one variable seeing a decrease in another variable and vice versa.\n",
        "\n"
      ]
    },
    {
      "cell_type": "markdown",
      "metadata": {
        "id": "TnZ7hCTiRVH5"
      },
      "source": [
        "**Output question 3: If a feature shows 0 correlation to #Retweets, does that mean it could not contribute to prediction?**\n",
        "\n",
        "\n",
        "> A feature's 0 correlation to #Retweets means that the given variable has no influence at all to the prediction of #Retweets. Although correlation does not imply causation, a CORRELATION VALUE OF 0 to a target value strongly affirms the variables' zero influence on the target variable. \n",
        "\n"
      ]
    },
    {
      "cell_type": "markdown",
      "metadata": {
        "id": "OYTcjlHx9frR"
      },
      "source": [
        "##4.5 Further data wrangling"
      ]
    },
    {
      "cell_type": "markdown",
      "metadata": {
        "id": "9CnELevAogZU"
      },
      "source": [
        "\n",
        "\n",
        "*   At this point, we are able to argue that some other variables like Tweet ID, Username, URLs, and Entities do not influence the #Retweets variable and therefore the prediction of #Retweets\n",
        "*   We therefore drop such columns to make our data more accurate for the next phase of data modelling.\n",
        "\n"
      ]
    },
    {
      "cell_type": "code",
      "execution_count": 27,
      "metadata": {
        "id": "KyEFFtH3po8f"
      },
      "outputs": [],
      "source": [
        "# dropping more columns\n",
        "cleaned_df.drop([\"Tweet ID\", \"Username\", \"URLs\", \"Entities\"], axis = 1, inplace = True)"
      ]
    },
    {
      "cell_type": "code",
      "execution_count": 28,
      "metadata": {
        "colab": {
          "base_uri": "https://localhost:8080/"
        },
        "id": "KC6QKTWSqjWu",
        "outputId": "6826f448-df21-4b61-b88a-72fbdba22b32"
      },
      "outputs": [
        {
          "output_type": "stream",
          "name": "stdout",
          "text": [
            "<class 'pandas.core.frame.DataFrame'>\n",
            "RangeIndex: 100000 entries, 0 to 99999\n",
            "Data columns (total 9 columns):\n",
            " #   Column               Non-Null Count   Dtype\n",
            "---  ------               --------------   -----\n",
            " 0   Specific_hour        100000 non-null  int64\n",
            " 1   #Followers           100000 non-null  int64\n",
            " 2   #Friends             100000 non-null  int64\n",
            " 3   #Retweets            100000 non-null  int64\n",
            " 4   #Favorites           100000 non-null  int64\n",
            " 5   Positive_sentiments  100000 non-null  int64\n",
            " 6   Negative_sentiments  100000 non-null  int64\n",
            " 7   Number_of_Mentions   100000 non-null  int64\n",
            " 8   Number_of_Hashtags   100000 non-null  int64\n",
            "dtypes: int64(9)\n",
            "memory usage: 6.9 MB\n"
          ]
        }
      ],
      "source": [
        "# displaying the dataframe info\n",
        "cleaned_df.info()"
      ]
    },
    {
      "cell_type": "code",
      "execution_count": 29,
      "metadata": {
        "colab": {
          "base_uri": "https://localhost:8080/",
          "height": 206
        },
        "id": "31sUK9jGqvX9",
        "outputId": "c0320168-3293-4102-bdec-f1ee59c817df"
      },
      "outputs": [
        {
          "output_type": "execute_result",
          "data": {
            "text/plain": [
              "       Specific_hour  #Followers  #Friends  #Retweets  #Favorites  \\\n",
              "78963              1         917       673          0           0   \n",
              "84638             13          26        76          0           0   \n",
              "11226              4          20        76          0           0   \n",
              "31197             17         201       210          1           3   \n",
              "1376               9         578      1359          0           0   \n",
              "\n",
              "       Positive_sentiments  Negative_sentiments  Number_of_Mentions  \\\n",
              "78963                    1                   -1                   0   \n",
              "84638                    1                   -1                   0   \n",
              "11226                    2                   -4                   1   \n",
              "31197                    3                   -1                   0   \n",
              "1376                     2                   -3                   2   \n",
              "\n",
              "       Number_of_Hashtags  \n",
              "78963                   4  \n",
              "84638                   0  \n",
              "11226                   0  \n",
              "31197                   0  \n",
              "1376                    0  "
            ],
            "text/html": [
              "\n",
              "  <div id=\"df-636a19d8-c16e-4469-baa5-f9d8f6f17aa9\">\n",
              "    <div class=\"colab-df-container\">\n",
              "      <div>\n",
              "<style scoped>\n",
              "    .dataframe tbody tr th:only-of-type {\n",
              "        vertical-align: middle;\n",
              "    }\n",
              "\n",
              "    .dataframe tbody tr th {\n",
              "        vertical-align: top;\n",
              "    }\n",
              "\n",
              "    .dataframe thead th {\n",
              "        text-align: right;\n",
              "    }\n",
              "</style>\n",
              "<table border=\"1\" class=\"dataframe\">\n",
              "  <thead>\n",
              "    <tr style=\"text-align: right;\">\n",
              "      <th></th>\n",
              "      <th>Specific_hour</th>\n",
              "      <th>#Followers</th>\n",
              "      <th>#Friends</th>\n",
              "      <th>#Retweets</th>\n",
              "      <th>#Favorites</th>\n",
              "      <th>Positive_sentiments</th>\n",
              "      <th>Negative_sentiments</th>\n",
              "      <th>Number_of_Mentions</th>\n",
              "      <th>Number_of_Hashtags</th>\n",
              "    </tr>\n",
              "  </thead>\n",
              "  <tbody>\n",
              "    <tr>\n",
              "      <th>78963</th>\n",
              "      <td>1</td>\n",
              "      <td>917</td>\n",
              "      <td>673</td>\n",
              "      <td>0</td>\n",
              "      <td>0</td>\n",
              "      <td>1</td>\n",
              "      <td>-1</td>\n",
              "      <td>0</td>\n",
              "      <td>4</td>\n",
              "    </tr>\n",
              "    <tr>\n",
              "      <th>84638</th>\n",
              "      <td>13</td>\n",
              "      <td>26</td>\n",
              "      <td>76</td>\n",
              "      <td>0</td>\n",
              "      <td>0</td>\n",
              "      <td>1</td>\n",
              "      <td>-1</td>\n",
              "      <td>0</td>\n",
              "      <td>0</td>\n",
              "    </tr>\n",
              "    <tr>\n",
              "      <th>11226</th>\n",
              "      <td>4</td>\n",
              "      <td>20</td>\n",
              "      <td>76</td>\n",
              "      <td>0</td>\n",
              "      <td>0</td>\n",
              "      <td>2</td>\n",
              "      <td>-4</td>\n",
              "      <td>1</td>\n",
              "      <td>0</td>\n",
              "    </tr>\n",
              "    <tr>\n",
              "      <th>31197</th>\n",
              "      <td>17</td>\n",
              "      <td>201</td>\n",
              "      <td>210</td>\n",
              "      <td>1</td>\n",
              "      <td>3</td>\n",
              "      <td>3</td>\n",
              "      <td>-1</td>\n",
              "      <td>0</td>\n",
              "      <td>0</td>\n",
              "    </tr>\n",
              "    <tr>\n",
              "      <th>1376</th>\n",
              "      <td>9</td>\n",
              "      <td>578</td>\n",
              "      <td>1359</td>\n",
              "      <td>0</td>\n",
              "      <td>0</td>\n",
              "      <td>2</td>\n",
              "      <td>-3</td>\n",
              "      <td>2</td>\n",
              "      <td>0</td>\n",
              "    </tr>\n",
              "  </tbody>\n",
              "</table>\n",
              "</div>\n",
              "      <button class=\"colab-df-convert\" onclick=\"convertToInteractive('df-636a19d8-c16e-4469-baa5-f9d8f6f17aa9')\"\n",
              "              title=\"Convert this dataframe to an interactive table.\"\n",
              "              style=\"display:none;\">\n",
              "        \n",
              "  <svg xmlns=\"http://www.w3.org/2000/svg\" height=\"24px\"viewBox=\"0 0 24 24\"\n",
              "       width=\"24px\">\n",
              "    <path d=\"M0 0h24v24H0V0z\" fill=\"none\"/>\n",
              "    <path d=\"M18.56 5.44l.94 2.06.94-2.06 2.06-.94-2.06-.94-.94-2.06-.94 2.06-2.06.94zm-11 1L8.5 8.5l.94-2.06 2.06-.94-2.06-.94L8.5 2.5l-.94 2.06-2.06.94zm10 10l.94 2.06.94-2.06 2.06-.94-2.06-.94-.94-2.06-.94 2.06-2.06.94z\"/><path d=\"M17.41 7.96l-1.37-1.37c-.4-.4-.92-.59-1.43-.59-.52 0-1.04.2-1.43.59L10.3 9.45l-7.72 7.72c-.78.78-.78 2.05 0 2.83L4 21.41c.39.39.9.59 1.41.59.51 0 1.02-.2 1.41-.59l7.78-7.78 2.81-2.81c.8-.78.8-2.07 0-2.86zM5.41 20L4 18.59l7.72-7.72 1.47 1.35L5.41 20z\"/>\n",
              "  </svg>\n",
              "      </button>\n",
              "      \n",
              "  <style>\n",
              "    .colab-df-container {\n",
              "      display:flex;\n",
              "      flex-wrap:wrap;\n",
              "      gap: 12px;\n",
              "    }\n",
              "\n",
              "    .colab-df-convert {\n",
              "      background-color: #E8F0FE;\n",
              "      border: none;\n",
              "      border-radius: 50%;\n",
              "      cursor: pointer;\n",
              "      display: none;\n",
              "      fill: #1967D2;\n",
              "      height: 32px;\n",
              "      padding: 0 0 0 0;\n",
              "      width: 32px;\n",
              "    }\n",
              "\n",
              "    .colab-df-convert:hover {\n",
              "      background-color: #E2EBFA;\n",
              "      box-shadow: 0px 1px 2px rgba(60, 64, 67, 0.3), 0px 1px 3px 1px rgba(60, 64, 67, 0.15);\n",
              "      fill: #174EA6;\n",
              "    }\n",
              "\n",
              "    [theme=dark] .colab-df-convert {\n",
              "      background-color: #3B4455;\n",
              "      fill: #D2E3FC;\n",
              "    }\n",
              "\n",
              "    [theme=dark] .colab-df-convert:hover {\n",
              "      background-color: #434B5C;\n",
              "      box-shadow: 0px 1px 3px 1px rgba(0, 0, 0, 0.15);\n",
              "      filter: drop-shadow(0px 1px 2px rgba(0, 0, 0, 0.3));\n",
              "      fill: #FFFFFF;\n",
              "    }\n",
              "  </style>\n",
              "\n",
              "      <script>\n",
              "        const buttonEl =\n",
              "          document.querySelector('#df-636a19d8-c16e-4469-baa5-f9d8f6f17aa9 button.colab-df-convert');\n",
              "        buttonEl.style.display =\n",
              "          google.colab.kernel.accessAllowed ? 'block' : 'none';\n",
              "\n",
              "        async function convertToInteractive(key) {\n",
              "          const element = document.querySelector('#df-636a19d8-c16e-4469-baa5-f9d8f6f17aa9');\n",
              "          const dataTable =\n",
              "            await google.colab.kernel.invokeFunction('convertToInteractive',\n",
              "                                                     [key], {});\n",
              "          if (!dataTable) return;\n",
              "\n",
              "          const docLinkHtml = 'Like what you see? Visit the ' +\n",
              "            '<a target=\"_blank\" href=https://colab.research.google.com/notebooks/data_table.ipynb>data table notebook</a>'\n",
              "            + ' to learn more about interactive tables.';\n",
              "          element.innerHTML = '';\n",
              "          dataTable['output_type'] = 'display_data';\n",
              "          await google.colab.output.renderOutput(dataTable, element);\n",
              "          const docLink = document.createElement('div');\n",
              "          docLink.innerHTML = docLinkHtml;\n",
              "          element.appendChild(docLink);\n",
              "        }\n",
              "      </script>\n",
              "    </div>\n",
              "  </div>\n",
              "  "
            ]
          },
          "metadata": {},
          "execution_count": 29
        }
      ],
      "source": [
        "# printing a sample of the dataframe\n",
        "cleaned_df.sample(5)"
      ]
    },
    {
      "cell_type": "markdown",
      "metadata": {
        "id": "7xOfRAayqXtH"
      },
      "source": [
        "##4.6 Saving the data frame after final cleaning"
      ]
    },
    {
      "cell_type": "code",
      "execution_count": 30,
      "metadata": {
        "id": "7IOk1FdUq-dk"
      },
      "outputs": [],
      "source": [
        "#creating a dataframe final_df that will save the cleaned dataframe as a master CSV file\n",
        "\n",
        "cleaned_df.to_csv(r'/content/drive/MyDrive/tw_export_master.csv', index=False)"
      ]
    },
    {
      "cell_type": "markdown",
      "metadata": {
        "id": "n7282ZKeyYWZ"
      },
      "source": [
        "# **5. Phase 5: Data Modelling**"
      ]
    },
    {
      "cell_type": "code",
      "execution_count": 31,
      "metadata": {
        "id": "sl7WUhpGJIXx"
      },
      "outputs": [],
      "source": [
        "# Setting the dependencies\n",
        "from sklearn.model_selection import train_test_split\n",
        "from sklearn.feature_extraction.text import TfidfVectorizer\n",
        "from sklearn.preprocessing import MinMaxScaler\n",
        "from sklearn.model_selection import cross_val_score\n",
        "from sklearn.linear_model import LinearRegression\n",
        "from sklearn.ensemble import RandomForestRegressor\n",
        "from sklearn import metrics\n",
        "import math"
      ]
    },
    {
      "cell_type": "markdown",
      "metadata": {
        "id": "WOzYrejetCkn"
      },
      "source": [
        "## 5.1   Data Transformation -- Normalizing the Attributes using MinMaxScaler\n",
        "\n",
        "*   Normalizing attributes is the process of transforming the features’ values which are numeric in a given data set so that the values be in a specific range.\n",
        "*   Normalization is mostly achieved using a scalar.\n",
        "*   For example, in this case, the values in the ‘#Favorites’ column, which is a feature in our dataset, were normalized. Its values were transformed to be in a range between 0 and 1.\n"
      ]
    },
    {
      "cell_type": "code",
      "execution_count": 32,
      "metadata": {
        "id": "c7Xb7WxTJNq_"
      },
      "outputs": [],
      "source": [
        "#loading dataframe to be used\n",
        "final_df = pd.read_csv('/content/drive/MyDrive/tw_export_master.csv')"
      ]
    },
    {
      "cell_type": "code",
      "execution_count": 33,
      "metadata": {
        "colab": {
          "base_uri": "https://localhost:8080/"
        },
        "id": "hZJHz_37GzfB",
        "outputId": "c7f1c180-6960-4451-f3d8-698d516106bb"
      },
      "outputs": [
        {
          "output_type": "execute_result",
          "data": {
            "text/plain": [
              "Index(['Specific_hour', '#Followers', '#Friends', '#Retweets', '#Favorites',\n",
              "       'Positive_sentiments', 'Negative_sentiments', 'Number_of_Mentions',\n",
              "       'Number_of_Hashtags'],\n",
              "      dtype='object')"
            ]
          },
          "metadata": {},
          "execution_count": 33
        }
      ],
      "source": [
        "#printing the dataframe's columns\n",
        "final_df.columns"
      ]
    },
    {
      "cell_type": "code",
      "execution_count": 34,
      "metadata": {
        "id": "EngxOrdOxaMK"
      },
      "outputs": [],
      "source": [
        "values = final_df.values\n",
        "\n",
        "# ensure all data is float\n",
        "values = values.astype('float32')\n",
        "\n",
        "# creting a data object x that is initialized to  \n",
        "# our dataframe. We drop the target variable, and use \n",
        "# it to create another data object\n",
        "x = final_df.drop(\"#Retweets\", axis=1)\n",
        "\n",
        "# creting a data object y that is initialized to  \n",
        "# our target variable as a dataframe\n",
        "y = final_df[\"#Retweets\"]\n",
        "\n",
        "# defining the min max scaler\n",
        "scaler = MinMaxScaler(feature_range=(0, 1))\n",
        "\n",
        "# normalizing features\n",
        "scaled_df = scaler.fit_transform(x)\n",
        "scaled_df=pd.DataFrame(scaled_df,columns=x.columns)"
      ]
    },
    {
      "cell_type": "code",
      "execution_count": 35,
      "metadata": {
        "colab": {
          "base_uri": "https://localhost:8080/",
          "height": 0
        },
        "id": "ChamGs5AOrZH",
        "outputId": "0fdbc897-2d0d-497f-96ca-48d7e7416a0a"
      },
      "outputs": [
        {
          "output_type": "execute_result",
          "data": {
            "text/plain": [
              "       Specific_hour  #Followers  #Friends  #Favorites  Positive_sentiments  \\\n",
              "97631       0.086957    0.000007  0.000334    0.000226                 0.00   \n",
              "49972       0.173913    0.000020  0.000553    0.000097                 0.25   \n",
              "96880       1.000000    0.000125  0.005869    0.000022                 0.00   \n",
              "61047       0.956522    0.000006  0.000205    0.000016                 0.25   \n",
              "50152       0.739130    0.000115  0.004803    0.000000                 0.00   \n",
              "11423       0.782609    0.000001  0.000042    0.000000                 0.00   \n",
              "50749       0.086957    0.000003  0.000167    0.000000                 0.25   \n",
              "89336       0.565217    0.000017  0.000131    0.000151                 0.25   \n",
              "94889       0.043478    0.000064  0.000829    0.000092                 0.25   \n",
              "14244       0.521739    0.000005  0.000166    0.000000                 0.00   \n",
              "\n",
              "       Negative_sentiments  Number_of_Mentions  Number_of_Hashtags  \n",
              "97631                 1.00                0.00            0.000000  \n",
              "49972                 1.00                0.02            0.000000  \n",
              "96880                 0.50                0.00            0.000000  \n",
              "61047                 1.00                0.04            0.000000  \n",
              "50152                 0.75                0.06            0.000000  \n",
              "11423                 0.25                0.00            0.000000  \n",
              "50749                 1.00                0.04            0.000000  \n",
              "89336                 1.00                0.00            0.166667  \n",
              "94889                 0.75                0.00            0.000000  \n",
              "14244                 1.00                0.00            0.000000  "
            ],
            "text/html": [
              "\n",
              "  <div id=\"df-62dda499-c8f7-4a81-88d7-bb2feb31c497\">\n",
              "    <div class=\"colab-df-container\">\n",
              "      <div>\n",
              "<style scoped>\n",
              "    .dataframe tbody tr th:only-of-type {\n",
              "        vertical-align: middle;\n",
              "    }\n",
              "\n",
              "    .dataframe tbody tr th {\n",
              "        vertical-align: top;\n",
              "    }\n",
              "\n",
              "    .dataframe thead th {\n",
              "        text-align: right;\n",
              "    }\n",
              "</style>\n",
              "<table border=\"1\" class=\"dataframe\">\n",
              "  <thead>\n",
              "    <tr style=\"text-align: right;\">\n",
              "      <th></th>\n",
              "      <th>Specific_hour</th>\n",
              "      <th>#Followers</th>\n",
              "      <th>#Friends</th>\n",
              "      <th>#Favorites</th>\n",
              "      <th>Positive_sentiments</th>\n",
              "      <th>Negative_sentiments</th>\n",
              "      <th>Number_of_Mentions</th>\n",
              "      <th>Number_of_Hashtags</th>\n",
              "    </tr>\n",
              "  </thead>\n",
              "  <tbody>\n",
              "    <tr>\n",
              "      <th>97631</th>\n",
              "      <td>0.086957</td>\n",
              "      <td>0.000007</td>\n",
              "      <td>0.000334</td>\n",
              "      <td>0.000226</td>\n",
              "      <td>0.00</td>\n",
              "      <td>1.00</td>\n",
              "      <td>0.00</td>\n",
              "      <td>0.000000</td>\n",
              "    </tr>\n",
              "    <tr>\n",
              "      <th>49972</th>\n",
              "      <td>0.173913</td>\n",
              "      <td>0.000020</td>\n",
              "      <td>0.000553</td>\n",
              "      <td>0.000097</td>\n",
              "      <td>0.25</td>\n",
              "      <td>1.00</td>\n",
              "      <td>0.02</td>\n",
              "      <td>0.000000</td>\n",
              "    </tr>\n",
              "    <tr>\n",
              "      <th>96880</th>\n",
              "      <td>1.000000</td>\n",
              "      <td>0.000125</td>\n",
              "      <td>0.005869</td>\n",
              "      <td>0.000022</td>\n",
              "      <td>0.00</td>\n",
              "      <td>0.50</td>\n",
              "      <td>0.00</td>\n",
              "      <td>0.000000</td>\n",
              "    </tr>\n",
              "    <tr>\n",
              "      <th>61047</th>\n",
              "      <td>0.956522</td>\n",
              "      <td>0.000006</td>\n",
              "      <td>0.000205</td>\n",
              "      <td>0.000016</td>\n",
              "      <td>0.25</td>\n",
              "      <td>1.00</td>\n",
              "      <td>0.04</td>\n",
              "      <td>0.000000</td>\n",
              "    </tr>\n",
              "    <tr>\n",
              "      <th>50152</th>\n",
              "      <td>0.739130</td>\n",
              "      <td>0.000115</td>\n",
              "      <td>0.004803</td>\n",
              "      <td>0.000000</td>\n",
              "      <td>0.00</td>\n",
              "      <td>0.75</td>\n",
              "      <td>0.06</td>\n",
              "      <td>0.000000</td>\n",
              "    </tr>\n",
              "    <tr>\n",
              "      <th>11423</th>\n",
              "      <td>0.782609</td>\n",
              "      <td>0.000001</td>\n",
              "      <td>0.000042</td>\n",
              "      <td>0.000000</td>\n",
              "      <td>0.00</td>\n",
              "      <td>0.25</td>\n",
              "      <td>0.00</td>\n",
              "      <td>0.000000</td>\n",
              "    </tr>\n",
              "    <tr>\n",
              "      <th>50749</th>\n",
              "      <td>0.086957</td>\n",
              "      <td>0.000003</td>\n",
              "      <td>0.000167</td>\n",
              "      <td>0.000000</td>\n",
              "      <td>0.25</td>\n",
              "      <td>1.00</td>\n",
              "      <td>0.04</td>\n",
              "      <td>0.000000</td>\n",
              "    </tr>\n",
              "    <tr>\n",
              "      <th>89336</th>\n",
              "      <td>0.565217</td>\n",
              "      <td>0.000017</td>\n",
              "      <td>0.000131</td>\n",
              "      <td>0.000151</td>\n",
              "      <td>0.25</td>\n",
              "      <td>1.00</td>\n",
              "      <td>0.00</td>\n",
              "      <td>0.166667</td>\n",
              "    </tr>\n",
              "    <tr>\n",
              "      <th>94889</th>\n",
              "      <td>0.043478</td>\n",
              "      <td>0.000064</td>\n",
              "      <td>0.000829</td>\n",
              "      <td>0.000092</td>\n",
              "      <td>0.25</td>\n",
              "      <td>0.75</td>\n",
              "      <td>0.00</td>\n",
              "      <td>0.000000</td>\n",
              "    </tr>\n",
              "    <tr>\n",
              "      <th>14244</th>\n",
              "      <td>0.521739</td>\n",
              "      <td>0.000005</td>\n",
              "      <td>0.000166</td>\n",
              "      <td>0.000000</td>\n",
              "      <td>0.00</td>\n",
              "      <td>1.00</td>\n",
              "      <td>0.00</td>\n",
              "      <td>0.000000</td>\n",
              "    </tr>\n",
              "  </tbody>\n",
              "</table>\n",
              "</div>\n",
              "      <button class=\"colab-df-convert\" onclick=\"convertToInteractive('df-62dda499-c8f7-4a81-88d7-bb2feb31c497')\"\n",
              "              title=\"Convert this dataframe to an interactive table.\"\n",
              "              style=\"display:none;\">\n",
              "        \n",
              "  <svg xmlns=\"http://www.w3.org/2000/svg\" height=\"24px\"viewBox=\"0 0 24 24\"\n",
              "       width=\"24px\">\n",
              "    <path d=\"M0 0h24v24H0V0z\" fill=\"none\"/>\n",
              "    <path d=\"M18.56 5.44l.94 2.06.94-2.06 2.06-.94-2.06-.94-.94-2.06-.94 2.06-2.06.94zm-11 1L8.5 8.5l.94-2.06 2.06-.94-2.06-.94L8.5 2.5l-.94 2.06-2.06.94zm10 10l.94 2.06.94-2.06 2.06-.94-2.06-.94-.94-2.06-.94 2.06-2.06.94z\"/><path d=\"M17.41 7.96l-1.37-1.37c-.4-.4-.92-.59-1.43-.59-.52 0-1.04.2-1.43.59L10.3 9.45l-7.72 7.72c-.78.78-.78 2.05 0 2.83L4 21.41c.39.39.9.59 1.41.59.51 0 1.02-.2 1.41-.59l7.78-7.78 2.81-2.81c.8-.78.8-2.07 0-2.86zM5.41 20L4 18.59l7.72-7.72 1.47 1.35L5.41 20z\"/>\n",
              "  </svg>\n",
              "      </button>\n",
              "      \n",
              "  <style>\n",
              "    .colab-df-container {\n",
              "      display:flex;\n",
              "      flex-wrap:wrap;\n",
              "      gap: 12px;\n",
              "    }\n",
              "\n",
              "    .colab-df-convert {\n",
              "      background-color: #E8F0FE;\n",
              "      border: none;\n",
              "      border-radius: 50%;\n",
              "      cursor: pointer;\n",
              "      display: none;\n",
              "      fill: #1967D2;\n",
              "      height: 32px;\n",
              "      padding: 0 0 0 0;\n",
              "      width: 32px;\n",
              "    }\n",
              "\n",
              "    .colab-df-convert:hover {\n",
              "      background-color: #E2EBFA;\n",
              "      box-shadow: 0px 1px 2px rgba(60, 64, 67, 0.3), 0px 1px 3px 1px rgba(60, 64, 67, 0.15);\n",
              "      fill: #174EA6;\n",
              "    }\n",
              "\n",
              "    [theme=dark] .colab-df-convert {\n",
              "      background-color: #3B4455;\n",
              "      fill: #D2E3FC;\n",
              "    }\n",
              "\n",
              "    [theme=dark] .colab-df-convert:hover {\n",
              "      background-color: #434B5C;\n",
              "      box-shadow: 0px 1px 3px 1px rgba(0, 0, 0, 0.15);\n",
              "      filter: drop-shadow(0px 1px 2px rgba(0, 0, 0, 0.3));\n",
              "      fill: #FFFFFF;\n",
              "    }\n",
              "  </style>\n",
              "\n",
              "      <script>\n",
              "        const buttonEl =\n",
              "          document.querySelector('#df-62dda499-c8f7-4a81-88d7-bb2feb31c497 button.colab-df-convert');\n",
              "        buttonEl.style.display =\n",
              "          google.colab.kernel.accessAllowed ? 'block' : 'none';\n",
              "\n",
              "        async function convertToInteractive(key) {\n",
              "          const element = document.querySelector('#df-62dda499-c8f7-4a81-88d7-bb2feb31c497');\n",
              "          const dataTable =\n",
              "            await google.colab.kernel.invokeFunction('convertToInteractive',\n",
              "                                                     [key], {});\n",
              "          if (!dataTable) return;\n",
              "\n",
              "          const docLinkHtml = 'Like what you see? Visit the ' +\n",
              "            '<a target=\"_blank\" href=https://colab.research.google.com/notebooks/data_table.ipynb>data table notebook</a>'\n",
              "            + ' to learn more about interactive tables.';\n",
              "          element.innerHTML = '';\n",
              "          dataTable['output_type'] = 'display_data';\n",
              "          await google.colab.output.renderOutput(dataTable, element);\n",
              "          const docLink = document.createElement('div');\n",
              "          docLink.innerHTML = docLinkHtml;\n",
              "          element.appendChild(docLink);\n",
              "        }\n",
              "      </script>\n",
              "    </div>\n",
              "  </div>\n",
              "  "
            ]
          },
          "metadata": {},
          "execution_count": 35
        }
      ],
      "source": [
        "#printing a sample of the normalized dataframe\n",
        "scaled_df.sample(10)"
      ]
    },
    {
      "cell_type": "markdown",
      "metadata": {
        "id": "DibWNtLnICCY"
      },
      "source": [
        "## 5.2  Splitting the normalized dataframe into train and test sets"
      ]
    },
    {
      "cell_type": "code",
      "execution_count": 36,
      "metadata": {
        "id": "Qt_ZeIoYIIMr"
      },
      "outputs": [],
      "source": [
        "# creating a method to split normalized data to train and test set\n",
        "def split_to_train_and_test(x, y, test_size):\n",
        "    #creating data objects x_train, x_test, y_train, and y_test and initializing them \n",
        "    x_train, x_test, y_train, y_test = train_test_split(scaled_df, y, test_size=test_size)\n",
        "    #printing the shapes of the train set and test sets\n",
        "    print(x_train.shape, x_test.shape, y_train.shape, y_test.shape)\n",
        "    # seting the return outputs\n",
        "    return x_train, x_test, y_train, y_test"
      ]
    },
    {
      "cell_type": "code",
      "execution_count": 37,
      "metadata": {
        "colab": {
          "base_uri": "https://localhost:8080/"
        },
        "id": "eCnUHzUXZX1w",
        "outputId": "6c9ee28f-5711-4487-cfe4-097307adac11"
      },
      "outputs": [
        {
          "output_type": "stream",
          "name": "stdout",
          "text": [
            "(80000, 8) (20000, 8) (80000,) (20000,)\n"
          ]
        }
      ],
      "source": [
        "#calling the split_to_train_and_test method and passing parameters to it\n",
        "# which include the scaled dataframe and a split measure of 0.20\n",
        "x_train, x_test, y_train, y_test = split_to_train_and_test(scaled_df, y, 0.20)"
      ]
    },
    {
      "cell_type": "markdown",
      "metadata": {
        "id": "bQ3WU3htho0j"
      },
      "source": [
        "*   The output (80000, 8) and (80000,) illustrates a train set which will be the first  80,000 samples of the data frame.\n",
        "*   The output (20000, 8) and (20000,) illustrates a test set which will be  the last 20,000 samples of the data frame.\n",
        "\n",
        "\n"
      ]
    },
    {
      "cell_type": "markdown",
      "metadata": {
        "id": "MwsRCtsPDD4N"
      },
      "source": [
        "# **6. Phase 6: Model Evaluation**"
      ]
    },
    {
      "cell_type": "markdown",
      "metadata": {
        "id": "UmprBlpFyiil"
      },
      "source": [
        "This phase is guided by: \n",
        "1. Training and Testing different models\n",
        "2. Evaluating the models on differnt Evaluation metrics"
      ]
    },
    {
      "cell_type": "markdown",
      "metadata": {
        "id": "dYPIQNKfmSig"
      },
      "source": [
        "## 6.1 Training and Testing different models"
      ]
    },
    {
      "cell_type": "markdown",
      "metadata": {
        "id": "GWxRZ2OM8Fe8"
      },
      "source": [
        "### **6.1.1 Creating (Training) a Multiple Regression model and making a prediction using it**"
      ]
    },
    {
      "cell_type": "code",
      "execution_count": 57,
      "metadata": {
        "colab": {
          "base_uri": "https://localhost:8080/"
        },
        "id": "d0V9B9mlSVmK",
        "outputId": "53e20a60-a9ab-4a3f-9e20-2fabe8767021"
      },
      "outputs": [
        {
          "output_type": "stream",
          "name": "stdout",
          "text": [
            "R-Squared:  0.7773747307063539\n",
            "MSE:  18812.236987495377\n",
            "RMSE:  137.15770845087553\n"
          ]
        }
      ],
      "source": [
        "# building random forest model\n",
        "mul_reg_model = LinearRegression()\n",
        "\n",
        "# using the model.fit() function to ensure that the returned result(model) does not \n",
        "# overfit or underfits thus ensuring the model's reliability and accuracy\n",
        "mul_reg_model.fit(x_train,y_train)\n",
        "\n",
        "#Prediction using test set and hold the result to a data object y_predict\n",
        "y_predict = mul_reg_model.predict(x_test)\n",
        "\n",
        "# finding the Mean Square Error\n",
        "mse=metrics.mean_squared_error(y_test, y_predict)\n",
        "\n",
        "#calculating the RMSE using the mse found\n",
        "rmse = math.sqrt(mse)\n",
        "\n",
        "# Printing the differenet Evaluation metrics\n",
        "print('R-Squared: ',metrics.r2_score(y_test, y_predict))\n",
        "print('MSE: ', mse)\n",
        "print('RMSE: ', rmse)"
      ]
    },
    {
      "cell_type": "markdown",
      "metadata": {
        "id": "oK8w3UE77POi"
      },
      "source": [
        "### **6.1.2 Creating (Training) a Random Forest Regressor model and making a prediction using it**"
      ]
    },
    {
      "cell_type": "code",
      "execution_count": 60,
      "metadata": {
        "colab": {
          "base_uri": "https://localhost:8080/"
        },
        "id": "4QxLxz8SLaaB",
        "outputId": "77e392dd-3c32-4c92-9233-3014a96f4ccb"
      },
      "outputs": [
        {
          "output_type": "stream",
          "name": "stdout",
          "text": [
            "R-squared: 0.7112699404298706\n",
            "MSE:  24398.211053402443\n",
            "RMSE:  156.19926713465222\n"
          ]
        }
      ],
      "source": [
        "# building random forest model\n",
        "random_forest_regr_model = RandomForestRegressor(max_depth=10)\n",
        "\n",
        "# using the model.fit() function to ensure that the returned result(model) does not \n",
        "# overfit or underfits thus ensuring the model's reliability and accuracy\n",
        "random_forest_regr_model.fit(x_train,y_train)\n",
        "\n",
        "#Predicting the #Retweets using the test set \n",
        "y_prediction = random_forest_regr_model.predict(x_test)\n",
        "\n",
        "# finding the Mean Squared Error\n",
        "mse=metrics.mean_squared_error(y_test, y_prediction)\n",
        "\n",
        "#calculating the RMSE\n",
        "rmse = math.sqrt(mse)\n",
        "\n",
        "# Printing the different evaluation metrics\n",
        "print('R-squared:',metrics.r2_score(y_test, y_prediction))\n",
        "print('MSE: ', mse)\n",
        "print('RMSE: ', rmse)"
      ]
    },
    {
      "cell_type": "markdown",
      "metadata": {
        "id": "GwzAp6D_Wg2d"
      },
      "source": [
        "## 6.2 Evaluating different models on different Evaluation metrics"
      ]
    },
    {
      "cell_type": "markdown",
      "metadata": {
        "id": "HXBCUoloCN7q"
      },
      "source": [
        "**⦁\tCompare the two regression methods you used in the previous part on the training and test sets. What evaluation metrics are appropriate?**\n",
        "\n",
        "> The evaluation metrics that have been used are R-Squared and RMSE. \n",
        "\n",
        "> Both models had very high RMSE values \n",
        "\n",
        "> **The Multiple Linear model is considered better than the Random Forest model**. This is because the **Multiple Linear model had a higher R-squared value of 0.777** compared to that of the Random Forest model which, although constanlly giving different accuracies when evaluation was done on it, the Random Forest model still had a lower R-squared. \n",
        "\n",
        "> The Multiple Linear model would therefore give better prediction of Covid-19 related tweets.\n",
        "\n"
      ]
    }
  ],
  "metadata": {
    "colab": {
      "collapsed_sections": [
        "n7282ZKeyYWZ"
      ],
      "provenance": [],
      "mount_file_id": "1FWzuoNCa_B6njvR0l4cpUDAnLEw3awMW",
      "authorship_tag": "ABX9TyOtJmEj2OxDLnAo3RmaX/mu",
      "include_colab_link": true
    },
    "kernelspec": {
      "display_name": "Python 3",
      "name": "python3"
    },
    "language_info": {
      "name": "python"
    }
  },
  "nbformat": 4,
  "nbformat_minor": 0
}