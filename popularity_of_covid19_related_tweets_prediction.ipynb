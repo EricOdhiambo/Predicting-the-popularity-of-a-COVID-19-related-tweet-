{
  "cells": [
    {
      "cell_type": "markdown",
      "metadata": {
        "id": "view-in-github",
        "colab_type": "text"
      },
      "source": [
        "<a href=\"https://colab.research.google.com/github/EricOdhiambo/Predicting-the-popularity-of-a-COVID-19-related-tweet-/blob/main/popularity_of_covid19_related_tweets_prediction.ipynb\" target=\"_parent\"><img src=\"https://colab.research.google.com/assets/colab-badge.svg\" alt=\"Open In Colab\"/></a>"
      ]
    },
    {
      "cell_type": "markdown",
      "metadata": {
        "id": "YQbKQ02SOvek"
      },
      "source": [
        "# Project: Predict the popularity of COVID-19-related tweets in terms of the number of their retweets\n",
        "\n",
        "\n",
        "\n",
        "**Project Objective**\n",
        "\n",
        "\n",
        "**Project Guide**\n",
        "\n",
        "The goal of this project is achieved by employing the life cycle of a Data Science Project. The cycle consists of the phases below:\n",
        "\n",
        "\n",
        "1.   Business Understanding\n",
        "2.   Data Understanding \n",
        " *   Data Collection\n",
        "    \n",
        "3.   Data preperation   \n",
        "4.   Exploratory Data Analysis\n",
        "5.   Data Modelling\n",
        "6.   Model Evaluation \n"
      ]
    },
    {
      "cell_type": "markdown",
      "metadata": {
        "id": "qaWbQJ-ugeAn"
      },
      "source": [
        "## **1. Phase 1: Business Understanding**\n",
        "\n",
        "The aim of this project is to **predict the popularity of COVID-19-related tweets in terms of the number of their retweets**. Basically, we will predict a tweet’s popularity using the number of its retweets as influenced by other factors that relate to it."
      ]
    },
    {
      "cell_type": "markdown",
      "metadata": {
        "id": "oJNLSBuAx5j7"
      },
      "source": [
        "# **2. Phase 2: Data Collection**"
      ]
    },
    {
      "cell_type": "code",
      "execution_count": null,
      "metadata": {
        "id": "B7UR1wDxzHHD"
      },
      "outputs": [],
      "source": [
        "# Setting up required packages and dependecies\n",
        "\n",
        "import sys # give access to variables and functions that interact strongly with interpreter\n",
        "import matplotlib.pyplot as plt #to plot graphs and histograms\n",
        "%matplotlib inline\n",
        "import numpy as np #for linear algebra\n",
        "from scipy.stats import randint\n",
        "import pandas as pd #processing the datasets, CSV file I/O\n",
        "import seaborn as sbn #to plot interactive graphs"
      ]
    },
    {
      "cell_type": "code",
      "execution_count": null,
      "metadata": {
        "colab": {
          "base_uri": "https://localhost:8080/"
        },
        "id": "gIP302Qz6V7v",
        "outputId": "a14642b2-fe80-455f-f80b-eb35b7cc6c2c"
      },
      "outputs": [
        {
          "name": "stdout",
          "output_type": "stream",
          "text": [
            "Drive already mounted at /content/drive; to attempt to forcibly remount, call drive.mount(\"/content/drive\", force_remount=True).\n"
          ]
        }
      ],
      "source": [
        "#mounting drive to google colab\n",
        "\n",
        "from google.colab import drive\n",
        "drive.mount('/content/drive')"
      ]
    },
    {
      "cell_type": "code",
      "execution_count": null,
      "metadata": {
        "id": "t9ThDWN765PF"
      },
      "outputs": [],
      "source": [
        "#loading the dataset to be used as a data frame called tw_export_df\n",
        "tw_export_df = pd.read_excel('/content/drive/MyDrive/tw_export.xlsx')"
      ]
    },
    {
      "cell_type": "code",
      "execution_count": null,
      "metadata": {
        "colab": {
          "base_uri": "https://localhost:8080/",
          "height": 1000
        },
        "id": "hLDAYhnc9e_j",
        "outputId": "b05233f9-7282-4a7e-9ea4-2122173ebc98"
      },
      "outputs": [
        {
          "data": {
            "text/html": [
              "\n",
              "  <div id=\"df-4b681a21-1d27-4a17-9307-f0173a438c38\">\n",
              "    <div class=\"colab-df-container\">\n",
              "      <div>\n",
              "<style scoped>\n",
              "    .dataframe tbody tr th:only-of-type {\n",
              "        vertical-align: middle;\n",
              "    }\n",
              "\n",
              "    .dataframe tbody tr th {\n",
              "        vertical-align: top;\n",
              "    }\n",
              "\n",
              "    .dataframe thead th {\n",
              "        text-align: right;\n",
              "    }\n",
              "</style>\n",
              "<table border=\"1\" class=\"dataframe\">\n",
              "  <thead>\n",
              "    <tr style=\"text-align: right;\">\n",
              "      <th></th>\n",
              "      <th>Tweet ID</th>\n",
              "      <th>Username</th>\n",
              "      <th>Timestamp</th>\n",
              "      <th>#Followers</th>\n",
              "      <th>#Friends</th>\n",
              "      <th>#Retweets</th>\n",
              "      <th>#Favorites</th>\n",
              "      <th>Entities</th>\n",
              "      <th>Sentiment</th>\n",
              "      <th>Mentions</th>\n",
              "      <th>Hashtags</th>\n",
              "      <th>URLs</th>\n",
              "    </tr>\n",
              "  </thead>\n",
              "  <tbody>\n",
              "    <tr>\n",
              "      <th>81141</th>\n",
              "      <td>1.184826e+18</td>\n",
              "      <td>10bad4a64bb1412736cbec1d069a342b</td>\n",
              "      <td>Thu Oct 17 13:37:25 +0000 2019</td>\n",
              "      <td>866</td>\n",
              "      <td>1211</td>\n",
              "      <td>5</td>\n",
              "      <td>10</td>\n",
              "      <td>null;</td>\n",
              "      <td>1 -2</td>\n",
              "      <td>null;</td>\n",
              "      <td>null;</td>\n",
              "      <td>null;</td>\n",
              "    </tr>\n",
              "    <tr>\n",
              "      <th>41281</th>\n",
              "      <td>1.182416e+18</td>\n",
              "      <td>f3099df8c95413f4970b352d700a3388</td>\n",
              "      <td>Thu Oct 10 22:03:01 +0000 2019</td>\n",
              "      <td>20</td>\n",
              "      <td>56</td>\n",
              "      <td>0</td>\n",
              "      <td>0</td>\n",
              "      <td>null;</td>\n",
              "      <td>2 -2</td>\n",
              "      <td>null;</td>\n",
              "      <td>AutismSpeaks</td>\n",
              "      <td>null;</td>\n",
              "    </tr>\n",
              "    <tr>\n",
              "      <th>95384</th>\n",
              "      <td>1.186591e+18</td>\n",
              "      <td>d1a27a60b91880fe9ab6b3d3974cca73</td>\n",
              "      <td>Tue Oct 22 10:30:31 +0000 2019</td>\n",
              "      <td>147</td>\n",
              "      <td>371</td>\n",
              "      <td>0</td>\n",
              "      <td>0</td>\n",
              "      <td>pharmacy:Pharmacy:-2.7611674423555717;</td>\n",
              "      <td>1 -1</td>\n",
              "      <td>RetellPharmacy</td>\n",
              "      <td>null;</td>\n",
              "      <td>null;</td>\n",
              "    </tr>\n",
              "    <tr>\n",
              "      <th>99541</th>\n",
              "      <td>1.179124e+18</td>\n",
              "      <td>f656e409e8495145a7aae449d9ae1749</td>\n",
              "      <td>Tue Oct 01 20:02:15 +0000 2019</td>\n",
              "      <td>1890</td>\n",
              "      <td>831</td>\n",
              "      <td>0</td>\n",
              "      <td>0</td>\n",
              "      <td>null;</td>\n",
              "      <td>1 -1</td>\n",
              "      <td>null;</td>\n",
              "      <td>null;</td>\n",
              "      <td>null;</td>\n",
              "    </tr>\n",
              "    <tr>\n",
              "      <th>54630</th>\n",
              "      <td>1.183431e+18</td>\n",
              "      <td>ee6984537a2c5dc38f4d176927f6392b</td>\n",
              "      <td>Sun Oct 13 17:13:17 +0000 2019</td>\n",
              "      <td>569</td>\n",
              "      <td>293</td>\n",
              "      <td>0</td>\n",
              "      <td>0</td>\n",
              "      <td>null;</td>\n",
              "      <td>1 -1</td>\n",
              "      <td>null;</td>\n",
              "      <td>null;</td>\n",
              "      <td>null;</td>\n",
              "    </tr>\n",
              "    <tr>\n",
              "      <th>92126</th>\n",
              "      <td>1.183594e+18</td>\n",
              "      <td>efdabdfac19e5837f064d83f50d0c4b9</td>\n",
              "      <td>Mon Oct 14 04:02:21 +0000 2019</td>\n",
              "      <td>2223</td>\n",
              "      <td>1928</td>\n",
              "      <td>44</td>\n",
              "      <td>81</td>\n",
              "      <td>null;</td>\n",
              "      <td>1 -3</td>\n",
              "      <td>null;</td>\n",
              "      <td>WildOutWednesday FreakNikFriday</td>\n",
              "      <td>null;</td>\n",
              "    </tr>\n",
              "    <tr>\n",
              "      <th>38586</th>\n",
              "      <td>1.180107e+18</td>\n",
              "      <td>e45f864ad2aae189cf61d4abd2002a55</td>\n",
              "      <td>Fri Oct 04 13:05:41 +0000 2019</td>\n",
              "      <td>30532</td>\n",
              "      <td>735</td>\n",
              "      <td>0</td>\n",
              "      <td>0</td>\n",
              "      <td>electronic cigarette:Electronic_cigarette:-0.6...</td>\n",
              "      <td>1 -1</td>\n",
              "      <td>null;</td>\n",
              "      <td>null;</td>\n",
              "      <td>https://www.timesunion.com/news/article/Judge-...</td>\n",
              "    </tr>\n",
              "    <tr>\n",
              "      <th>63598</th>\n",
              "      <td>1.180351e+18</td>\n",
              "      <td>c1950cfddd7e1835e9e34abed36f75e0</td>\n",
              "      <td>Sat Oct 05 05:17:53 +0000 2019</td>\n",
              "      <td>817</td>\n",
              "      <td>1688</td>\n",
              "      <td>0</td>\n",
              "      <td>0</td>\n",
              "      <td>china:China:-2.113921624336916;life expectancy...</td>\n",
              "      <td>1 -1</td>\n",
              "      <td>null;</td>\n",
              "      <td>null;</td>\n",
              "      <td>https://twitter.com/Gundisalvus/status/1179095...</td>\n",
              "    </tr>\n",
              "    <tr>\n",
              "      <th>19444</th>\n",
              "      <td>1.185096e+18</td>\n",
              "      <td>eb5400b118492db3d62ef1073cbf92df</td>\n",
              "      <td>Fri Oct 18 07:32:25 +0000 2019</td>\n",
              "      <td>1948</td>\n",
              "      <td>2332</td>\n",
              "      <td>0</td>\n",
              "      <td>0</td>\n",
              "      <td>business plan:Business_plan:-2.7397893068407955;</td>\n",
              "      <td>1 -2</td>\n",
              "      <td>kyledrake VitalikButerin glenweyl nytopinion p...</td>\n",
              "      <td>null;</td>\n",
              "      <td>null;</td>\n",
              "    </tr>\n",
              "    <tr>\n",
              "      <th>81719</th>\n",
              "      <td>1.185288e+18</td>\n",
              "      <td>3d813ecb33379f4db8ff43b129fbce66</td>\n",
              "      <td>Fri Oct 18 20:16:04 +0000 2019</td>\n",
              "      <td>2239</td>\n",
              "      <td>277</td>\n",
              "      <td>10</td>\n",
              "      <td>19</td>\n",
              "      <td>kurdish people:Kurds:-1.7805603333846196;sason...</td>\n",
              "      <td>1 -3</td>\n",
              "      <td>null;</td>\n",
              "      <td>SDF SDF</td>\n",
              "      <td>null;</td>\n",
              "    </tr>\n",
              "    <tr>\n",
              "      <th>75303</th>\n",
              "      <td>1.179738e+18</td>\n",
              "      <td>579fa31476f43f7e96872e691a1509a6</td>\n",
              "      <td>Thu Oct 03 12:39:30 +0000 2019</td>\n",
              "      <td>67</td>\n",
              "      <td>537</td>\n",
              "      <td>0</td>\n",
              "      <td>0</td>\n",
              "      <td>flower power:Flower_power:-1.8088552941687601;...</td>\n",
              "      <td>2 -1</td>\n",
              "      <td>eBay_UK</td>\n",
              "      <td>null;</td>\n",
              "      <td>https://ebay.us/OnWrXB:-:</td>\n",
              "    </tr>\n",
              "    <tr>\n",
              "      <th>46484</th>\n",
              "      <td>1.187224e+18</td>\n",
              "      <td>563d884fe6df20a5c2e254f7219cf122</td>\n",
              "      <td>Thu Oct 24 04:26:43 +0000 2019</td>\n",
              "      <td>7395</td>\n",
              "      <td>7536</td>\n",
              "      <td>5</td>\n",
              "      <td>5</td>\n",
              "      <td>begs the question:Begging_the_question:-2.9122...</td>\n",
              "      <td>1 -1</td>\n",
              "      <td>null;</td>\n",
              "      <td>null;</td>\n",
              "      <td>null;</td>\n",
              "    </tr>\n",
              "    <tr>\n",
              "      <th>67198</th>\n",
              "      <td>1.183463e+18</td>\n",
              "      <td>952be1c931acfed7077e728320500d29</td>\n",
              "      <td>Sun Oct 13 19:21:04 +0000 2019</td>\n",
              "      <td>77972</td>\n",
              "      <td>79569</td>\n",
              "      <td>56</td>\n",
              "      <td>66</td>\n",
              "      <td>joe biden:Joe_Biden:-0.7977611841204905;stephe...</td>\n",
              "      <td>1 -3</td>\n",
              "      <td>null;</td>\n",
              "      <td>null;</td>\n",
              "      <td>null;</td>\n",
              "    </tr>\n",
              "    <tr>\n",
              "      <th>914</th>\n",
              "      <td>1.179599e+18</td>\n",
              "      <td>90590302eb0a5cbdcaa05a87654a0540</td>\n",
              "      <td>Thu Oct 03 03:29:37 +0000 2019</td>\n",
              "      <td>7140</td>\n",
              "      <td>7387</td>\n",
              "      <td>0</td>\n",
              "      <td>0</td>\n",
              "      <td>eager to live:Eager_to_Live:-1.8283371410601785;</td>\n",
              "      <td>2 -1</td>\n",
              "      <td>null;</td>\n",
              "      <td>Trump TrumpPressConference DoNothingDonald Imp...</td>\n",
              "      <td>null;</td>\n",
              "    </tr>\n",
              "    <tr>\n",
              "      <th>49</th>\n",
              "      <td>1.178841e+18</td>\n",
              "      <td>8159fa2d1efc6daa951cbf50c1e46758</td>\n",
              "      <td>Tue Oct 01 01:16:03 +0000 2019</td>\n",
              "      <td>1555</td>\n",
              "      <td>198</td>\n",
              "      <td>17</td>\n",
              "      <td>37</td>\n",
              "      <td>vera cruz:Veracruz_%28city%29:-2.0202881077059...</td>\n",
              "      <td>2 -1</td>\n",
              "      <td>null;</td>\n",
              "      <td>null;</td>\n",
              "      <td>null;</td>\n",
              "    </tr>\n",
              "    <tr>\n",
              "      <th>61161</th>\n",
              "      <td>1.189425e+18</td>\n",
              "      <td>65726a44079ab7405ede2afc3c53e530</td>\n",
              "      <td>Wed Oct 30 06:14:08 +0000 2019</td>\n",
              "      <td>1143728</td>\n",
              "      <td>77</td>\n",
              "      <td>27</td>\n",
              "      <td>56</td>\n",
              "      <td>kashmiris:Kashmiris:-1.4069437311703492;kashmi...</td>\n",
              "      <td>2 -3</td>\n",
              "      <td>null;</td>\n",
              "      <td>null;</td>\n",
              "      <td>https://twitter.com/AndleebAbbas/status/118942...</td>\n",
              "    </tr>\n",
              "    <tr>\n",
              "      <th>8917</th>\n",
              "      <td>1.186854e+18</td>\n",
              "      <td>ea215cb25284073249103b5651876be2</td>\n",
              "      <td>Wed Oct 23 03:58:47 +0000 2019</td>\n",
              "      <td>1493</td>\n",
              "      <td>1379</td>\n",
              "      <td>8</td>\n",
              "      <td>12</td>\n",
              "      <td>close to home:Close_to_Home_%282005_TV_series%...</td>\n",
              "      <td>1 -2</td>\n",
              "      <td>null;</td>\n",
              "      <td>null;</td>\n",
              "      <td>http://www.gofundme.com/f/amber039s-fight-with...</td>\n",
              "    </tr>\n",
              "    <tr>\n",
              "      <th>75334</th>\n",
              "      <td>1.179758e+18</td>\n",
              "      <td>2a6741fb77852b720ba9e856bd5055ac</td>\n",
              "      <td>Thu Oct 03 14:00:16 +0000 2019</td>\n",
              "      <td>2531</td>\n",
              "      <td>179</td>\n",
              "      <td>0</td>\n",
              "      <td>0</td>\n",
              "      <td>ear infection:Otitis:-2.334405692926;</td>\n",
              "      <td>1 -1</td>\n",
              "      <td>ACurious63</td>\n",
              "      <td>null;</td>\n",
              "      <td>null;</td>\n",
              "    </tr>\n",
              "    <tr>\n",
              "      <th>44645</th>\n",
              "      <td>1.185541e+18</td>\n",
              "      <td>9e16e012dcaf5fedcfe7debd33e2ae1b</td>\n",
              "      <td>Sat Oct 19 13:00:01 +0000 2019</td>\n",
              "      <td>143</td>\n",
              "      <td>136</td>\n",
              "      <td>0</td>\n",
              "      <td>0</td>\n",
              "      <td>null;</td>\n",
              "      <td>1 -1</td>\n",
              "      <td>null;</td>\n",
              "      <td>IFB Followback</td>\n",
              "      <td>https://beardsexy.com:-:http://Etsy.com/shop/O...</td>\n",
              "    </tr>\n",
              "    <tr>\n",
              "      <th>49012</th>\n",
              "      <td>1.189654e+18</td>\n",
              "      <td>e9dccae052b42791c521e255dd580255</td>\n",
              "      <td>Wed Oct 30 21:25:03 +0000 2019</td>\n",
              "      <td>57</td>\n",
              "      <td>153</td>\n",
              "      <td>0</td>\n",
              "      <td>0</td>\n",
              "      <td>sun yang:Sun_Yang:-0.6070601201413967;andrew b...</td>\n",
              "      <td>1 -3</td>\n",
              "      <td>SCMPNews</td>\n",
              "      <td>null;</td>\n",
              "      <td>https://www.scmp.com/sport/basketball/article/...</td>\n",
              "    </tr>\n",
              "    <tr>\n",
              "      <th>46857</th>\n",
              "      <td>1.187573e+18</td>\n",
              "      <td>d919b64c85b05b0b571204cca8fc2df9</td>\n",
              "      <td>Fri Oct 25 03:34:53 +0000 2019</td>\n",
              "      <td>35</td>\n",
              "      <td>57</td>\n",
              "      <td>0</td>\n",
              "      <td>0</td>\n",
              "      <td>chuggaaconroy:Chuggaaconroy:-1.200670057954169...</td>\n",
              "      <td>2 -1</td>\n",
              "      <td>chuggaaconroy</td>\n",
              "      <td>null;</td>\n",
              "      <td>null;</td>\n",
              "    </tr>\n",
              "    <tr>\n",
              "      <th>46029</th>\n",
              "      <td>1.186813e+18</td>\n",
              "      <td>1fe9fcd85df0617e7a7df73c6955aacb</td>\n",
              "      <td>Wed Oct 23 01:13:39 +0000 2019</td>\n",
              "      <td>18967</td>\n",
              "      <td>6</td>\n",
              "      <td>1</td>\n",
              "      <td>2</td>\n",
              "      <td>kst:Time_in_South_Korea:-0.5288779104606497;da...</td>\n",
              "      <td>2 -1</td>\n",
              "      <td>null;</td>\n",
              "      <td>Sweet_Chaos 43 DAY6 데이식스 The_Book_of_Us Entrop...</td>\n",
              "      <td>null;</td>\n",
              "    </tr>\n",
              "    <tr>\n",
              "      <th>25468</th>\n",
              "      <td>1.179464e+18</td>\n",
              "      <td>965388e425ce1f62703fb40d4ef15d73</td>\n",
              "      <td>Wed Oct 02 18:31:47 +0000 2019</td>\n",
              "      <td>63</td>\n",
              "      <td>182</td>\n",
              "      <td>0</td>\n",
              "      <td>0</td>\n",
              "      <td>say anything:Say_Anything_%28band%29:-2.495126...</td>\n",
              "      <td>1 -4</td>\n",
              "      <td>w_terrence</td>\n",
              "      <td>null;</td>\n",
              "      <td>null;</td>\n",
              "    </tr>\n",
              "    <tr>\n",
              "      <th>79420</th>\n",
              "      <td>1.183311e+18</td>\n",
              "      <td>5e470183c4826a4c00470a1914782c6e</td>\n",
              "      <td>Sun Oct 13 09:16:40 +0000 2019</td>\n",
              "      <td>64494</td>\n",
              "      <td>151</td>\n",
              "      <td>223</td>\n",
              "      <td>424</td>\n",
              "      <td>baekhyun:Byun_Baek-hyun:-0.9476158482117225;ch...</td>\n",
              "      <td>2 -1</td>\n",
              "      <td>null;</td>\n",
              "      <td>null;</td>\n",
              "      <td>null;</td>\n",
              "    </tr>\n",
              "    <tr>\n",
              "      <th>6066</th>\n",
              "      <td>1.184216e+18</td>\n",
              "      <td>0faca6306f73e8e2111f5c30f124709a</td>\n",
              "      <td>Tue Oct 15 21:12:56 +0000 2019</td>\n",
              "      <td>2693</td>\n",
              "      <td>2512</td>\n",
              "      <td>11</td>\n",
              "      <td>75</td>\n",
              "      <td>orgy:Orgy_%28band%29:-2.439105986444988;</td>\n",
              "      <td>3 -1</td>\n",
              "      <td>null;</td>\n",
              "      <td>null;</td>\n",
              "      <td>null;</td>\n",
              "    </tr>\n",
              "  </tbody>\n",
              "</table>\n",
              "</div>\n",
              "      <button class=\"colab-df-convert\" onclick=\"convertToInteractive('df-4b681a21-1d27-4a17-9307-f0173a438c38')\"\n",
              "              title=\"Convert this dataframe to an interactive table.\"\n",
              "              style=\"display:none;\">\n",
              "        \n",
              "  <svg xmlns=\"http://www.w3.org/2000/svg\" height=\"24px\"viewBox=\"0 0 24 24\"\n",
              "       width=\"24px\">\n",
              "    <path d=\"M0 0h24v24H0V0z\" fill=\"none\"/>\n",
              "    <path d=\"M18.56 5.44l.94 2.06.94-2.06 2.06-.94-2.06-.94-.94-2.06-.94 2.06-2.06.94zm-11 1L8.5 8.5l.94-2.06 2.06-.94-2.06-.94L8.5 2.5l-.94 2.06-2.06.94zm10 10l.94 2.06.94-2.06 2.06-.94-2.06-.94-.94-2.06-.94 2.06-2.06.94z\"/><path d=\"M17.41 7.96l-1.37-1.37c-.4-.4-.92-.59-1.43-.59-.52 0-1.04.2-1.43.59L10.3 9.45l-7.72 7.72c-.78.78-.78 2.05 0 2.83L4 21.41c.39.39.9.59 1.41.59.51 0 1.02-.2 1.41-.59l7.78-7.78 2.81-2.81c.8-.78.8-2.07 0-2.86zM5.41 20L4 18.59l7.72-7.72 1.47 1.35L5.41 20z\"/>\n",
              "  </svg>\n",
              "      </button>\n",
              "      \n",
              "  <style>\n",
              "    .colab-df-container {\n",
              "      display:flex;\n",
              "      flex-wrap:wrap;\n",
              "      gap: 12px;\n",
              "    }\n",
              "\n",
              "    .colab-df-convert {\n",
              "      background-color: #E8F0FE;\n",
              "      border: none;\n",
              "      border-radius: 50%;\n",
              "      cursor: pointer;\n",
              "      display: none;\n",
              "      fill: #1967D2;\n",
              "      height: 32px;\n",
              "      padding: 0 0 0 0;\n",
              "      width: 32px;\n",
              "    }\n",
              "\n",
              "    .colab-df-convert:hover {\n",
              "      background-color: #E2EBFA;\n",
              "      box-shadow: 0px 1px 2px rgba(60, 64, 67, 0.3), 0px 1px 3px 1px rgba(60, 64, 67, 0.15);\n",
              "      fill: #174EA6;\n",
              "    }\n",
              "\n",
              "    [theme=dark] .colab-df-convert {\n",
              "      background-color: #3B4455;\n",
              "      fill: #D2E3FC;\n",
              "    }\n",
              "\n",
              "    [theme=dark] .colab-df-convert:hover {\n",
              "      background-color: #434B5C;\n",
              "      box-shadow: 0px 1px 3px 1px rgba(0, 0, 0, 0.15);\n",
              "      filter: drop-shadow(0px 1px 2px rgba(0, 0, 0, 0.3));\n",
              "      fill: #FFFFFF;\n",
              "    }\n",
              "  </style>\n",
              "\n",
              "      <script>\n",
              "        const buttonEl =\n",
              "          document.querySelector('#df-4b681a21-1d27-4a17-9307-f0173a438c38 button.colab-df-convert');\n",
              "        buttonEl.style.display =\n",
              "          google.colab.kernel.accessAllowed ? 'block' : 'none';\n",
              "\n",
              "        async function convertToInteractive(key) {\n",
              "          const element = document.querySelector('#df-4b681a21-1d27-4a17-9307-f0173a438c38');\n",
              "          const dataTable =\n",
              "            await google.colab.kernel.invokeFunction('convertToInteractive',\n",
              "                                                     [key], {});\n",
              "          if (!dataTable) return;\n",
              "\n",
              "          const docLinkHtml = 'Like what you see? Visit the ' +\n",
              "            '<a target=\"_blank\" href=https://colab.research.google.com/notebooks/data_table.ipynb>data table notebook</a>'\n",
              "            + ' to learn more about interactive tables.';\n",
              "          element.innerHTML = '';\n",
              "          dataTable['output_type'] = 'display_data';\n",
              "          await google.colab.output.renderOutput(dataTable, element);\n",
              "          const docLink = document.createElement('div');\n",
              "          docLink.innerHTML = docLinkHtml;\n",
              "          element.appendChild(docLink);\n",
              "        }\n",
              "      </script>\n",
              "    </div>\n",
              "  </div>\n",
              "  "
            ],
            "text/plain": [
              "           Tweet ID                          Username  \\\n",
              "81141  1.184826e+18  10bad4a64bb1412736cbec1d069a342b   \n",
              "41281  1.182416e+18  f3099df8c95413f4970b352d700a3388   \n",
              "95384  1.186591e+18  d1a27a60b91880fe9ab6b3d3974cca73   \n",
              "99541  1.179124e+18  f656e409e8495145a7aae449d9ae1749   \n",
              "54630  1.183431e+18  ee6984537a2c5dc38f4d176927f6392b   \n",
              "92126  1.183594e+18  efdabdfac19e5837f064d83f50d0c4b9   \n",
              "38586  1.180107e+18  e45f864ad2aae189cf61d4abd2002a55   \n",
              "63598  1.180351e+18  c1950cfddd7e1835e9e34abed36f75e0   \n",
              "19444  1.185096e+18  eb5400b118492db3d62ef1073cbf92df   \n",
              "81719  1.185288e+18  3d813ecb33379f4db8ff43b129fbce66   \n",
              "75303  1.179738e+18  579fa31476f43f7e96872e691a1509a6   \n",
              "46484  1.187224e+18  563d884fe6df20a5c2e254f7219cf122   \n",
              "67198  1.183463e+18  952be1c931acfed7077e728320500d29   \n",
              "914    1.179599e+18  90590302eb0a5cbdcaa05a87654a0540   \n",
              "49     1.178841e+18  8159fa2d1efc6daa951cbf50c1e46758   \n",
              "61161  1.189425e+18  65726a44079ab7405ede2afc3c53e530   \n",
              "8917   1.186854e+18  ea215cb25284073249103b5651876be2   \n",
              "75334  1.179758e+18  2a6741fb77852b720ba9e856bd5055ac   \n",
              "44645  1.185541e+18  9e16e012dcaf5fedcfe7debd33e2ae1b   \n",
              "49012  1.189654e+18  e9dccae052b42791c521e255dd580255   \n",
              "46857  1.187573e+18  d919b64c85b05b0b571204cca8fc2df9   \n",
              "46029  1.186813e+18  1fe9fcd85df0617e7a7df73c6955aacb   \n",
              "25468  1.179464e+18  965388e425ce1f62703fb40d4ef15d73   \n",
              "79420  1.183311e+18  5e470183c4826a4c00470a1914782c6e   \n",
              "6066   1.184216e+18  0faca6306f73e8e2111f5c30f124709a   \n",
              "\n",
              "                            Timestamp  #Followers  #Friends  #Retweets  \\\n",
              "81141  Thu Oct 17 13:37:25 +0000 2019         866      1211          5   \n",
              "41281  Thu Oct 10 22:03:01 +0000 2019          20        56          0   \n",
              "95384  Tue Oct 22 10:30:31 +0000 2019         147       371          0   \n",
              "99541  Tue Oct 01 20:02:15 +0000 2019        1890       831          0   \n",
              "54630  Sun Oct 13 17:13:17 +0000 2019         569       293          0   \n",
              "92126  Mon Oct 14 04:02:21 +0000 2019        2223      1928         44   \n",
              "38586  Fri Oct 04 13:05:41 +0000 2019       30532       735          0   \n",
              "63598  Sat Oct 05 05:17:53 +0000 2019         817      1688          0   \n",
              "19444  Fri Oct 18 07:32:25 +0000 2019        1948      2332          0   \n",
              "81719  Fri Oct 18 20:16:04 +0000 2019        2239       277         10   \n",
              "75303  Thu Oct 03 12:39:30 +0000 2019          67       537          0   \n",
              "46484  Thu Oct 24 04:26:43 +0000 2019        7395      7536          5   \n",
              "67198  Sun Oct 13 19:21:04 +0000 2019       77972     79569         56   \n",
              "914    Thu Oct 03 03:29:37 +0000 2019        7140      7387          0   \n",
              "49     Tue Oct 01 01:16:03 +0000 2019        1555       198         17   \n",
              "61161  Wed Oct 30 06:14:08 +0000 2019     1143728        77         27   \n",
              "8917   Wed Oct 23 03:58:47 +0000 2019        1493      1379          8   \n",
              "75334  Thu Oct 03 14:00:16 +0000 2019        2531       179          0   \n",
              "44645  Sat Oct 19 13:00:01 +0000 2019         143       136          0   \n",
              "49012  Wed Oct 30 21:25:03 +0000 2019          57       153          0   \n",
              "46857  Fri Oct 25 03:34:53 +0000 2019          35        57          0   \n",
              "46029  Wed Oct 23 01:13:39 +0000 2019       18967         6          1   \n",
              "25468  Wed Oct 02 18:31:47 +0000 2019          63       182          0   \n",
              "79420  Sun Oct 13 09:16:40 +0000 2019       64494       151        223   \n",
              "6066   Tue Oct 15 21:12:56 +0000 2019        2693      2512         11   \n",
              "\n",
              "       #Favorites                                           Entities  \\\n",
              "81141          10                                              null;   \n",
              "41281           0                                              null;   \n",
              "95384           0             pharmacy:Pharmacy:-2.7611674423555717;   \n",
              "99541           0                                              null;   \n",
              "54630           0                                              null;   \n",
              "92126          81                                              null;   \n",
              "38586           0  electronic cigarette:Electronic_cigarette:-0.6...   \n",
              "63598           0  china:China:-2.113921624336916;life expectancy...   \n",
              "19444           0   business plan:Business_plan:-2.7397893068407955;   \n",
              "81719          19  kurdish people:Kurds:-1.7805603333846196;sason...   \n",
              "75303           0  flower power:Flower_power:-1.8088552941687601;...   \n",
              "46484           5  begs the question:Begging_the_question:-2.9122...   \n",
              "67198          66  joe biden:Joe_Biden:-0.7977611841204905;stephe...   \n",
              "914             0   eager to live:Eager_to_Live:-1.8283371410601785;   \n",
              "49             37  vera cruz:Veracruz_%28city%29:-2.0202881077059...   \n",
              "61161          56  kashmiris:Kashmiris:-1.4069437311703492;kashmi...   \n",
              "8917           12  close to home:Close_to_Home_%282005_TV_series%...   \n",
              "75334           0              ear infection:Otitis:-2.334405692926;   \n",
              "44645           0                                              null;   \n",
              "49012           0  sun yang:Sun_Yang:-0.6070601201413967;andrew b...   \n",
              "46857           0  chuggaaconroy:Chuggaaconroy:-1.200670057954169...   \n",
              "46029           2  kst:Time_in_South_Korea:-0.5288779104606497;da...   \n",
              "25468           0  say anything:Say_Anything_%28band%29:-2.495126...   \n",
              "79420         424  baekhyun:Byun_Baek-hyun:-0.9476158482117225;ch...   \n",
              "6066           75           orgy:Orgy_%28band%29:-2.439105986444988;   \n",
              "\n",
              "      Sentiment                                           Mentions  \\\n",
              "81141      1 -2                                              null;   \n",
              "41281      2 -2                                              null;   \n",
              "95384      1 -1                                     RetellPharmacy   \n",
              "99541      1 -1                                              null;   \n",
              "54630      1 -1                                              null;   \n",
              "92126      1 -3                                              null;   \n",
              "38586      1 -1                                              null;   \n",
              "63598      1 -1                                              null;   \n",
              "19444      1 -2  kyledrake VitalikButerin glenweyl nytopinion p...   \n",
              "81719      1 -3                                              null;   \n",
              "75303      2 -1                                            eBay_UK   \n",
              "46484      1 -1                                              null;   \n",
              "67198      1 -3                                              null;   \n",
              "914        2 -1                                              null;   \n",
              "49         2 -1                                              null;   \n",
              "61161      2 -3                                              null;   \n",
              "8917       1 -2                                              null;   \n",
              "75334      1 -1                                         ACurious63   \n",
              "44645      1 -1                                              null;   \n",
              "49012      1 -3                                           SCMPNews   \n",
              "46857      2 -1                                      chuggaaconroy   \n",
              "46029      2 -1                                              null;   \n",
              "25468      1 -4                                         w_terrence   \n",
              "79420      2 -1                                              null;   \n",
              "6066       3 -1                                              null;   \n",
              "\n",
              "                                                Hashtags  \\\n",
              "81141                                              null;   \n",
              "41281                                       AutismSpeaks   \n",
              "95384                                              null;   \n",
              "99541                                              null;   \n",
              "54630                                              null;   \n",
              "92126                    WildOutWednesday FreakNikFriday   \n",
              "38586                                              null;   \n",
              "63598                                              null;   \n",
              "19444                                              null;   \n",
              "81719                                            SDF SDF   \n",
              "75303                                              null;   \n",
              "46484                                              null;   \n",
              "67198                                              null;   \n",
              "914    Trump TrumpPressConference DoNothingDonald Imp...   \n",
              "49                                                 null;   \n",
              "61161                                              null;   \n",
              "8917                                               null;   \n",
              "75334                                              null;   \n",
              "44645                                     IFB Followback   \n",
              "49012                                              null;   \n",
              "46857                                              null;   \n",
              "46029  Sweet_Chaos 43 DAY6 데이식스 The_Book_of_Us Entrop...   \n",
              "25468                                              null;   \n",
              "79420                                              null;   \n",
              "6066                                               null;   \n",
              "\n",
              "                                                    URLs  \n",
              "81141                                              null;  \n",
              "41281                                              null;  \n",
              "95384                                              null;  \n",
              "99541                                              null;  \n",
              "54630                                              null;  \n",
              "92126                                              null;  \n",
              "38586  https://www.timesunion.com/news/article/Judge-...  \n",
              "63598  https://twitter.com/Gundisalvus/status/1179095...  \n",
              "19444                                              null;  \n",
              "81719                                              null;  \n",
              "75303                          https://ebay.us/OnWrXB:-:  \n",
              "46484                                              null;  \n",
              "67198                                              null;  \n",
              "914                                                null;  \n",
              "49                                                 null;  \n",
              "61161  https://twitter.com/AndleebAbbas/status/118942...  \n",
              "8917   http://www.gofundme.com/f/amber039s-fight-with...  \n",
              "75334                                              null;  \n",
              "44645  https://beardsexy.com:-:http://Etsy.com/shop/O...  \n",
              "49012  https://www.scmp.com/sport/basketball/article/...  \n",
              "46857                                              null;  \n",
              "46029                                              null;  \n",
              "25468                                              null;  \n",
              "79420                                              null;  \n",
              "6066                                               null;  "
            ]
          },
          "execution_count": 169,
          "metadata": {},
          "output_type": "execute_result"
        }
      ],
      "source": [
        "#printing a sample of the dataset as a dataframe\n",
        "tw_export_df.sample(25)"
      ]
    },
    {
      "cell_type": "markdown",
      "metadata": {
        "id": "MhPx8j7yx_31"
      },
      "source": [
        "# **3. Phase 3: Data Preparation -- *Data cleaning**"
      ]
    },
    {
      "cell_type": "markdown",
      "metadata": {
        "id": "hGIYUWxVBJ2K"
      },
      "source": [
        "\n",
        "After making a copy of the dataframe, this section will be guided by the following steps: \n",
        "1. Renaming fields - Splitting the Sentiment column into Positive_sentiments and Negative_sentiments and casting these two columns datatypes as integer. \n",
        "2. Extracting the specific hour of the post and creating a new column Specific_hour\n",
        "3. Extracting the number of mentions and creating a new column Number_of_Mentions\n",
        "4. Extracting the number of hashtags and creating a new column Number_of_Hashtags\n",
        "5. After creating new columns from existing columns, these existing columns  (Sentiments, Timestamp, Mentions and Hashtags) are dropped. This will further improve the data's quality by making the data more accurate \n",
        "\n",
        "The cleaned dataframe is then saved as a new dataframe.\n",
        "\n"
      ]
    },
    {
      "cell_type": "markdown",
      "metadata": {
        "id": "c8aBfw7AsDor"
      },
      "source": [
        "* **Making a copy of the dataframe**"
      ]
    },
    {
      "cell_type": "code",
      "execution_count": null,
      "metadata": {
        "id": "s6eZxssfsOBH"
      },
      "outputs": [],
      "source": [
        "# making a copy of tw_export_df the tw_export.xlsx dataset \n",
        "# creating a new data frame 'cleaning_df' and \n",
        "cleaning_df = tw_export_df.copy()"
      ]
    },
    {
      "cell_type": "code",
      "execution_count": null,
      "metadata": {
        "colab": {
          "base_uri": "https://localhost:8080/"
        },
        "id": "Ql87NYMbBISx",
        "outputId": "48cca519-29c6-4e55-d629-bbdd9d15f494"
      },
      "outputs": [
        {
          "name": "stdout",
          "output_type": "stream",
          "text": [
            "<class 'pandas.core.frame.DataFrame'>\n",
            "RangeIndex: 100000 entries, 0 to 99999\n",
            "Data columns (total 12 columns):\n",
            " #   Column      Non-Null Count   Dtype  \n",
            "---  ------      --------------   -----  \n",
            " 0   Tweet ID    100000 non-null  float64\n",
            " 1   Username    100000 non-null  object \n",
            " 2   Timestamp   100000 non-null  object \n",
            " 3   #Followers  100000 non-null  int64  \n",
            " 4   #Friends    100000 non-null  int64  \n",
            " 5   #Retweets   100000 non-null  int64  \n",
            " 6   #Favorites  100000 non-null  int64  \n",
            " 7   Entities    100000 non-null  object \n",
            " 8   Sentiment   100000 non-null  object \n",
            " 9   Mentions    99767 non-null   object \n",
            " 10  Hashtags    99969 non-null   object \n",
            " 11  URLs        100000 non-null  object \n",
            "dtypes: float64(1), int64(4), object(7)\n",
            "memory usage: 9.2+ MB\n"
          ]
        }
      ],
      "source": [
        "# Gathering  the dataframe's information\n",
        "cleaning_df.info()"
      ]
    },
    {
      "cell_type": "markdown",
      "metadata": {
        "id": "97DLrRXuRFkP"
      },
      "source": [
        "## 3.1 Splitting Sentiment column into two columns Positive and Negative Sentiment"
      ]
    },
    {
      "cell_type": "code",
      "execution_count": null,
      "metadata": {
        "id": "uOqEF6w4y5jM"
      },
      "outputs": [],
      "source": [
        "# Splitting Sentiment column and creating positive sentiment column\n",
        "cleaning_df[\"Positive_sentiments\"]=(cleaning_df.Sentiment.str.split(\" \").apply(lambda x: int(x[0])))\n",
        "\n",
        "# Splitting Sentiment column and creating negative sentiment column\n",
        "cleaning_df[\"Negative_sentiments\"]=(cleaning_df.Sentiment.str.split(\" \").apply(lambda x: int(x[1])))"
      ]
    },
    {
      "cell_type": "code",
      "execution_count": null,
      "metadata": {
        "colab": {
          "base_uri": "https://localhost:8080/"
        },
        "id": "lJ68-1CHSUr0",
        "outputId": "93c4b37f-bafe-4e67-98f1-063fabf5d20b"
      },
      "outputs": [
        {
          "name": "stdout",
          "output_type": "stream",
          "text": [
            "<class 'pandas.core.frame.DataFrame'>\n",
            "RangeIndex: 100000 entries, 0 to 99999\n",
            "Data columns (total 14 columns):\n",
            " #   Column               Non-Null Count   Dtype  \n",
            "---  ------               --------------   -----  \n",
            " 0   Tweet ID             100000 non-null  float64\n",
            " 1   Username             100000 non-null  object \n",
            " 2   Timestamp            100000 non-null  object \n",
            " 3   #Followers           100000 non-null  int64  \n",
            " 4   #Friends             100000 non-null  int64  \n",
            " 5   #Retweets            100000 non-null  int64  \n",
            " 6   #Favorites           100000 non-null  int64  \n",
            " 7   Entities             100000 non-null  object \n",
            " 8   Sentiment            100000 non-null  object \n",
            " 9   Mentions             99767 non-null   object \n",
            " 10  Hashtags             99969 non-null   object \n",
            " 11  URLs                 100000 non-null  object \n",
            " 12  Positive_sentiments  100000 non-null  int64  \n",
            " 13  Negative_sentiments  100000 non-null  int64  \n",
            "dtypes: float64(1), int64(6), object(7)\n",
            "memory usage: 10.7+ MB\n"
          ]
        }
      ],
      "source": [
        "#checking the dataframe's info after splitting sentiment column\n",
        "cleaning_df.info()"
      ]
    },
    {
      "cell_type": "markdown",
      "metadata": {
        "id": "aqu-_BxlVloX"
      },
      "source": [
        "##3.2 Extracting the specific hour of the post and creating a new column Specific_hour"
      ]
    },
    {
      "cell_type": "code",
      "execution_count": null,
      "metadata": {
        "id": "Kn3g79L_V5v6"
      },
      "outputs": [],
      "source": [
        "# fetching exact hours from Timestamp column\n",
        "cleaning_df[\"Timestamp\"]=pd.to_datetime(cleaning_df.iloc[:,2]).apply(lambda x: x.hour)"
      ]
    },
    {
      "cell_type": "code",
      "execution_count": null,
      "metadata": {
        "id": "9JmxL__5wl_p"
      },
      "outputs": [],
      "source": [
        "# renaming Timestamp column to Specific_hour\n",
        "cleaning_df.rename(columns = {\"Timestamp\":\"Specific_hour\"}, inplace = True)"
      ]
    },
    {
      "cell_type": "code",
      "execution_count": null,
      "metadata": {
        "colab": {
          "base_uri": "https://localhost:8080/"
        },
        "id": "_dKSATxKxoSq",
        "outputId": "50d823c1-2fc8-4ed6-f879-2a67fc951491"
      },
      "outputs": [
        {
          "data": {
            "text/html": [
              "\n",
              "  <div id=\"df-9ea7d9e6-a248-4764-b5f8-221cc3160344\">\n",
              "    <div class=\"colab-df-container\">\n",
              "      <div>\n",
              "<style scoped>\n",
              "    .dataframe tbody tr th:only-of-type {\n",
              "        vertical-align: middle;\n",
              "    }\n",
              "\n",
              "    .dataframe tbody tr th {\n",
              "        vertical-align: top;\n",
              "    }\n",
              "\n",
              "    .dataframe thead th {\n",
              "        text-align: right;\n",
              "    }\n",
              "</style>\n",
              "<table border=\"1\" class=\"dataframe\">\n",
              "  <thead>\n",
              "    <tr style=\"text-align: right;\">\n",
              "      <th></th>\n",
              "      <th>Tweet ID</th>\n",
              "      <th>Username</th>\n",
              "      <th>Specific_hour</th>\n",
              "      <th>#Followers</th>\n",
              "      <th>#Friends</th>\n",
              "      <th>#Retweets</th>\n",
              "      <th>#Favorites</th>\n",
              "      <th>Entities</th>\n",
              "      <th>Sentiment</th>\n",
              "      <th>Mentions</th>\n",
              "      <th>Hashtags</th>\n",
              "      <th>URLs</th>\n",
              "      <th>Positive_sentiments</th>\n",
              "      <th>Negative_sentiments</th>\n",
              "    </tr>\n",
              "  </thead>\n",
              "  <tbody>\n",
              "    <tr>\n",
              "      <th>52815</th>\n",
              "      <td>1.181860e+18</td>\n",
              "      <td>a9a36effcff169e7000663ed6eafd519</td>\n",
              "      <td>9</td>\n",
              "      <td>16148</td>\n",
              "      <td>14</td>\n",
              "      <td>0</td>\n",
              "      <td>0</td>\n",
              "      <td>ukraine:Ukraine:-1.6392896300533573;</td>\n",
              "      <td>2 -1</td>\n",
              "      <td>IrishTimesWorld</td>\n",
              "      <td>null;</td>\n",
              "      <td>https://www.irishtimes.com/news/world/us/from-...</td>\n",
              "      <td>2</td>\n",
              "      <td>-1</td>\n",
              "    </tr>\n",
              "    <tr>\n",
              "      <th>15724</th>\n",
              "      <td>1.181784e+18</td>\n",
              "      <td>9f66a1f5ff3df6d7b77edaad918674f9</td>\n",
              "      <td>4</td>\n",
              "      <td>3958</td>\n",
              "      <td>1978</td>\n",
              "      <td>329</td>\n",
              "      <td>645</td>\n",
              "      <td>bts:BTS:-1.442639753934362;concert tour:Concer...</td>\n",
              "      <td>2 -3</td>\n",
              "      <td>BTS_twt</td>\n",
              "      <td>null;</td>\n",
              "      <td>null;</td>\n",
              "      <td>2</td>\n",
              "      <td>-3</td>\n",
              "    </tr>\n",
              "    <tr>\n",
              "      <th>2906</th>\n",
              "      <td>1.181465e+18</td>\n",
              "      <td>bcd96e43e2dedc0de312d00b2455b1f0</td>\n",
              "      <td>7</td>\n",
              "      <td>89</td>\n",
              "      <td>146</td>\n",
              "      <td>0</td>\n",
              "      <td>0</td>\n",
              "      <td>community status:List_of_municipalities_in_Pri...</td>\n",
              "      <td>2 -4</td>\n",
              "      <td>EmeraldSARC NOMOREorg</td>\n",
              "      <td>rape sexualabuse BlackHistoryMonth</td>\n",
              "      <td>null;</td>\n",
              "      <td>2</td>\n",
              "      <td>-4</td>\n",
              "    </tr>\n",
              "    <tr>\n",
              "      <th>30355</th>\n",
              "      <td>1.183793e+18</td>\n",
              "      <td>e81042656ec36b00db310957c242c443</td>\n",
              "      <td>17</td>\n",
              "      <td>16</td>\n",
              "      <td>69</td>\n",
              "      <td>0</td>\n",
              "      <td>0</td>\n",
              "      <td>i am canadian:I_Am_Canadian:-1.667253970296197...</td>\n",
              "      <td>2 -3</td>\n",
              "      <td>BarackObama AmbassadorRice</td>\n",
              "      <td>null;</td>\n",
              "      <td>null;</td>\n",
              "      <td>2</td>\n",
              "      <td>-3</td>\n",
              "    </tr>\n",
              "    <tr>\n",
              "      <th>54685</th>\n",
              "      <td>1.183460e+18</td>\n",
              "      <td>34b9acfbdc3e1135a704a1a0eab46ab6</td>\n",
              "      <td>19</td>\n",
              "      <td>4</td>\n",
              "      <td>14</td>\n",
              "      <td>0</td>\n",
              "      <td>0</td>\n",
              "      <td>fortnite:Fortnite:-1.4924107816453622;</td>\n",
              "      <td>1 -1</td>\n",
              "      <td>null;</td>\n",
              "      <td>RIPFortnite Fortnite FortniteChapter2 fortnite...</td>\n",
              "      <td>null;</td>\n",
              "      <td>1</td>\n",
              "      <td>-1</td>\n",
              "    </tr>\n",
              "  </tbody>\n",
              "</table>\n",
              "</div>\n",
              "      <button class=\"colab-df-convert\" onclick=\"convertToInteractive('df-9ea7d9e6-a248-4764-b5f8-221cc3160344')\"\n",
              "              title=\"Convert this dataframe to an interactive table.\"\n",
              "              style=\"display:none;\">\n",
              "        \n",
              "  <svg xmlns=\"http://www.w3.org/2000/svg\" height=\"24px\"viewBox=\"0 0 24 24\"\n",
              "       width=\"24px\">\n",
              "    <path d=\"M0 0h24v24H0V0z\" fill=\"none\"/>\n",
              "    <path d=\"M18.56 5.44l.94 2.06.94-2.06 2.06-.94-2.06-.94-.94-2.06-.94 2.06-2.06.94zm-11 1L8.5 8.5l.94-2.06 2.06-.94-2.06-.94L8.5 2.5l-.94 2.06-2.06.94zm10 10l.94 2.06.94-2.06 2.06-.94-2.06-.94-.94-2.06-.94 2.06-2.06.94z\"/><path d=\"M17.41 7.96l-1.37-1.37c-.4-.4-.92-.59-1.43-.59-.52 0-1.04.2-1.43.59L10.3 9.45l-7.72 7.72c-.78.78-.78 2.05 0 2.83L4 21.41c.39.39.9.59 1.41.59.51 0 1.02-.2 1.41-.59l7.78-7.78 2.81-2.81c.8-.78.8-2.07 0-2.86zM5.41 20L4 18.59l7.72-7.72 1.47 1.35L5.41 20z\"/>\n",
              "  </svg>\n",
              "      </button>\n",
              "      \n",
              "  <style>\n",
              "    .colab-df-container {\n",
              "      display:flex;\n",
              "      flex-wrap:wrap;\n",
              "      gap: 12px;\n",
              "    }\n",
              "\n",
              "    .colab-df-convert {\n",
              "      background-color: #E8F0FE;\n",
              "      border: none;\n",
              "      border-radius: 50%;\n",
              "      cursor: pointer;\n",
              "      display: none;\n",
              "      fill: #1967D2;\n",
              "      height: 32px;\n",
              "      padding: 0 0 0 0;\n",
              "      width: 32px;\n",
              "    }\n",
              "\n",
              "    .colab-df-convert:hover {\n",
              "      background-color: #E2EBFA;\n",
              "      box-shadow: 0px 1px 2px rgba(60, 64, 67, 0.3), 0px 1px 3px 1px rgba(60, 64, 67, 0.15);\n",
              "      fill: #174EA6;\n",
              "    }\n",
              "\n",
              "    [theme=dark] .colab-df-convert {\n",
              "      background-color: #3B4455;\n",
              "      fill: #D2E3FC;\n",
              "    }\n",
              "\n",
              "    [theme=dark] .colab-df-convert:hover {\n",
              "      background-color: #434B5C;\n",
              "      box-shadow: 0px 1px 3px 1px rgba(0, 0, 0, 0.15);\n",
              "      filter: drop-shadow(0px 1px 2px rgba(0, 0, 0, 0.3));\n",
              "      fill: #FFFFFF;\n",
              "    }\n",
              "  </style>\n",
              "\n",
              "      <script>\n",
              "        const buttonEl =\n",
              "          document.querySelector('#df-9ea7d9e6-a248-4764-b5f8-221cc3160344 button.colab-df-convert');\n",
              "        buttonEl.style.display =\n",
              "          google.colab.kernel.accessAllowed ? 'block' : 'none';\n",
              "\n",
              "        async function convertToInteractive(key) {\n",
              "          const element = document.querySelector('#df-9ea7d9e6-a248-4764-b5f8-221cc3160344');\n",
              "          const dataTable =\n",
              "            await google.colab.kernel.invokeFunction('convertToInteractive',\n",
              "                                                     [key], {});\n",
              "          if (!dataTable) return;\n",
              "\n",
              "          const docLinkHtml = 'Like what you see? Visit the ' +\n",
              "            '<a target=\"_blank\" href=https://colab.research.google.com/notebooks/data_table.ipynb>data table notebook</a>'\n",
              "            + ' to learn more about interactive tables.';\n",
              "          element.innerHTML = '';\n",
              "          dataTable['output_type'] = 'display_data';\n",
              "          await google.colab.output.renderOutput(dataTable, element);\n",
              "          const docLink = document.createElement('div');\n",
              "          docLink.innerHTML = docLinkHtml;\n",
              "          element.appendChild(docLink);\n",
              "        }\n",
              "      </script>\n",
              "    </div>\n",
              "  </div>\n",
              "  "
            ],
            "text/plain": [
              "           Tweet ID                          Username  Specific_hour  \\\n",
              "52815  1.181860e+18  a9a36effcff169e7000663ed6eafd519              9   \n",
              "15724  1.181784e+18  9f66a1f5ff3df6d7b77edaad918674f9              4   \n",
              "2906   1.181465e+18  bcd96e43e2dedc0de312d00b2455b1f0              7   \n",
              "30355  1.183793e+18  e81042656ec36b00db310957c242c443             17   \n",
              "54685  1.183460e+18  34b9acfbdc3e1135a704a1a0eab46ab6             19   \n",
              "\n",
              "       #Followers  #Friends  #Retweets  #Favorites  \\\n",
              "52815       16148        14          0           0   \n",
              "15724        3958      1978        329         645   \n",
              "2906           89       146          0           0   \n",
              "30355          16        69          0           0   \n",
              "54685           4        14          0           0   \n",
              "\n",
              "                                                Entities Sentiment  \\\n",
              "52815               ukraine:Ukraine:-1.6392896300533573;      2 -1   \n",
              "15724  bts:BTS:-1.442639753934362;concert tour:Concer...      2 -3   \n",
              "2906   community status:List_of_municipalities_in_Pri...      2 -4   \n",
              "30355  i am canadian:I_Am_Canadian:-1.667253970296197...      2 -3   \n",
              "54685             fortnite:Fortnite:-1.4924107816453622;      1 -1   \n",
              "\n",
              "                         Mentions  \\\n",
              "52815             IrishTimesWorld   \n",
              "15724                     BTS_twt   \n",
              "2906        EmeraldSARC NOMOREorg   \n",
              "30355  BarackObama AmbassadorRice   \n",
              "54685                       null;   \n",
              "\n",
              "                                                Hashtags  \\\n",
              "52815                                              null;   \n",
              "15724                                              null;   \n",
              "2906                  rape sexualabuse BlackHistoryMonth   \n",
              "30355                                              null;   \n",
              "54685  RIPFortnite Fortnite FortniteChapter2 fortnite...   \n",
              "\n",
              "                                                    URLs  Positive_sentiments  \\\n",
              "52815  https://www.irishtimes.com/news/world/us/from-...                    2   \n",
              "15724                                              null;                    2   \n",
              "2906                                               null;                    2   \n",
              "30355                                              null;                    2   \n",
              "54685                                              null;                    1   \n",
              "\n",
              "       Negative_sentiments  \n",
              "52815                   -1  \n",
              "15724                   -3  \n",
              "2906                    -4  \n",
              "30355                   -3  \n",
              "54685                   -1  "
            ]
          },
          "execution_count": 176,
          "metadata": {},
          "output_type": "execute_result"
        }
      ],
      "source": [
        "# checking the dataframe\n",
        "cleaning_df.sample(5)"
      ]
    },
    {
      "cell_type": "markdown",
      "metadata": {
        "id": "wgsJfzLZV9dH"
      },
      "source": [
        "##3.3  Extracting the number of mentions and creating a new column Number_of_Mentions"
      ]
    },
    {
      "cell_type": "code",
      "execution_count": null,
      "metadata": {
        "id": "_16jZrMO04yZ"
      },
      "outputs": [],
      "source": [
        "# creating a function to create a new column from an existing column\n",
        "def newColumn (existing_column_name, new_column):\n",
        "  cleaning_df[new_column]=(cleaning_df[existing_column_name]\n",
        "                           .apply(lambda x: str(x))).apply(lambda x: 0 if 'null;' in x else len(x.split())) #usimg apply() function with lambda to replace the\n",
        "                                                                                                            #columns entries, null; is replaced with 0\n",
        "\n",
        "                                                                                                            \n",
        "#calling the function newColumn to create the Number_of_Column\n",
        "newColumn('Mentions', 'Number_of_Mentions')"
      ]
    },
    {
      "cell_type": "markdown",
      "metadata": {
        "id": "wPp6BnyfWRnd"
      },
      "source": [
        "##3.4 Extracting the number of hashtags and creating a new column Number_of_Hashtags"
      ]
    },
    {
      "cell_type": "code",
      "execution_count": null,
      "metadata": {
        "id": "4QGOyjXq3OQw"
      },
      "outputs": [],
      "source": [
        "#calling the function newColumn to create a new column Number_of_Hashtags\n",
        "newColumn('Hashtags', 'Number_of_Hashtags')"
      ]
    },
    {
      "cell_type": "code",
      "execution_count": null,
      "metadata": {
        "colab": {
          "base_uri": "https://localhost:8080/"
        },
        "id": "y7GdfB_z3io8",
        "outputId": "c129698e-693c-4b0a-dc4f-df878601afc1"
      },
      "outputs": [
        {
          "data": {
            "text/html": [
              "\n",
              "  <div id=\"df-abd250a2-b326-45e7-b08a-a9e43cc73070\">\n",
              "    <div class=\"colab-df-container\">\n",
              "      <div>\n",
              "<style scoped>\n",
              "    .dataframe tbody tr th:only-of-type {\n",
              "        vertical-align: middle;\n",
              "    }\n",
              "\n",
              "    .dataframe tbody tr th {\n",
              "        vertical-align: top;\n",
              "    }\n",
              "\n",
              "    .dataframe thead th {\n",
              "        text-align: right;\n",
              "    }\n",
              "</style>\n",
              "<table border=\"1\" class=\"dataframe\">\n",
              "  <thead>\n",
              "    <tr style=\"text-align: right;\">\n",
              "      <th></th>\n",
              "      <th>Tweet ID</th>\n",
              "      <th>Username</th>\n",
              "      <th>Specific_hour</th>\n",
              "      <th>#Followers</th>\n",
              "      <th>#Friends</th>\n",
              "      <th>#Retweets</th>\n",
              "      <th>#Favorites</th>\n",
              "      <th>Entities</th>\n",
              "      <th>Sentiment</th>\n",
              "      <th>Mentions</th>\n",
              "      <th>Hashtags</th>\n",
              "      <th>URLs</th>\n",
              "      <th>Positive_sentiments</th>\n",
              "      <th>Negative_sentiments</th>\n",
              "      <th>Number_of_Mentions</th>\n",
              "      <th>Number_of_Hashtags</th>\n",
              "    </tr>\n",
              "  </thead>\n",
              "  <tbody>\n",
              "    <tr>\n",
              "      <th>1436</th>\n",
              "      <td>1.180102e+18</td>\n",
              "      <td>e70d36e99e0f4e1e5c4b52a8c204f412</td>\n",
              "      <td>12</td>\n",
              "      <td>154</td>\n",
              "      <td>394</td>\n",
              "      <td>0</td>\n",
              "      <td>0</td>\n",
              "      <td>skynews:Sky_News:-2.4443176685121135;smuggling...</td>\n",
              "      <td>1 -3</td>\n",
              "      <td>Kieenoo 156v6 KingsHeathBlues MarcusSlack SkyN...</td>\n",
              "      <td>null;</td>\n",
              "      <td>null;</td>\n",
              "      <td>1</td>\n",
              "      <td>-3</td>\n",
              "      <td>7</td>\n",
              "      <td>0</td>\n",
              "    </tr>\n",
              "    <tr>\n",
              "      <th>89255</th>\n",
              "      <td>1.181096e+18</td>\n",
              "      <td>7124ce330fef6b6ef91a622705b2901d</td>\n",
              "      <td>6</td>\n",
              "      <td>1539</td>\n",
              "      <td>115</td>\n",
              "      <td>0</td>\n",
              "      <td>0</td>\n",
              "      <td>null;</td>\n",
              "      <td>1 -1</td>\n",
              "      <td>MrEatYaBooty ReadToriko abthe4th</td>\n",
              "      <td>null;</td>\n",
              "      <td>null;</td>\n",
              "      <td>1</td>\n",
              "      <td>-1</td>\n",
              "      <td>3</td>\n",
              "      <td>0</td>\n",
              "    </tr>\n",
              "    <tr>\n",
              "      <th>4708</th>\n",
              "      <td>1.182970e+18</td>\n",
              "      <td>58e6701d01d1158865e7769001155291</td>\n",
              "      <td>10</td>\n",
              "      <td>3071</td>\n",
              "      <td>2259</td>\n",
              "      <td>0</td>\n",
              "      <td>0</td>\n",
              "      <td>null;</td>\n",
              "      <td>1 -1</td>\n",
              "      <td>null;</td>\n",
              "      <td>null;</td>\n",
              "      <td>null;</td>\n",
              "      <td>1</td>\n",
              "      <td>-1</td>\n",
              "      <td>0</td>\n",
              "      <td>0</td>\n",
              "    </tr>\n",
              "    <tr>\n",
              "      <th>9413</th>\n",
              "      <td>1.187301e+18</td>\n",
              "      <td>4028c7c41fd4e12925d5e4c8c9259ec3</td>\n",
              "      <td>9</td>\n",
              "      <td>49182</td>\n",
              "      <td>49564</td>\n",
              "      <td>51</td>\n",
              "      <td>74</td>\n",
              "      <td>on a slow boat to china:%28I%27d_Like_to_Get_Y...</td>\n",
              "      <td>2 -2</td>\n",
              "      <td>BreitbartNews</td>\n",
              "      <td>null;</td>\n",
              "      <td>https://www.breitbart.com/sports/2019/10/23/un...</td>\n",
              "      <td>2</td>\n",
              "      <td>-2</td>\n",
              "      <td>1</td>\n",
              "      <td>0</td>\n",
              "    </tr>\n",
              "    <tr>\n",
              "      <th>21970</th>\n",
              "      <td>1.187419e+18</td>\n",
              "      <td>f3236299b7d8cb5ea8e8d402b153563d</td>\n",
              "      <td>17</td>\n",
              "      <td>2052</td>\n",
              "      <td>247</td>\n",
              "      <td>0</td>\n",
              "      <td>0</td>\n",
              "      <td>china:China:-2.113921624336916;</td>\n",
              "      <td>2 -3</td>\n",
              "      <td>PropheticOneTHE</td>\n",
              "      <td>null;</td>\n",
              "      <td>null;</td>\n",
              "      <td>2</td>\n",
              "      <td>-3</td>\n",
              "      <td>1</td>\n",
              "      <td>0</td>\n",
              "    </tr>\n",
              "  </tbody>\n",
              "</table>\n",
              "</div>\n",
              "      <button class=\"colab-df-convert\" onclick=\"convertToInteractive('df-abd250a2-b326-45e7-b08a-a9e43cc73070')\"\n",
              "              title=\"Convert this dataframe to an interactive table.\"\n",
              "              style=\"display:none;\">\n",
              "        \n",
              "  <svg xmlns=\"http://www.w3.org/2000/svg\" height=\"24px\"viewBox=\"0 0 24 24\"\n",
              "       width=\"24px\">\n",
              "    <path d=\"M0 0h24v24H0V0z\" fill=\"none\"/>\n",
              "    <path d=\"M18.56 5.44l.94 2.06.94-2.06 2.06-.94-2.06-.94-.94-2.06-.94 2.06-2.06.94zm-11 1L8.5 8.5l.94-2.06 2.06-.94-2.06-.94L8.5 2.5l-.94 2.06-2.06.94zm10 10l.94 2.06.94-2.06 2.06-.94-2.06-.94-.94-2.06-.94 2.06-2.06.94z\"/><path d=\"M17.41 7.96l-1.37-1.37c-.4-.4-.92-.59-1.43-.59-.52 0-1.04.2-1.43.59L10.3 9.45l-7.72 7.72c-.78.78-.78 2.05 0 2.83L4 21.41c.39.39.9.59 1.41.59.51 0 1.02-.2 1.41-.59l7.78-7.78 2.81-2.81c.8-.78.8-2.07 0-2.86zM5.41 20L4 18.59l7.72-7.72 1.47 1.35L5.41 20z\"/>\n",
              "  </svg>\n",
              "      </button>\n",
              "      \n",
              "  <style>\n",
              "    .colab-df-container {\n",
              "      display:flex;\n",
              "      flex-wrap:wrap;\n",
              "      gap: 12px;\n",
              "    }\n",
              "\n",
              "    .colab-df-convert {\n",
              "      background-color: #E8F0FE;\n",
              "      border: none;\n",
              "      border-radius: 50%;\n",
              "      cursor: pointer;\n",
              "      display: none;\n",
              "      fill: #1967D2;\n",
              "      height: 32px;\n",
              "      padding: 0 0 0 0;\n",
              "      width: 32px;\n",
              "    }\n",
              "\n",
              "    .colab-df-convert:hover {\n",
              "      background-color: #E2EBFA;\n",
              "      box-shadow: 0px 1px 2px rgba(60, 64, 67, 0.3), 0px 1px 3px 1px rgba(60, 64, 67, 0.15);\n",
              "      fill: #174EA6;\n",
              "    }\n",
              "\n",
              "    [theme=dark] .colab-df-convert {\n",
              "      background-color: #3B4455;\n",
              "      fill: #D2E3FC;\n",
              "    }\n",
              "\n",
              "    [theme=dark] .colab-df-convert:hover {\n",
              "      background-color: #434B5C;\n",
              "      box-shadow: 0px 1px 3px 1px rgba(0, 0, 0, 0.15);\n",
              "      filter: drop-shadow(0px 1px 2px rgba(0, 0, 0, 0.3));\n",
              "      fill: #FFFFFF;\n",
              "    }\n",
              "  </style>\n",
              "\n",
              "      <script>\n",
              "        const buttonEl =\n",
              "          document.querySelector('#df-abd250a2-b326-45e7-b08a-a9e43cc73070 button.colab-df-convert');\n",
              "        buttonEl.style.display =\n",
              "          google.colab.kernel.accessAllowed ? 'block' : 'none';\n",
              "\n",
              "        async function convertToInteractive(key) {\n",
              "          const element = document.querySelector('#df-abd250a2-b326-45e7-b08a-a9e43cc73070');\n",
              "          const dataTable =\n",
              "            await google.colab.kernel.invokeFunction('convertToInteractive',\n",
              "                                                     [key], {});\n",
              "          if (!dataTable) return;\n",
              "\n",
              "          const docLinkHtml = 'Like what you see? Visit the ' +\n",
              "            '<a target=\"_blank\" href=https://colab.research.google.com/notebooks/data_table.ipynb>data table notebook</a>'\n",
              "            + ' to learn more about interactive tables.';\n",
              "          element.innerHTML = '';\n",
              "          dataTable['output_type'] = 'display_data';\n",
              "          await google.colab.output.renderOutput(dataTable, element);\n",
              "          const docLink = document.createElement('div');\n",
              "          docLink.innerHTML = docLinkHtml;\n",
              "          element.appendChild(docLink);\n",
              "        }\n",
              "      </script>\n",
              "    </div>\n",
              "  </div>\n",
              "  "
            ],
            "text/plain": [
              "           Tweet ID                          Username  Specific_hour  \\\n",
              "1436   1.180102e+18  e70d36e99e0f4e1e5c4b52a8c204f412             12   \n",
              "89255  1.181096e+18  7124ce330fef6b6ef91a622705b2901d              6   \n",
              "4708   1.182970e+18  58e6701d01d1158865e7769001155291             10   \n",
              "9413   1.187301e+18  4028c7c41fd4e12925d5e4c8c9259ec3              9   \n",
              "21970  1.187419e+18  f3236299b7d8cb5ea8e8d402b153563d             17   \n",
              "\n",
              "       #Followers  #Friends  #Retweets  #Favorites  \\\n",
              "1436          154       394          0           0   \n",
              "89255        1539       115          0           0   \n",
              "4708         3071      2259          0           0   \n",
              "9413        49182     49564         51          74   \n",
              "21970        2052       247          0           0   \n",
              "\n",
              "                                                Entities Sentiment  \\\n",
              "1436   skynews:Sky_News:-2.4443176685121135;smuggling...      1 -3   \n",
              "89255                                              null;      1 -1   \n",
              "4708                                               null;      1 -1   \n",
              "9413   on a slow boat to china:%28I%27d_Like_to_Get_Y...      2 -2   \n",
              "21970                    china:China:-2.113921624336916;      2 -3   \n",
              "\n",
              "                                                Mentions Hashtags  \\\n",
              "1436   Kieenoo 156v6 KingsHeathBlues MarcusSlack SkyN...    null;   \n",
              "89255                   MrEatYaBooty ReadToriko abthe4th    null;   \n",
              "4708                                               null;    null;   \n",
              "9413                                       BreitbartNews    null;   \n",
              "21970                                    PropheticOneTHE    null;   \n",
              "\n",
              "                                                    URLs  Positive_sentiments  \\\n",
              "1436                                               null;                    1   \n",
              "89255                                              null;                    1   \n",
              "4708                                               null;                    1   \n",
              "9413   https://www.breitbart.com/sports/2019/10/23/un...                    2   \n",
              "21970                                              null;                    2   \n",
              "\n",
              "       Negative_sentiments  Number_of_Mentions  Number_of_Hashtags  \n",
              "1436                    -3                   7                   0  \n",
              "89255                   -1                   3                   0  \n",
              "4708                    -1                   0                   0  \n",
              "9413                    -2                   1                   0  \n",
              "21970                   -3                   1                   0  "
            ]
          },
          "execution_count": 179,
          "metadata": {},
          "output_type": "execute_result"
        }
      ],
      "source": [
        "# checking the dataframe\n",
        "cleaning_df.sample(5)"
      ]
    },
    {
      "cell_type": "code",
      "execution_count": null,
      "metadata": {
        "colab": {
          "base_uri": "https://localhost:8080/"
        },
        "id": "JWCFJmt64j0f",
        "outputId": "a1ca4403-4dd5-4a39-c380-cb12b5870fb1"
      },
      "outputs": [
        {
          "data": {
            "text/plain": [
              "Index(['Tweet ID', 'Username', 'Specific_hour', '#Followers', '#Friends',\n",
              "       '#Retweets', '#Favorites', 'Entities', 'Sentiment', 'Mentions',\n",
              "       'Hashtags', 'URLs', 'Positive_sentiments', 'Negative_sentiments',\n",
              "       'Number_of_Mentions', 'Number_of_Hashtags'],\n",
              "      dtype='object')"
            ]
          },
          "execution_count": 180,
          "metadata": {},
          "output_type": "execute_result"
        }
      ],
      "source": [
        "# printing the dataframe's column\n",
        "cleaning_df.columns"
      ]
    },
    {
      "cell_type": "markdown",
      "metadata": {
        "id": "BjH7xSbomzd1"
      },
      "source": [
        "##3.5 Dropping the columns \"Sentiment\", \"Mentions\", and \"Hashtags\" "
      ]
    },
    {
      "cell_type": "markdown",
      "metadata": {
        "id": "-aiVCyQx5wg2"
      },
      "source": [
        "After creating new columns Positive_sentiments, Negative_sentiments, Number_of_mentions, and Number_of_hashtags from Sentimen, Mentions and Hashtags columns, we notice that our dataframe's qality was poor. This was evident with columns with slightly repetitive data. To make the dataframe accurate, we drop the Sentiment\", \"Mentions\", and \"Hashtags\" columns. "
      ]
    },
    {
      "cell_type": "code",
      "execution_count": null,
      "metadata": {
        "id": "6Qy0vFJConjC"
      },
      "outputs": [],
      "source": [
        "# dropping \"Sentiment\", \"Mentions\", \"Hashtags\" columns to achieve the data's accuracy\n",
        "cleaning_df.drop([\"Sentiment\", \"Mentions\", \"Hashtags\"], axis = 1, inplace = True)"
      ]
    },
    {
      "cell_type": "code",
      "execution_count": null,
      "metadata": {
        "colab": {
          "base_uri": "https://localhost:8080/"
        },
        "id": "kbyGlWVa5zxi",
        "outputId": "da7d918d-c284-4fdc-92c5-f54fd3edc7d9"
      },
      "outputs": [
        {
          "data": {
            "text/plain": [
              "Index(['Tweet ID', 'Username', 'Specific_hour', '#Followers', '#Friends',\n",
              "       '#Retweets', '#Favorites', 'Entities', 'URLs', 'Positive_sentiments',\n",
              "       'Negative_sentiments', 'Number_of_Mentions', 'Number_of_Hashtags'],\n",
              "      dtype='object')"
            ]
          },
          "execution_count": 182,
          "metadata": {},
          "output_type": "execute_result"
        }
      ],
      "source": [
        "# printing the dataframe's column after dropping some columns\n",
        "cleaning_df.columns"
      ]
    },
    {
      "cell_type": "code",
      "execution_count": null,
      "metadata": {
        "colab": {
          "base_uri": "https://localhost:8080/"
        },
        "id": "Cz3tGBZh618C",
        "outputId": "fc93c0aa-e571-40e0-afa0-1a66cfbf2176"
      },
      "outputs": [
        {
          "data": {
            "text/html": [
              "\n",
              "  <div id=\"df-57820d49-fb71-4b53-b3ab-92b665d70d8c\">\n",
              "    <div class=\"colab-df-container\">\n",
              "      <div>\n",
              "<style scoped>\n",
              "    .dataframe tbody tr th:only-of-type {\n",
              "        vertical-align: middle;\n",
              "    }\n",
              "\n",
              "    .dataframe tbody tr th {\n",
              "        vertical-align: top;\n",
              "    }\n",
              "\n",
              "    .dataframe thead th {\n",
              "        text-align: right;\n",
              "    }\n",
              "</style>\n",
              "<table border=\"1\" class=\"dataframe\">\n",
              "  <thead>\n",
              "    <tr style=\"text-align: right;\">\n",
              "      <th></th>\n",
              "      <th>Tweet ID</th>\n",
              "      <th>Username</th>\n",
              "      <th>Specific_hour</th>\n",
              "      <th>#Followers</th>\n",
              "      <th>#Friends</th>\n",
              "      <th>#Retweets</th>\n",
              "      <th>#Favorites</th>\n",
              "      <th>Entities</th>\n",
              "      <th>URLs</th>\n",
              "      <th>Positive_sentiments</th>\n",
              "      <th>Negative_sentiments</th>\n",
              "      <th>Number_of_Mentions</th>\n",
              "      <th>Number_of_Hashtags</th>\n",
              "    </tr>\n",
              "  </thead>\n",
              "  <tbody>\n",
              "    <tr>\n",
              "      <th>39086</th>\n",
              "      <td>1.180559e+18</td>\n",
              "      <td>cbb4b6df81095d17234cdeb0ab987ccb</td>\n",
              "      <td>19</td>\n",
              "      <td>242</td>\n",
              "      <td>235</td>\n",
              "      <td>0</td>\n",
              "      <td>0</td>\n",
              "      <td>wilmington de:Wilmington%2C_Delaware:-1.227189...</td>\n",
              "      <td>null;</td>\n",
              "      <td>2</td>\n",
              "      <td>-1</td>\n",
              "      <td>0</td>\n",
              "      <td>2</td>\n",
              "    </tr>\n",
              "    <tr>\n",
              "      <th>60553</th>\n",
              "      <td>1.188876e+18</td>\n",
              "      <td>af79c1555dc5cbc37d3be7726d755000</td>\n",
              "      <td>17</td>\n",
              "      <td>139</td>\n",
              "      <td>144</td>\n",
              "      <td>0</td>\n",
              "      <td>0</td>\n",
              "      <td>null;</td>\n",
              "      <td>null;</td>\n",
              "      <td>1</td>\n",
              "      <td>-1</td>\n",
              "      <td>1</td>\n",
              "      <td>0</td>\n",
              "    </tr>\n",
              "    <tr>\n",
              "      <th>21705</th>\n",
              "      <td>1.187163e+18</td>\n",
              "      <td>2c714987bd36b141ab204e4ee9ee93a5</td>\n",
              "      <td>0</td>\n",
              "      <td>1002</td>\n",
              "      <td>975</td>\n",
              "      <td>0</td>\n",
              "      <td>0</td>\n",
              "      <td>naiad:Naiad:-1.630144279077398;tx:Texas:-2.558...</td>\n",
              "      <td>null;</td>\n",
              "      <td>3</td>\n",
              "      <td>-1</td>\n",
              "      <td>39</td>\n",
              "      <td>0</td>\n",
              "    </tr>\n",
              "    <tr>\n",
              "      <th>22608</th>\n",
              "      <td>1.188067e+18</td>\n",
              "      <td>2c0f63c1ec1e36c7811a7f1c57abc8ab</td>\n",
              "      <td>12</td>\n",
              "      <td>678</td>\n",
              "      <td>2599</td>\n",
              "      <td>0</td>\n",
              "      <td>0</td>\n",
              "      <td>cnn:CNN:-0.9113024985533761;soft power:Soft_po...</td>\n",
              "      <td>null;</td>\n",
              "      <td>1</td>\n",
              "      <td>-3</td>\n",
              "      <td>4</td>\n",
              "      <td>0</td>\n",
              "    </tr>\n",
              "    <tr>\n",
              "      <th>83637</th>\n",
              "      <td>1.187137e+18</td>\n",
              "      <td>76031f2e49bb89e97a2cde65fa238350</td>\n",
              "      <td>22</td>\n",
              "      <td>15948</td>\n",
              "      <td>663</td>\n",
              "      <td>2</td>\n",
              "      <td>5</td>\n",
              "      <td>null;</td>\n",
              "      <td>null;</td>\n",
              "      <td>1</td>\n",
              "      <td>-1</td>\n",
              "      <td>0</td>\n",
              "      <td>0</td>\n",
              "    </tr>\n",
              "  </tbody>\n",
              "</table>\n",
              "</div>\n",
              "      <button class=\"colab-df-convert\" onclick=\"convertToInteractive('df-57820d49-fb71-4b53-b3ab-92b665d70d8c')\"\n",
              "              title=\"Convert this dataframe to an interactive table.\"\n",
              "              style=\"display:none;\">\n",
              "        \n",
              "  <svg xmlns=\"http://www.w3.org/2000/svg\" height=\"24px\"viewBox=\"0 0 24 24\"\n",
              "       width=\"24px\">\n",
              "    <path d=\"M0 0h24v24H0V0z\" fill=\"none\"/>\n",
              "    <path d=\"M18.56 5.44l.94 2.06.94-2.06 2.06-.94-2.06-.94-.94-2.06-.94 2.06-2.06.94zm-11 1L8.5 8.5l.94-2.06 2.06-.94-2.06-.94L8.5 2.5l-.94 2.06-2.06.94zm10 10l.94 2.06.94-2.06 2.06-.94-2.06-.94-.94-2.06-.94 2.06-2.06.94z\"/><path d=\"M17.41 7.96l-1.37-1.37c-.4-.4-.92-.59-1.43-.59-.52 0-1.04.2-1.43.59L10.3 9.45l-7.72 7.72c-.78.78-.78 2.05 0 2.83L4 21.41c.39.39.9.59 1.41.59.51 0 1.02-.2 1.41-.59l7.78-7.78 2.81-2.81c.8-.78.8-2.07 0-2.86zM5.41 20L4 18.59l7.72-7.72 1.47 1.35L5.41 20z\"/>\n",
              "  </svg>\n",
              "      </button>\n",
              "      \n",
              "  <style>\n",
              "    .colab-df-container {\n",
              "      display:flex;\n",
              "      flex-wrap:wrap;\n",
              "      gap: 12px;\n",
              "    }\n",
              "\n",
              "    .colab-df-convert {\n",
              "      background-color: #E8F0FE;\n",
              "      border: none;\n",
              "      border-radius: 50%;\n",
              "      cursor: pointer;\n",
              "      display: none;\n",
              "      fill: #1967D2;\n",
              "      height: 32px;\n",
              "      padding: 0 0 0 0;\n",
              "      width: 32px;\n",
              "    }\n",
              "\n",
              "    .colab-df-convert:hover {\n",
              "      background-color: #E2EBFA;\n",
              "      box-shadow: 0px 1px 2px rgba(60, 64, 67, 0.3), 0px 1px 3px 1px rgba(60, 64, 67, 0.15);\n",
              "      fill: #174EA6;\n",
              "    }\n",
              "\n",
              "    [theme=dark] .colab-df-convert {\n",
              "      background-color: #3B4455;\n",
              "      fill: #D2E3FC;\n",
              "    }\n",
              "\n",
              "    [theme=dark] .colab-df-convert:hover {\n",
              "      background-color: #434B5C;\n",
              "      box-shadow: 0px 1px 3px 1px rgba(0, 0, 0, 0.15);\n",
              "      filter: drop-shadow(0px 1px 2px rgba(0, 0, 0, 0.3));\n",
              "      fill: #FFFFFF;\n",
              "    }\n",
              "  </style>\n",
              "\n",
              "      <script>\n",
              "        const buttonEl =\n",
              "          document.querySelector('#df-57820d49-fb71-4b53-b3ab-92b665d70d8c button.colab-df-convert');\n",
              "        buttonEl.style.display =\n",
              "          google.colab.kernel.accessAllowed ? 'block' : 'none';\n",
              "\n",
              "        async function convertToInteractive(key) {\n",
              "          const element = document.querySelector('#df-57820d49-fb71-4b53-b3ab-92b665d70d8c');\n",
              "          const dataTable =\n",
              "            await google.colab.kernel.invokeFunction('convertToInteractive',\n",
              "                                                     [key], {});\n",
              "          if (!dataTable) return;\n",
              "\n",
              "          const docLinkHtml = 'Like what you see? Visit the ' +\n",
              "            '<a target=\"_blank\" href=https://colab.research.google.com/notebooks/data_table.ipynb>data table notebook</a>'\n",
              "            + ' to learn more about interactive tables.';\n",
              "          element.innerHTML = '';\n",
              "          dataTable['output_type'] = 'display_data';\n",
              "          await google.colab.output.renderOutput(dataTable, element);\n",
              "          const docLink = document.createElement('div');\n",
              "          docLink.innerHTML = docLinkHtml;\n",
              "          element.appendChild(docLink);\n",
              "        }\n",
              "      </script>\n",
              "    </div>\n",
              "  </div>\n",
              "  "
            ],
            "text/plain": [
              "           Tweet ID                          Username  Specific_hour  \\\n",
              "39086  1.180559e+18  cbb4b6df81095d17234cdeb0ab987ccb             19   \n",
              "60553  1.188876e+18  af79c1555dc5cbc37d3be7726d755000             17   \n",
              "21705  1.187163e+18  2c714987bd36b141ab204e4ee9ee93a5              0   \n",
              "22608  1.188067e+18  2c0f63c1ec1e36c7811a7f1c57abc8ab             12   \n",
              "83637  1.187137e+18  76031f2e49bb89e97a2cde65fa238350             22   \n",
              "\n",
              "       #Followers  #Friends  #Retweets  #Favorites  \\\n",
              "39086         242       235          0           0   \n",
              "60553         139       144          0           0   \n",
              "21705        1002       975          0           0   \n",
              "22608         678      2599          0           0   \n",
              "83637       15948       663          2           5   \n",
              "\n",
              "                                                Entities   URLs  \\\n",
              "39086  wilmington de:Wilmington%2C_Delaware:-1.227189...  null;   \n",
              "60553                                              null;  null;   \n",
              "21705  naiad:Naiad:-1.630144279077398;tx:Texas:-2.558...  null;   \n",
              "22608  cnn:CNN:-0.9113024985533761;soft power:Soft_po...  null;   \n",
              "83637                                              null;  null;   \n",
              "\n",
              "       Positive_sentiments  Negative_sentiments  Number_of_Mentions  \\\n",
              "39086                    2                   -1                   0   \n",
              "60553                    1                   -1                   1   \n",
              "21705                    3                   -1                  39   \n",
              "22608                    1                   -3                   4   \n",
              "83637                    1                   -1                   0   \n",
              "\n",
              "       Number_of_Hashtags  \n",
              "39086                   2  \n",
              "60553                   0  \n",
              "21705                   0  \n",
              "22608                   0  \n",
              "83637                   0  "
            ]
          },
          "execution_count": 183,
          "metadata": {},
          "output_type": "execute_result"
        }
      ],
      "source": [
        "# checking the dataframe\n",
        "cleaning_df.sample(5)"
      ]
    },
    {
      "cell_type": "markdown",
      "metadata": {
        "id": "bDPiMzohvOCV"
      },
      "source": [
        "##3.6 Working on missing values"
      ]
    },
    {
      "cell_type": "markdown",
      "metadata": {
        "id": "6n7JqgHDtGTj"
      },
      "source": [
        "\n",
        "\n",
        "\n",
        "*   Initially, we noticed that some columns had missing values. These columns were Hashtags and Mentions\n",
        "*   These entries would have been filled by the columns mean, median or even 0\n",
        "* Subsequently, after creating new columns (Number_of_Hashtags and Number_of_Mentions) from the Hashtags and Mentions column respectively, we saw it wise to drop the Hashtags and Mentions columns to improve the data's accuracy and quality\n",
        "* Dropping these columns equally ensured no missing values in our data frame   \n",
        "\n",
        "\n",
        "\n"
      ]
    },
    {
      "cell_type": "code",
      "execution_count": null,
      "metadata": {
        "colab": {
          "base_uri": "https://localhost:8080/"
        },
        "id": "boiPFzfZvamd",
        "outputId": "7c1e1a5f-bb5f-463f-cd11-98e8e35e6eeb"
      },
      "outputs": [
        {
          "data": {
            "text/plain": [
              "Tweet ID               0\n",
              "Username               0\n",
              "Specific_hour          0\n",
              "#Followers             0\n",
              "#Friends               0\n",
              "#Retweets              0\n",
              "#Favorites             0\n",
              "Entities               0\n",
              "URLs                   0\n",
              "Positive_sentiments    0\n",
              "Negative_sentiments    0\n",
              "Number_of_Mentions     0\n",
              "Number_of_Hashtags     0\n",
              "dtype: int64"
            ]
          },
          "execution_count": 184,
          "metadata": {},
          "output_type": "execute_result"
        }
      ],
      "source": [
        "#checking the total missing values in different columns\n",
        "cleaning_df.isna().sum()"
      ]
    },
    {
      "cell_type": "markdown",
      "metadata": {
        "id": "-VOprAB_0PWj"
      },
      "source": [
        "##3.7 Extra wrangling - checking duplicates in the dataframe after cleaning"
      ]
    },
    {
      "cell_type": "code",
      "execution_count": null,
      "metadata": {
        "colab": {
          "base_uri": "https://localhost:8080/"
        },
        "id": "mFeTrBR37aba",
        "outputId": "3bee3ea3-68f8-4d87-ea51-3bf7573d3c57"
      },
      "outputs": [
        {
          "data": {
            "text/plain": [
              "0"
            ]
          },
          "execution_count": 185,
          "metadata": {},
          "output_type": "execute_result"
        }
      ],
      "source": [
        "# checking if the dataframe has duplicate values using the sum() function\n",
        "\n",
        "duplicate_rows = cleaning_df[cleaning_df.duplicated()]\n",
        "sum(cleaning_df.duplicated())"
      ]
    },
    {
      "cell_type": "markdown",
      "metadata": {
        "id": "qBpm-3Bb7rqg"
      },
      "source": [
        "> The dataframe has 0 duplicate rows"
      ]
    },
    {
      "cell_type": "markdown",
      "metadata": {
        "id": "aH2Mq3vm82cy"
      },
      "source": [
        "##3.8 Saving the dataframe after cleaning -- cleaned_df"
      ]
    },
    {
      "cell_type": "code",
      "execution_count": null,
      "metadata": {
        "id": "do0lx8Z491Kw"
      },
      "outputs": [],
      "source": [
        "#initializing a the cleaned dataframe to a new dataframe cleaned_df\n",
        "cleaned_df = cleaning_df"
      ]
    },
    {
      "cell_type": "code",
      "execution_count": null,
      "metadata": {
        "colab": {
          "base_uri": "https://localhost:8080/"
        },
        "id": "QeYkf0dvHOAy",
        "outputId": "779726bb-3406-4188-81f1-afcfbd03a501"
      },
      "outputs": [
        {
          "name": "stdout",
          "output_type": "stream",
          "text": [
            "<class 'pandas.core.frame.DataFrame'>\n",
            "RangeIndex: 100000 entries, 0 to 99999\n",
            "Data columns (total 13 columns):\n",
            " #   Column               Non-Null Count   Dtype  \n",
            "---  ------               --------------   -----  \n",
            " 0   Tweet ID             100000 non-null  float64\n",
            " 1   Username             100000 non-null  object \n",
            " 2   Specific_hour        100000 non-null  int64  \n",
            " 3   #Followers           100000 non-null  int64  \n",
            " 4   #Friends             100000 non-null  int64  \n",
            " 5   #Retweets            100000 non-null  int64  \n",
            " 6   #Favorites           100000 non-null  int64  \n",
            " 7   Entities             100000 non-null  object \n",
            " 8   URLs                 100000 non-null  object \n",
            " 9   Positive_sentiments  100000 non-null  int64  \n",
            " 10  Negative_sentiments  100000 non-null  int64  \n",
            " 11  Number_of_Mentions   100000 non-null  int64  \n",
            " 12  Number_of_Hashtags   100000 non-null  int64  \n",
            "dtypes: float64(1), int64(9), object(3)\n",
            "memory usage: 9.9+ MB\n"
          ]
        }
      ],
      "source": [
        "# printing the cleaned dataframe info\n",
        "cleaned_df.info()"
      ]
    },
    {
      "cell_type": "markdown",
      "metadata": {
        "id": "kYn0vRMZyKcf"
      },
      "source": [
        "# **4. Phase 4: Exploratory Data Analysis**"
      ]
    },
    {
      "cell_type": "markdown",
      "metadata": {
        "id": "j1Pxz2R79b5_"
      },
      "source": [
        "We then proceed to plot visualizations of distribution on Followers, Friends and Favorites. To draw more meaning through our visualizations (Histograms), we employ the Numpy's np.log10() method which will enable us find the natural logarithm of the entries in these three columns to be visualized and further enable creation of a good range of values on the x-axis."
      ]
    },
    {
      "cell_type": "markdown",
      "metadata": {
        "id": "m5HhhrJo5dCG"
      },
      "source": [
        "## 4.1 Visualizing the variable #Followers"
      ]
    },
    {
      "cell_type": "code",
      "execution_count": null,
      "metadata": {
        "colab": {
          "base_uri": "https://localhost:8080/"
        },
        "id": "Qj0hogwJJGCH",
        "outputId": "99fd3383-e4e3-4e5c-b2d5-3f5a5c5a11f0"
      },
      "outputs": [
        {
          "name": "stderr",
          "output_type": "stream",
          "text": [
            "/usr/local/lib/python3.7/dist-packages/pandas/core/arraylike.py:364: RuntimeWarning: divide by zero encountered in log10\n",
            "  result = getattr(ufunc, method)(*inputs, **kwargs)\n"
          ]
        },
        {
          "data": {
            "image/png": "[encoded data removed]",
            "text/plain": [
              "<Figure size 792x432 with 1 Axes>"
            ]
          },
          "metadata": {},
          "output_type": "display_data"
        }
      ],
      "source": [
        "# Creating a function plot_histogram with the different parameters it will hold\n",
        "def plot_histogram(column_name, xaxis_label, yaxis_label, title):\n",
        "  \n",
        "  #using the np.log10 to scale the plot \n",
        "  np.log10(cleaned_df[column_name]).plot.hist(figsize=[11, 6], bins=70, range=[0,10], edgecolor=\"white\")\n",
        "  plt.xlabel(xaxis_label)\n",
        "  plt.ylabel(yaxis_label)\n",
        "  plt.title(title)\n",
        "\n",
        "#calling the plot_histogram function and setting values to plot distribution of Log(Followers)\n",
        "plot_histogram('#Followers','Followers (as a log10)', 'Number', 'Distribution of #Followers')"
      ]
    },
    {
      "cell_type": "markdown",
      "metadata": {
        "id": "r9_8cr46gyYN"
      },
      "source": [
        "\n",
        "\n",
        "*   The #Followers distribution is a normal distribution \n",
        "\n"
      ]
    },
    {
      "cell_type": "markdown",
      "metadata": {
        "id": "anSgpWMY7Q0T"
      },
      "source": [
        "## 4.2 Visualizing the variable #Friends"
      ]
    },
    {
      "cell_type": "code",
      "execution_count": null,
      "metadata": {
        "colab": {
          "base_uri": "https://localhost:8080/"
        },
        "id": "cO9a_4Dw7pte",
        "outputId": "cbb80355-61d3-4c0d-c5c5-21ae660d9f4e"
      },
      "outputs": [
        {
          "data": {
            "image/png": "[encoded data removed]",
            "text/plain": [
              "<Figure size 792x432 with 1 Axes>"
            ]
          },
          "metadata": {},
          "output_type": "display_data"
        }
      ],
      "source": [
        "#calling the plot_histogram function and setting values to plot distribution of Log(Friends)\n",
        "plot_histogram('#Friends','Friends (as a log10)', 'Number', 'Distribution of #Friends')"
      ]
    },
    {
      "cell_type": "markdown",
      "metadata": {
        "id": "B7o9lUNQhfZT"
      },
      "source": [
        "\n",
        "\n",
        "*   The metric #Friends distribution is a normal distribution too with two peaks above 8000 \n",
        "\n"
      ]
    },
    {
      "cell_type": "markdown",
      "metadata": {
        "id": "Fr8mPZ6x7aKe"
      },
      "source": [
        "## 4.3 Visualizing the variable #Favorites"
      ]
    },
    {
      "cell_type": "code",
      "execution_count": null,
      "metadata": {
        "colab": {
          "base_uri": "https://localhost:8080/"
        },
        "id": "Bjt942KA8Bz5",
        "outputId": "c94de8df-7433-4c7d-bcb6-094cb2e93ef5"
      },
      "outputs": [
        {
          "data": {
            "image/png": "[encoded data removed]",
            "text/plain": [
              "<Figure size 792x432 with 1 Axes>"
            ]
          },
          "metadata": {},
          "output_type": "display_data"
        }
      ],
      "source": [
        "#calling the plot_histogram function and setting values to plot distribution of Log(Favorites)\n",
        "plot_histogram('#Favorites','Favorites(as a log10)', 'Number', 'Distribution of #Favorites')"
      ]
    },
    {
      "cell_type": "markdown",
      "metadata": {
        "id": "n9CMmnDvfqJ5"
      },
      "source": [
        "\n",
        "\n",
        "\n",
        "* #Favorites distribution is highly skeewed to the right\n",
        "* Its highhest number/frequency is around 3500\n",
        "\n",
        "\n"
      ]
    },
    {
      "cell_type": "markdown",
      "metadata": {
        "id": "jq4eVNu1Agz4"
      },
      "source": [
        "## 4.4 Displaying the correlation matrix between #Followers, #Friends, #Favorites, Positive Sentiments and Negative Sentiments with respect to #Retweets"
      ]
    },
    {
      "cell_type": "code",
      "execution_count": null,
      "metadata": {
        "colab": {
          "base_uri": "https://localhost:8080/"
        },
        "id": "QnuizZkzBtQ5",
        "outputId": "9b6cf2ac-52b8-4519-9cbf-25ca86df2980"
      },
      "outputs": [
        {
          "data": {
            "text/html": [
              "<style type=\"text/css\">\n",
              "#T_a0c84_row0_col0, #T_a0c84_row1_col1, #T_a0c84_row2_col2, #T_a0c84_row3_col3, #T_a0c84_row4_col4, #T_a0c84_row5_col5 {\n",
              "  background-color: #b40426;\n",
              "  color: #f1f1f1;\n",
              "}\n",
              "#T_a0c84_row0_col1 {\n",
              "  background-color: #6c8ff1;\n",
              "  color: #f1f1f1;\n",
              "}\n",
              "#T_a0c84_row0_col2, #T_a0c84_row2_col0 {\n",
              "  background-color: #d85646;\n",
              "  color: #f1f1f1;\n",
              "}\n",
              "#T_a0c84_row0_col3, #T_a0c84_row2_col5, #T_a0c84_row5_col1 {\n",
              "  background-color: #445acc;\n",
              "  color: #f1f1f1;\n",
              "}\n",
              "#T_a0c84_row0_col4, #T_a0c84_row3_col0, #T_a0c84_row3_col1, #T_a0c84_row3_col4 {\n",
              "  background-color: #455cce;\n",
              "  color: #f1f1f1;\n",
              "}\n",
              "#T_a0c84_row0_col5, #T_a0c84_row3_col5 {\n",
              "  background-color: #4358cb;\n",
              "  color: #f1f1f1;\n",
              "}\n",
              "#T_a0c84_row1_col0 {\n",
              "  background-color: #6788ee;\n",
              "  color: #f1f1f1;\n",
              "}\n",
              "#T_a0c84_row1_col2 {\n",
              "  background-color: #7295f4;\n",
              "  color: #f1f1f1;\n",
              "}\n",
              "#T_a0c84_row1_col3 {\n",
              "  background-color: #3f53c6;\n",
              "  color: #f1f1f1;\n",
              "}\n",
              "#T_a0c84_row1_col4 {\n",
              "  background-color: #3e51c5;\n",
              "  color: #f1f1f1;\n",
              "}\n",
              "#T_a0c84_row1_col5 {\n",
              "  background-color: #485fd1;\n",
              "  color: #f1f1f1;\n",
              "}\n",
              "#T_a0c84_row2_col1 {\n",
              "  background-color: #799cf8;\n",
              "  color: #f1f1f1;\n",
              "}\n",
              "#T_a0c84_row2_col3 {\n",
              "  background-color: #4257c9;\n",
              "  color: #f1f1f1;\n",
              "}\n",
              "#T_a0c84_row2_col4 {\n",
              "  background-color: #465ecf;\n",
              "  color: #f1f1f1;\n",
              "}\n",
              "#T_a0c84_row3_col2 {\n",
              "  background-color: #4055c8;\n",
              "  color: #f1f1f1;\n",
              "}\n",
              "#T_a0c84_row4_col0 {\n",
              "  background-color: #3d50c3;\n",
              "  color: #f1f1f1;\n",
              "}\n",
              "#T_a0c84_row4_col1, #T_a0c84_row4_col5, #T_a0c84_row5_col0, #T_a0c84_row5_col2, #T_a0c84_row5_col3, #T_a0c84_row5_col4 {\n",
              "  background-color: #3b4cc0;\n",
              "  color: #f1f1f1;\n",
              "}\n",
              "#T_a0c84_row4_col2, #T_a0c84_row4_col3 {\n",
              "  background-color: #3c4ec2;\n",
              "  color: #f1f1f1;\n",
              "}\n",
              "</style>\n",
              "<table id=\"T_a0c84_\" class=\"dataframe\">\n",
              "  <thead>\n",
              "    <tr>\n",
              "      <th class=\"blank level0\" >&nbsp;</th>\n",
              "      <th class=\"col_heading level0 col0\" >#Retweets</th>\n",
              "      <th class=\"col_heading level0 col1\" >#Followers</th>\n",
              "      <th class=\"col_heading level0 col2\" >#Favorites</th>\n",
              "      <th class=\"col_heading level0 col3\" >#Friends</th>\n",
              "      <th class=\"col_heading level0 col4\" >Positive_sentiments</th>\n",
              "      <th class=\"col_heading level0 col5\" >Negative_sentiments</th>\n",
              "    </tr>\n",
              "  </thead>\n",
              "  <tbody>\n",
              "    <tr>\n",
              "      <th id=\"T_a0c84_level0_row0\" class=\"row_heading level0 row0\" >#Retweets</th>\n",
              "      <td id=\"T_a0c84_row0_col0\" class=\"data row0 col0\" >1.000000</td>\n",
              "      <td id=\"T_a0c84_row0_col1\" class=\"data row0 col1\" >0.134503</td>\n",
              "      <td id=\"T_a0c84_row0_col2\" class=\"data row0 col2\" >0.890328</td>\n",
              "      <td id=\"T_a0c84_row0_col3\" class=\"data row0 col3\" >0.026502</td>\n",
              "      <td id=\"T_a0c84_row0_col4\" class=\"data row0 col4\" >0.000433</td>\n",
              "      <td id=\"T_a0c84_row0_col5\" class=\"data row0 col5\" >-0.010565</td>\n",
              "    </tr>\n",
              "    <tr>\n",
              "      <th id=\"T_a0c84_level0_row1\" class=\"row_heading level0 row1\" >#Followers</th>\n",
              "      <td id=\"T_a0c84_row1_col0\" class=\"data row1 col0\" >0.134503</td>\n",
              "      <td id=\"T_a0c84_row1_col1\" class=\"data row1 col1\" >1.000000</td>\n",
              "      <td id=\"T_a0c84_row1_col2\" class=\"data row1 col2\" >0.172158</td>\n",
              "      <td id=\"T_a0c84_row1_col3\" class=\"data row1 col3\" >0.011337</td>\n",
              "      <td id=\"T_a0c84_row1_col4\" class=\"data row1 col4\" >-0.027071</td>\n",
              "      <td id=\"T_a0c84_row1_col5\" class=\"data row1 col5\" >0.008711</td>\n",
              "    </tr>\n",
              "    <tr>\n",
              "      <th id=\"T_a0c84_level0_row2\" class=\"row_heading level0 row2\" >#Favorites</th>\n",
              "      <td id=\"T_a0c84_row2_col0\" class=\"data row2 col0\" >0.890328</td>\n",
              "      <td id=\"T_a0c84_row2_col1\" class=\"data row2 col1\" >0.172158</td>\n",
              "      <td id=\"T_a0c84_row2_col2\" class=\"data row2 col2\" >1.000000</td>\n",
              "      <td id=\"T_a0c84_row2_col3\" class=\"data row2 col3\" >0.017877</td>\n",
              "      <td id=\"T_a0c84_row2_col4\" class=\"data row2 col4\" >0.002533</td>\n",
              "      <td id=\"T_a0c84_row2_col5\" class=\"data row2 col5\" >-0.003889</td>\n",
              "    </tr>\n",
              "    <tr>\n",
              "      <th id=\"T_a0c84_level0_row3\" class=\"row_heading level0 row3\" >#Friends</th>\n",
              "      <td id=\"T_a0c84_row3_col0\" class=\"data row3 col0\" >0.026502</td>\n",
              "      <td id=\"T_a0c84_row3_col1\" class=\"data row3 col1\" >0.011337</td>\n",
              "      <td id=\"T_a0c84_row3_col2\" class=\"data row3 col2\" >0.017877</td>\n",
              "      <td id=\"T_a0c84_row3_col3\" class=\"data row3 col3\" >1.000000</td>\n",
              "      <td id=\"T_a0c84_row3_col4\" class=\"data row3 col4\" >-0.000555</td>\n",
              "      <td id=\"T_a0c84_row3_col5\" class=\"data row3 col5\" >-0.007891</td>\n",
              "    </tr>\n",
              "    <tr>\n",
              "      <th id=\"T_a0c84_level0_row4\" class=\"row_heading level0 row4\" >Positive_sentiments</th>\n",
              "      <td id=\"T_a0c84_row4_col0\" class=\"data row4 col0\" >0.000433</td>\n",
              "      <td id=\"T_a0c84_row4_col1\" class=\"data row4 col1\" >-0.027071</td>\n",
              "      <td id=\"T_a0c84_row4_col2\" class=\"data row4 col2\" >0.002533</td>\n",
              "      <td id=\"T_a0c84_row4_col3\" class=\"data row4 col3\" >-0.000555</td>\n",
              "      <td id=\"T_a0c84_row4_col4\" class=\"data row4 col4\" >1.000000</td>\n",
              "      <td id=\"T_a0c84_row4_col5\" class=\"data row4 col5\" >-0.039849</td>\n",
              "    </tr>\n",
              "    <tr>\n",
              "      <th id=\"T_a0c84_level0_row5\" class=\"row_heading level0 row5\" >Negative_sentiments</th>\n",
              "      <td id=\"T_a0c84_row5_col0\" class=\"data row5 col0\" >-0.010565</td>\n",
              "      <td id=\"T_a0c84_row5_col1\" class=\"data row5 col1\" >0.008711</td>\n",
              "      <td id=\"T_a0c84_row5_col2\" class=\"data row5 col2\" >-0.003889</td>\n",
              "      <td id=\"T_a0c84_row5_col3\" class=\"data row5 col3\" >-0.007891</td>\n",
              "      <td id=\"T_a0c84_row5_col4\" class=\"data row5 col4\" >-0.039849</td>\n",
              "      <td id=\"T_a0c84_row5_col5\" class=\"data row5 col5\" >1.000000</td>\n",
              "    </tr>\n",
              "  </tbody>\n",
              "</table>\n"
            ],
            "text/plain": [
              "<pandas.io.formats.style.Styler at 0x7fa34e735b50>"
            ]
          },
          "execution_count": 191,
          "metadata": {},
          "output_type": "execute_result"
        }
      ],
      "source": [
        "# creating a variable columns to hold the dataframe's target columns for plotting correlation matrix \n",
        "columns=[\"#Retweets\", \"#Followers\", \"#Favorites\", \"#Friends\", \"Positive_sentiments\", \"Negative_sentiments\"]\n",
        "\n",
        "# using the correlation function corr() on our data frame\n",
        "# to print correlation of the variables\n",
        "corr = cleaned_df[columns].corr() \n",
        "\n",
        "#setting up the correlation style for our output for easier visualization\n",
        "corr.style.background_gradient(cmap='coolwarm') "
      ]
    },
    {
      "cell_type": "markdown",
      "metadata": {
        "id": "XkljRlu2lTIS"
      },
      "source": [
        "* We noticed that #Favorites is has a strong positive correlation (0.89) with #Retweets "
      ]
    },
    {
      "cell_type": "markdown",
      "metadata": {
        "id": "et8G9SkFK22V"
      },
      "source": [
        "**Output question 1: What do these plots and correlation matrix signify?**\n"
      ]
    },
    {
      "cell_type": "markdown",
      "metadata": {
        "id": "YLR3oOOTcc4l"
      },
      "source": [
        "\n",
        "\n",
        ">   The histograms plotted display how frequently the numerical data  (features) occur. The height of the rectangles, using the vertical axis, symbolizes the frequency of the variable's distribution \n",
        "\n",
        ">   The correlation matrix signifies the relationship/ correlation between the different variables. This includes showing the correlation between the target variable to be predicted and other variables.\n",
        "\n",
        "\n"
      ]
    },
    {
      "cell_type": "markdown",
      "metadata": {
        "id": "EeWSJ7MAH2au"
      },
      "source": [
        "\n",
        "\n",
        "> Plotting the correlation matrices of the different variables and assessing the values with respesct to the dependent/target variable (#Retweets) we notice that #Favourites, one of the independent variables, is strongly correlated with #Retweets with a correlation matrix of 0.8.\n",
        "\n"
      ]
    },
    {
      "cell_type": "markdown",
      "metadata": {
        "id": "_eYkbHF3LAM8"
      },
      "source": [
        "**Output question 2: What do the signs (+/-) before the correlation magnitudes signify?**\n",
        "\n",
        "\n",
        "> The '+' sign before a correlation magnitude signifies a positive correlation which will imply that an increases in one the variables causes an increase in another variable and vice versa, whereas the '-' negative sign before a correlation value signifies a negative correlation which implies that the variables are inversely related with an increase in one variable seeing a decrease in another variable and vice versa.\n",
        "\n"
      ]
    },
    {
      "cell_type": "markdown",
      "metadata": {
        "id": "TnZ7hCTiRVH5"
      },
      "source": [
        "**Output question 3: If a feature shows 0 correlation to #Retweets, does that mean it could not contribute to prediction?**\n",
        "\n",
        "\n",
        "> A feature's 0 correlation to #Retweets means that the given variable has no influence at all to the prediction of #Retweets. Although correlation does not imply causation, a CORRELATION VALUE OF 0 to a target value strongly affirms the variables' zero influence on the target variable. \n",
        "\n"
      ]
    },
    {
      "cell_type": "markdown",
      "metadata": {
        "id": "OYTcjlHx9frR"
      },
      "source": [
        "##4.5 Further data wrangling"
      ]
    },
    {
      "cell_type": "markdown",
      "metadata": {
        "id": "9CnELevAogZU"
      },
      "source": [
        "\n",
        "\n",
        "*   At this point, we are able to argue that some other variables like Tweet ID, Username, URLs, and Entities do not influence the #Retweets variable and therefore the prediction of #Retweets\n",
        "*   We therefore drop such columns to make our data more accurate for the next phase of data modelling.\n",
        "\n"
      ]
    },
    {
      "cell_type": "code",
      "execution_count": null,
      "metadata": {
        "id": "KyEFFtH3po8f"
      },
      "outputs": [],
      "source": [
        "# dropping more columns\n",
        "cleaned_df.drop([\"Tweet ID\", \"Username\", \"URLs\", \"Entities\"], axis = 1, inplace = True)"
      ]
    },
    {
      "cell_type": "code",
      "execution_count": null,
      "metadata": {
        "colab": {
          "base_uri": "https://localhost:8080/"
        },
        "id": "KC6QKTWSqjWu",
        "outputId": "5243c240-cded-4287-9bc6-5ffe7d149095"
      },
      "outputs": [
        {
          "name": "stdout",
          "output_type": "stream",
          "text": [
            "<class 'pandas.core.frame.DataFrame'>\n",
            "RangeIndex: 100000 entries, 0 to 99999\n",
            "Data columns (total 9 columns):\n",
            " #   Column               Non-Null Count   Dtype\n",
            "---  ------               --------------   -----\n",
            " 0   Specific_hour        100000 non-null  int64\n",
            " 1   #Followers           100000 non-null  int64\n",
            " 2   #Friends             100000 non-null  int64\n",
            " 3   #Retweets            100000 non-null  int64\n",
            " 4   #Favorites           100000 non-null  int64\n",
            " 5   Positive_sentiments  100000 non-null  int64\n",
            " 6   Negative_sentiments  100000 non-null  int64\n",
            " 7   Number_of_Mentions   100000 non-null  int64\n",
            " 8   Number_of_Hashtags   100000 non-null  int64\n",
            "dtypes: int64(9)\n",
            "memory usage: 6.9 MB\n"
          ]
        }
      ],
      "source": [
        "# displaying the dataframe info\n",
        "cleaned_df.info()"
      ]
    },
    {
      "cell_type": "code",
      "execution_count": null,
      "metadata": {
        "colab": {
          "base_uri": "https://localhost:8080/"
        },
        "id": "31sUK9jGqvX9",
        "outputId": "873bfd60-3c70-4aec-ebc5-a59258355e5a"
      },
      "outputs": [
        {
          "data": {
            "text/html": [
              "\n",
              "  <div id=\"df-5ff8550d-eeb3-482b-a8c7-679d49ddf106\">\n",
              "    <div class=\"colab-df-container\">\n",
              "      <div>\n",
              "<style scoped>\n",
              "    .dataframe tbody tr th:only-of-type {\n",
              "        vertical-align: middle;\n",
              "    }\n",
              "\n",
              "    .dataframe tbody tr th {\n",
              "        vertical-align: top;\n",
              "    }\n",
              "\n",
              "    .dataframe thead th {\n",
              "        text-align: right;\n",
              "    }\n",
              "</style>\n",
              "<table border=\"1\" class=\"dataframe\">\n",
              "  <thead>\n",
              "    <tr style=\"text-align: right;\">\n",
              "      <th></th>\n",
              "      <th>Specific_hour</th>\n",
              "      <th>#Followers</th>\n",
              "      <th>#Friends</th>\n",
              "      <th>#Retweets</th>\n",
              "      <th>#Favorites</th>\n",
              "      <th>Positive_sentiments</th>\n",
              "      <th>Negative_sentiments</th>\n",
              "      <th>Number_of_Mentions</th>\n",
              "      <th>Number_of_Hashtags</th>\n",
              "    </tr>\n",
              "  </thead>\n",
              "  <tbody>\n",
              "    <tr>\n",
              "      <th>6633</th>\n",
              "      <td>2</td>\n",
              "      <td>976</td>\n",
              "      <td>487</td>\n",
              "      <td>0</td>\n",
              "      <td>0</td>\n",
              "      <td>2</td>\n",
              "      <td>-1</td>\n",
              "      <td>1</td>\n",
              "      <td>1</td>\n",
              "    </tr>\n",
              "    <tr>\n",
              "      <th>19701</th>\n",
              "      <td>21</td>\n",
              "      <td>1581</td>\n",
              "      <td>2220</td>\n",
              "      <td>0</td>\n",
              "      <td>0</td>\n",
              "      <td>3</td>\n",
              "      <td>-1</td>\n",
              "      <td>0</td>\n",
              "      <td>0</td>\n",
              "    </tr>\n",
              "    <tr>\n",
              "      <th>8644</th>\n",
              "      <td>13</td>\n",
              "      <td>266</td>\n",
              "      <td>391</td>\n",
              "      <td>0</td>\n",
              "      <td>0</td>\n",
              "      <td>1</td>\n",
              "      <td>-1</td>\n",
              "      <td>5</td>\n",
              "      <td>0</td>\n",
              "    </tr>\n",
              "    <tr>\n",
              "      <th>38409</th>\n",
              "      <td>1</td>\n",
              "      <td>1</td>\n",
              "      <td>58</td>\n",
              "      <td>0</td>\n",
              "      <td>0</td>\n",
              "      <td>2</td>\n",
              "      <td>-1</td>\n",
              "      <td>0</td>\n",
              "      <td>0</td>\n",
              "    </tr>\n",
              "    <tr>\n",
              "      <th>50692</th>\n",
              "      <td>23</td>\n",
              "      <td>1026</td>\n",
              "      <td>256</td>\n",
              "      <td>4</td>\n",
              "      <td>14</td>\n",
              "      <td>1</td>\n",
              "      <td>-1</td>\n",
              "      <td>0</td>\n",
              "      <td>1</td>\n",
              "    </tr>\n",
              "  </tbody>\n",
              "</table>\n",
              "</div>\n",
              "      <button class=\"colab-df-convert\" onclick=\"convertToInteractive('df-5ff8550d-eeb3-482b-a8c7-679d49ddf106')\"\n",
              "              title=\"Convert this dataframe to an interactive table.\"\n",
              "              style=\"display:none;\">\n",
              "        \n",
              "  <svg xmlns=\"http://www.w3.org/2000/svg\" height=\"24px\"viewBox=\"0 0 24 24\"\n",
              "       width=\"24px\">\n",
              "    <path d=\"M0 0h24v24H0V0z\" fill=\"none\"/>\n",
              "    <path d=\"M18.56 5.44l.94 2.06.94-2.06 2.06-.94-2.06-.94-.94-2.06-.94 2.06-2.06.94zm-11 1L8.5 8.5l.94-2.06 2.06-.94-2.06-.94L8.5 2.5l-.94 2.06-2.06.94zm10 10l.94 2.06.94-2.06 2.06-.94-2.06-.94-.94-2.06-.94 2.06-2.06.94z\"/><path d=\"M17.41 7.96l-1.37-1.37c-.4-.4-.92-.59-1.43-.59-.52 0-1.04.2-1.43.59L10.3 9.45l-7.72 7.72c-.78.78-.78 2.05 0 2.83L4 21.41c.39.39.9.59 1.41.59.51 0 1.02-.2 1.41-.59l7.78-7.78 2.81-2.81c.8-.78.8-2.07 0-2.86zM5.41 20L4 18.59l7.72-7.72 1.47 1.35L5.41 20z\"/>\n",
              "  </svg>\n",
              "      </button>\n",
              "      \n",
              "  <style>\n",
              "    .colab-df-container {\n",
              "      display:flex;\n",
              "      flex-wrap:wrap;\n",
              "      gap: 12px;\n",
              "    }\n",
              "\n",
              "    .colab-df-convert {\n",
              "      background-color: #E8F0FE;\n",
              "      border: none;\n",
              "      border-radius: 50%;\n",
              "      cursor: pointer;\n",
              "      display: none;\n",
              "      fill: #1967D2;\n",
              "      height: 32px;\n",
              "      padding: 0 0 0 0;\n",
              "      width: 32px;\n",
              "    }\n",
              "\n",
              "    .colab-df-convert:hover {\n",
              "      background-color: #E2EBFA;\n",
              "      box-shadow: 0px 1px 2px rgba(60, 64, 67, 0.3), 0px 1px 3px 1px rgba(60, 64, 67, 0.15);\n",
              "      fill: #174EA6;\n",
              "    }\n",
              "\n",
              "    [theme=dark] .colab-df-convert {\n",
              "      background-color: #3B4455;\n",
              "      fill: #D2E3FC;\n",
              "    }\n",
              "\n",
              "    [theme=dark] .colab-df-convert:hover {\n",
              "      background-color: #434B5C;\n",
              "      box-shadow: 0px 1px 3px 1px rgba(0, 0, 0, 0.15);\n",
              "      filter: drop-shadow(0px 1px 2px rgba(0, 0, 0, 0.3));\n",
              "      fill: #FFFFFF;\n",
              "    }\n",
              "  </style>\n",
              "\n",
              "      <script>\n",
              "        const buttonEl =\n",
              "          document.querySelector('#df-5ff8550d-eeb3-482b-a8c7-679d49ddf106 button.colab-df-convert');\n",
              "        buttonEl.style.display =\n",
              "          google.colab.kernel.accessAllowed ? 'block' : 'none';\n",
              "\n",
              "        async function convertToInteractive(key) {\n",
              "          const element = document.querySelector('#df-5ff8550d-eeb3-482b-a8c7-679d49ddf106');\n",
              "          const dataTable =\n",
              "            await google.colab.kernel.invokeFunction('convertToInteractive',\n",
              "                                                     [key], {});\n",
              "          if (!dataTable) return;\n",
              "\n",
              "          const docLinkHtml = 'Like what you see? Visit the ' +\n",
              "            '<a target=\"_blank\" href=https://colab.research.google.com/notebooks/data_table.ipynb>data table notebook</a>'\n",
              "            + ' to learn more about interactive tables.';\n",
              "          element.innerHTML = '';\n",
              "          dataTable['output_type'] = 'display_data';\n",
              "          await google.colab.output.renderOutput(dataTable, element);\n",
              "          const docLink = document.createElement('div');\n",
              "          docLink.innerHTML = docLinkHtml;\n",
              "          element.appendChild(docLink);\n",
              "        }\n",
              "      </script>\n",
              "    </div>\n",
              "  </div>\n",
              "  "
            ],
            "text/plain": [
              "       Specific_hour  #Followers  #Friends  #Retweets  #Favorites  \\\n",
              "6633               2         976       487          0           0   \n",
              "19701             21        1581      2220          0           0   \n",
              "8644              13         266       391          0           0   \n",
              "38409              1           1        58          0           0   \n",
              "50692             23        1026       256          4          14   \n",
              "\n",
              "       Positive_sentiments  Negative_sentiments  Number_of_Mentions  \\\n",
              "6633                     2                   -1                   1   \n",
              "19701                    3                   -1                   0   \n",
              "8644                     1                   -1                   5   \n",
              "38409                    2                   -1                   0   \n",
              "50692                    1                   -1                   0   \n",
              "\n",
              "       Number_of_Hashtags  \n",
              "6633                    1  \n",
              "19701                   0  \n",
              "8644                    0  \n",
              "38409                   0  \n",
              "50692                   1  "
            ]
          },
          "execution_count": 194,
          "metadata": {},
          "output_type": "execute_result"
        }
      ],
      "source": [
        "# printing a sample of the dataframe\n",
        "cleaned_df.sample(5)"
      ]
    },
    {
      "cell_type": "markdown",
      "metadata": {
        "id": "7xOfRAayqXtH"
      },
      "source": [
        "##4.6 Saving the data frame after final cleaning"
      ]
    },
    {
      "cell_type": "code",
      "execution_count": null,
      "metadata": {
        "id": "7IOk1FdUq-dk"
      },
      "outputs": [],
      "source": [
        "#creating a dataframe final_df that will save the cleaned dataframe as a master CSV file\n",
        "\n",
        "cleaned_df.to_csv(r'/content/drive/MyDrive/tw_export_master.csv', index=False)"
      ]
    },
    {
      "cell_type": "markdown",
      "metadata": {
        "id": "n7282ZKeyYWZ"
      },
      "source": [
        "# **5. Phase 5: Data Modelling**"
      ]
    },
    {
      "cell_type": "code",
      "execution_count": null,
      "metadata": {
        "id": "sl7WUhpGJIXx"
      },
      "outputs": [],
      "source": [
        "# Setting the dependencies\n",
        "from sklearn.model_selection import train_test_split\n",
        "from sklearn.feature_extraction.text import TfidfVectorizer\n",
        "from sklearn.preprocessing import MinMaxScaler\n",
        "from sklearn.model_selection import cross_val_score\n",
        "from sklearn.linear_model import LinearRegression\n",
        "from sklearn.ensemble import RandomForestRegressor\n",
        "from sklearn import metrics\n",
        "import math"
      ]
    },
    {
      "cell_type": "markdown",
      "metadata": {
        "id": "WOzYrejetCkn"
      },
      "source": [
        "## 5.1   Data Transformation -- Normalizing the Attributes using MinMaxScaler\n",
        "\n",
        "*   Normalizing attributes is the process of transforming the features’ values which are numeric in a given data set so that the values be in a specific range.\n",
        "*   Normalization is mostly achieved using a scalar.\n",
        "*   For example, in this case, the values in the ‘#Favorites’ column, which is a feature in our dataset, were normalized. Its values were transformed to be in a range between 0 and 1.\n"
      ]
    },
    {
      "cell_type": "code",
      "execution_count": null,
      "metadata": {
        "id": "c7Xb7WxTJNq_"
      },
      "outputs": [],
      "source": [
        "#loading dataframe to be used\n",
        "final_df = pd.read_csv('/content/drive/MyDrive/tw_export_master.csv')"
      ]
    },
    {
      "cell_type": "code",
      "execution_count": null,
      "metadata": {
        "colab": {
          "base_uri": "https://localhost:8080/"
        },
        "id": "hZJHz_37GzfB",
        "outputId": "0b7a8969-5540-484c-dddf-bf5e00176bae"
      },
      "outputs": [
        {
          "data": {
            "text/plain": [
              "Index(['Specific_hour', '#Followers', '#Friends', '#Retweets', '#Favorites',\n",
              "       'Positive_sentiments', 'Negative_sentiments', 'Number_of_Mentions',\n",
              "       'Number_of_Hashtags'],\n",
              "      dtype='object')"
            ]
          },
          "execution_count": 228,
          "metadata": {},
          "output_type": "execute_result"
        }
      ],
      "source": [
        "#printing the dataframe's columns\n",
        "final_df.columns"
      ]
    },
    {
      "cell_type": "code",
      "execution_count": null,
      "metadata": {
        "id": "EngxOrdOxaMK"
      },
      "outputs": [],
      "source": [
        "values = final_df.values\n",
        "\n",
        "# ensure all data is float\n",
        "values = values.astype('float32')\n",
        "\n",
        "# creting a data object x that is initialized to  \n",
        "# our dataframe. We drop the target variable, and use \n",
        "# it to create another data object\n",
        "x = final_df.drop(\"#Retweets\", axis=1)\n",
        "\n",
        "# creting a data object y that is initialized to  \n",
        "# our target variable as a dataframe\n",
        "y = final_df[\"#Retweets\"]\n",
        "\n",
        "# defining the min max scaler\n",
        "scaler = MinMaxScaler(feature_range=(0, 1))\n",
        "\n",
        "# normalizing features\n",
        "scaled_df = scaler.fit_transform(x)\n",
        "scaled_df=pd.DataFrame(scaled_df,columns=x.columns)"
      ]
    },
    {
      "cell_type": "code",
      "execution_count": null,
      "metadata": {
        "colab": {
          "base_uri": "https://localhost:8080/",
          "height": 363
        },
        "id": "ChamGs5AOrZH",
        "outputId": "e72ee193-103e-4941-e8b0-99b244ac4e22"
      },
      "outputs": [
        {
          "data": {
            "text/html": [
              "\n",
              "  <div id=\"df-fd156a2a-cc45-44ca-8837-9ad57972e6ee\">\n",
              "    <div class=\"colab-df-container\">\n",
              "      <div>\n",
              "<style scoped>\n",
              "    .dataframe tbody tr th:only-of-type {\n",
              "        vertical-align: middle;\n",
              "    }\n",
              "\n",
              "    .dataframe tbody tr th {\n",
              "        vertical-align: top;\n",
              "    }\n",
              "\n",
              "    .dataframe thead th {\n",
              "        text-align: right;\n",
              "    }\n",
              "</style>\n",
              "<table border=\"1\" class=\"dataframe\">\n",
              "  <thead>\n",
              "    <tr style=\"text-align: right;\">\n",
              "      <th></th>\n",
              "      <th>Specific_hour</th>\n",
              "      <th>#Followers</th>\n",
              "      <th>#Friends</th>\n",
              "      <th>#Favorites</th>\n",
              "      <th>Positive_sentiments</th>\n",
              "      <th>Negative_sentiments</th>\n",
              "      <th>Number_of_Mentions</th>\n",
              "      <th>Number_of_Hashtags</th>\n",
              "    </tr>\n",
              "  </thead>\n",
              "  <tbody>\n",
              "    <tr>\n",
              "      <th>63057</th>\n",
              "      <td>0.913043</td>\n",
              "      <td>8.212561e-05</td>\n",
              "      <td>0.002245</td>\n",
              "      <td>0.000787</td>\n",
              "      <td>0.5</td>\n",
              "      <td>0.25</td>\n",
              "      <td>0.00</td>\n",
              "      <td>0.000000</td>\n",
              "    </tr>\n",
              "    <tr>\n",
              "      <th>5711</th>\n",
              "      <td>1.000000</td>\n",
              "      <td>6.998045e-06</td>\n",
              "      <td>0.000479</td>\n",
              "      <td>0.000000</td>\n",
              "      <td>0.0</td>\n",
              "      <td>1.00</td>\n",
              "      <td>0.12</td>\n",
              "      <td>0.033333</td>\n",
              "    </tr>\n",
              "    <tr>\n",
              "      <th>2375</th>\n",
              "      <td>1.000000</td>\n",
              "      <td>1.274874e-03</td>\n",
              "      <td>0.030681</td>\n",
              "      <td>0.000156</td>\n",
              "      <td>0.0</td>\n",
              "      <td>1.00</td>\n",
              "      <td>0.00</td>\n",
              "      <td>0.000000</td>\n",
              "    </tr>\n",
              "    <tr>\n",
              "      <th>90408</th>\n",
              "      <td>0.000000</td>\n",
              "      <td>1.572025e-06</td>\n",
              "      <td>0.000119</td>\n",
              "      <td>0.000000</td>\n",
              "      <td>0.0</td>\n",
              "      <td>1.00</td>\n",
              "      <td>0.22</td>\n",
              "      <td>0.000000</td>\n",
              "    </tr>\n",
              "    <tr>\n",
              "      <th>11914</th>\n",
              "      <td>0.913043</td>\n",
              "      <td>2.345359e-06</td>\n",
              "      <td>0.000119</td>\n",
              "      <td>0.000000</td>\n",
              "      <td>0.0</td>\n",
              "      <td>0.50</td>\n",
              "      <td>0.00</td>\n",
              "      <td>0.000000</td>\n",
              "    </tr>\n",
              "    <tr>\n",
              "      <th>61812</th>\n",
              "      <td>0.913043</td>\n",
              "      <td>4.817495e-07</td>\n",
              "      <td>0.000024</td>\n",
              "      <td>0.000000</td>\n",
              "      <td>0.5</td>\n",
              "      <td>1.00</td>\n",
              "      <td>0.00</td>\n",
              "      <td>0.000000</td>\n",
              "    </tr>\n",
              "    <tr>\n",
              "      <th>69355</th>\n",
              "      <td>0.217391</td>\n",
              "      <td>2.028419e-07</td>\n",
              "      <td>0.000166</td>\n",
              "      <td>0.000000</td>\n",
              "      <td>0.0</td>\n",
              "      <td>1.00</td>\n",
              "      <td>0.22</td>\n",
              "      <td>0.000000</td>\n",
              "    </tr>\n",
              "    <tr>\n",
              "      <th>74251</th>\n",
              "      <td>0.782609</td>\n",
              "      <td>5.766414e-04</td>\n",
              "      <td>0.000152</td>\n",
              "      <td>0.003863</td>\n",
              "      <td>0.5</td>\n",
              "      <td>1.00</td>\n",
              "      <td>0.00</td>\n",
              "      <td>0.000000</td>\n",
              "    </tr>\n",
              "    <tr>\n",
              "      <th>63069</th>\n",
              "      <td>0.956522</td>\n",
              "      <td>1.750779e-05</td>\n",
              "      <td>0.000257</td>\n",
              "      <td>0.000000</td>\n",
              "      <td>0.5</td>\n",
              "      <td>1.00</td>\n",
              "      <td>0.00</td>\n",
              "      <td>0.000000</td>\n",
              "    </tr>\n",
              "    <tr>\n",
              "      <th>47815</th>\n",
              "      <td>0.826087</td>\n",
              "      <td>8.113675e-06</td>\n",
              "      <td>0.000289</td>\n",
              "      <td>0.000000</td>\n",
              "      <td>0.5</td>\n",
              "      <td>0.75</td>\n",
              "      <td>0.00</td>\n",
              "      <td>0.000000</td>\n",
              "    </tr>\n",
              "  </tbody>\n",
              "</table>\n",
              "</div>\n",
              "      <button class=\"colab-df-convert\" onclick=\"convertToInteractive('df-fd156a2a-cc45-44ca-8837-9ad57972e6ee')\"\n",
              "              title=\"Convert this dataframe to an interactive table.\"\n",
              "              style=\"display:none;\">\n",
              "        \n",
              "  <svg xmlns=\"http://www.w3.org/2000/svg\" height=\"24px\"viewBox=\"0 0 24 24\"\n",
              "       width=\"24px\">\n",
              "    <path d=\"M0 0h24v24H0V0z\" fill=\"none\"/>\n",
              "    <path d=\"M18.56 5.44l.94 2.06.94-2.06 2.06-.94-2.06-.94-.94-2.06-.94 2.06-2.06.94zm-11 1L8.5 8.5l.94-2.06 2.06-.94-2.06-.94L8.5 2.5l-.94 2.06-2.06.94zm10 10l.94 2.06.94-2.06 2.06-.94-2.06-.94-.94-2.06-.94 2.06-2.06.94z\"/><path d=\"M17.41 7.96l-1.37-1.37c-.4-.4-.92-.59-1.43-.59-.52 0-1.04.2-1.43.59L10.3 9.45l-7.72 7.72c-.78.78-.78 2.05 0 2.83L4 21.41c.39.39.9.59 1.41.59.51 0 1.02-.2 1.41-.59l7.78-7.78 2.81-2.81c.8-.78.8-2.07 0-2.86zM5.41 20L4 18.59l7.72-7.72 1.47 1.35L5.41 20z\"/>\n",
              "  </svg>\n",
              "      </button>\n",
              "      \n",
              "  <style>\n",
              "    .colab-df-container {\n",
              "      display:flex;\n",
              "      flex-wrap:wrap;\n",
              "      gap: 12px;\n",
              "    }\n",
              "\n",
              "    .colab-df-convert {\n",
              "      background-color: #E8F0FE;\n",
              "      border: none;\n",
              "      border-radius: 50%;\n",
              "      cursor: pointer;\n",
              "      display: none;\n",
              "      fill: #1967D2;\n",
              "      height: 32px;\n",
              "      padding: 0 0 0 0;\n",
              "      width: 32px;\n",
              "    }\n",
              "\n",
              "    .colab-df-convert:hover {\n",
              "      background-color: #E2EBFA;\n",
              "      box-shadow: 0px 1px 2px rgba(60, 64, 67, 0.3), 0px 1px 3px 1px rgba(60, 64, 67, 0.15);\n",
              "      fill: #174EA6;\n",
              "    }\n",
              "\n",
              "    [theme=dark] .colab-df-convert {\n",
              "      background-color: #3B4455;\n",
              "      fill: #D2E3FC;\n",
              "    }\n",
              "\n",
              "    [theme=dark] .colab-df-convert:hover {\n",
              "      background-color: #434B5C;\n",
              "      box-shadow: 0px 1px 3px 1px rgba(0, 0, 0, 0.15);\n",
              "      filter: drop-shadow(0px 1px 2px rgba(0, 0, 0, 0.3));\n",
              "      fill: #FFFFFF;\n",
              "    }\n",
              "  </style>\n",
              "\n",
              "      <script>\n",
              "        const buttonEl =\n",
              "          document.querySelector('#df-fd156a2a-cc45-44ca-8837-9ad57972e6ee button.colab-df-convert');\n",
              "        buttonEl.style.display =\n",
              "          google.colab.kernel.accessAllowed ? 'block' : 'none';\n",
              "\n",
              "        async function convertToInteractive(key) {\n",
              "          const element = document.querySelector('#df-fd156a2a-cc45-44ca-8837-9ad57972e6ee');\n",
              "          const dataTable =\n",
              "            await google.colab.kernel.invokeFunction('convertToInteractive',\n",
              "                                                     [key], {});\n",
              "          if (!dataTable) return;\n",
              "\n",
              "          const docLinkHtml = 'Like what you see? Visit the ' +\n",
              "            '<a target=\"_blank\" href=https://colab.research.google.com/notebooks/data_table.ipynb>data table notebook</a>'\n",
              "            + ' to learn more about interactive tables.';\n",
              "          element.innerHTML = '';\n",
              "          dataTable['output_type'] = 'display_data';\n",
              "          await google.colab.output.renderOutput(dataTable, element);\n",
              "          const docLink = document.createElement('div');\n",
              "          docLink.innerHTML = docLinkHtml;\n",
              "          element.appendChild(docLink);\n",
              "        }\n",
              "      </script>\n",
              "    </div>\n",
              "  </div>\n",
              "  "
            ],
            "text/plain": [
              "       Specific_hour    #Followers  #Friends  #Favorites  Positive_sentiments  \\\n",
              "63057       0.913043  8.212561e-05  0.002245    0.000787                  0.5   \n",
              "5711        1.000000  6.998045e-06  0.000479    0.000000                  0.0   \n",
              "2375        1.000000  1.274874e-03  0.030681    0.000156                  0.0   \n",
              "90408       0.000000  1.572025e-06  0.000119    0.000000                  0.0   \n",
              "11914       0.913043  2.345359e-06  0.000119    0.000000                  0.0   \n",
              "61812       0.913043  4.817495e-07  0.000024    0.000000                  0.5   \n",
              "69355       0.217391  2.028419e-07  0.000166    0.000000                  0.0   \n",
              "74251       0.782609  5.766414e-04  0.000152    0.003863                  0.5   \n",
              "63069       0.956522  1.750779e-05  0.000257    0.000000                  0.5   \n",
              "47815       0.826087  8.113675e-06  0.000289    0.000000                  0.5   \n",
              "\n",
              "       Negative_sentiments  Number_of_Mentions  Number_of_Hashtags  \n",
              "63057                 0.25                0.00            0.000000  \n",
              "5711                  1.00                0.12            0.033333  \n",
              "2375                  1.00                0.00            0.000000  \n",
              "90408                 1.00                0.22            0.000000  \n",
              "11914                 0.50                0.00            0.000000  \n",
              "61812                 1.00                0.00            0.000000  \n",
              "69355                 1.00                0.22            0.000000  \n",
              "74251                 1.00                0.00            0.000000  \n",
              "63069                 1.00                0.00            0.000000  \n",
              "47815                 0.75                0.00            0.000000  "
            ]
          },
          "execution_count": 230,
          "metadata": {},
          "output_type": "execute_result"
        }
      ],
      "source": [
        "#printing a sample of the normalized dataframe\n",
        "scaled_df.sample(10)"
      ]
    },
    {
      "cell_type": "markdown",
      "metadata": {
        "id": "DibWNtLnICCY"
      },
      "source": [
        "## 5.2  Splitting the normalized dataframe into train and test sets"
      ]
    },
    {
      "cell_type": "code",
      "execution_count": null,
      "metadata": {
        "id": "Qt_ZeIoYIIMr"
      },
      "outputs": [],
      "source": [
        "# creating a method to split normalized data to train and test set\n",
        "def split_to_train_and_test(x, y, test_size):\n",
        "    #creating data objects x_train, x_test, y_train, and y_test and initializing them \n",
        "    x_train, x_test, y_train, y_test = train_test_split(scaled_df, y, test_size=test_size)\n",
        "    #printing the shapes of the train set and test sets\n",
        "    print(x_train.shape, x_test.shape, y_train.shape, y_test.shape)\n",
        "    # seting the return outputs\n",
        "    return x_train, x_test, y_train, y_test"
      ]
    },
    {
      "cell_type": "code",
      "execution_count": null,
      "metadata": {
        "colab": {
          "base_uri": "https://localhost:8080/"
        },
        "id": "eCnUHzUXZX1w",
        "outputId": "a91226af-cd8c-4888-d189-d880e0a0b41d"
      },
      "outputs": [
        {
          "name": "stdout",
          "output_type": "stream",
          "text": [
            "(80000, 8) (20000, 8) (80000,) (20000,)\n"
          ]
        }
      ],
      "source": [
        "#calling the split_to_train_and_test method and passing parameters to it\n",
        "# which include the scaled dataframe and a split measure of 0.20\n",
        "x_train, x_test, y_train, y_test = split_to_train_and_test(scaled_df, y, 0.20)"
      ]
    },
    {
      "cell_type": "markdown",
      "metadata": {
        "id": "bQ3WU3htho0j"
      },
      "source": [
        "*   The output (80000, 8) and (80000,) illustrates a train set which will be the first  80,000 samples of the data frame.\n",
        "*   The output (20000, 8) and (20000,) illustrates a test set which will be  the last 20,000 samples of the data frame.\n",
        "\n",
        "\n"
      ]
    },
    {
      "cell_type": "markdown",
      "metadata": {
        "id": "MwsRCtsPDD4N"
      },
      "source": [
        "# **6. Phase 6: Model Evaluation**"
      ]
    },
    {
      "cell_type": "markdown",
      "metadata": {
        "id": "UmprBlpFyiil"
      },
      "source": [
        "This phase is guided by: \n",
        "1. Training and Testing different models\n",
        "2. Evaluating the models on differnt Evaluation metrics"
      ]
    },
    {
      "cell_type": "markdown",
      "metadata": {
        "id": "dYPIQNKfmSig"
      },
      "source": [
        "## 6.1 Training and Testing different models"
      ]
    },
    {
      "cell_type": "markdown",
      "metadata": {
        "id": "GWxRZ2OM8Fe8"
      },
      "source": [
        "### **6.1.1 Creating (Training) a Multiple Regression model and making a prediction using it**"
      ]
    },
    {
      "cell_type": "code",
      "execution_count": null,
      "metadata": {
        "colab": {
          "background_save": true,
          "base_uri": "https://localhost:8080/"
        },
        "id": "d0V9B9mlSVmK",
        "outputId": "33d1a65a-60b4-4f71-d10b-220450936fad"
      },
      "outputs": [
        {
          "name": "stdout",
          "output_type": "stream",
          "text": [
            "R-Squared: 0.5357372352959353\n",
            "Root Mean Square Error: 235.778\n"
          ]
        }
      ],
      "source": [
        "# building random forest model\n",
        "lin_reg_model = LinearRegression()\n",
        "\n",
        "# using the model.fit() function to ensure that the returned result(model) does not \n",
        "# overfit or underfits thus ensuring the model's reliability and accuracy\n",
        "lin_reg_model.fit(x_train,y_train)\n",
        "\n",
        "#Prediction using test set and hold the result to a data object y_predict\n",
        "y_predict = lin_reg_model.predict(x_test)\n",
        "\n",
        "# finding the Mean Square Error\n",
        "mse=metrics.mean_squared_error(y_test, y_predict)\n",
        "\n",
        "#calculating the RMSE\n",
        "rmse = math.sqrt(mse)\n",
        "\n",
        "# Printing the differenet Evaluation metrics\n",
        "print('R-Squared:',metrics.r2_score(y_test, y_predict))\n",
        "print('Root Mean Square Error: %.3f' % rmse)"
      ]
    },
    {
      "cell_type": "markdown",
      "metadata": {
        "id": "oK8w3UE77POi"
      },
      "source": [
        "### **6.1.1 Creating (Training) a Random Forest Regressor model and making a prediction using it**"
      ]
    },
    {
      "cell_type": "code",
      "execution_count": null,
      "metadata": {
        "colab": {
          "base_uri": "https://localhost:8080/"
        },
        "id": "4QxLxz8SLaaB",
        "outputId": "1a137d3e-96a1-4c70-8c03-af884443c2ff"
      },
      "outputs": [
        {
          "name": "stdout",
          "output_type": "stream",
          "text": [
            "Random Forest Regressor model Accuracy:  0.5226542050852183\n",
            "R-squared: 0.5226542050852183\n",
            "Root Mean Square Error: 239.077\n"
          ]
        }
      ],
      "source": [
        "# building random forest model\n",
        "random_forest_regr_model = RandomForestRegressor(max_depth=10)\n",
        "\n",
        "# using the model.fit() function to ensure that the returned result(model) does not \n",
        "# overfit or underfits thus ensuring the model's reliability and accuracy\n",
        "random_forest_regr_model.fit(x_train,y_train)\n",
        "\n",
        "#Predicting the #Retweets using the test set \n",
        "y_prediction = random_forest_regr_model.predict(x_test)\n",
        "\n",
        "# finding the Mean Squared Error\n",
        "mse=metrics.mean_squared_error(y_test, y_prediction)\n",
        "\n",
        "#calculating the RMSE\n",
        "rmse = math.sqrt(mse)\n",
        "\n",
        "# Printing the different evaluation metrics\n",
        "print('Random Forest Regressor Accuracy: ', random_forest_regr_model.score(x_test,y_test))\n",
        "print('R-squared:',metrics.r2_score(y_test, y_prediction))\n",
        "print('Root Mean Square Error: %.3f' % rmse)"
      ]
    },
    {
      "cell_type": "markdown",
      "metadata": {
        "id": "GwzAp6D_Wg2d"
      },
      "source": [
        "## 6.2 Evaluating different models on different Evaluation metrics"
      ]
    },
    {
      "cell_type": "markdown",
      "metadata": {
        "id": "HXBCUoloCN7q"
      },
      "source": [
        "**⦁\tCompare the two regression methods you used in the previous part on the training and test sets. What evaluation metrics are appropriate?**\n",
        "\n",
        "> The two regression methods that have been employed are Multiple Linear Regression and Random Forest Regressor. **The Random Forest , with an accuracy of 0.72 performed better than the Multiple Linear Regression**. "
      ]
    },
    {
      "cell_type": "code",
      "source": [],
      "metadata": {
        "id": "H9KWUw4Rrr2L"
      },
      "execution_count": null,
      "outputs": []
    }
  ],
  "metadata": {
    "colab": {
      "collapsed_sections": [
        "n7282ZKeyYWZ"
      ],
      "provenance": [],
      "mount_file_id": "1FWzuoNCa_B6njvR0l4cpUDAnLEw3awMW",
      "authorship_tag": "ABX9TyMmYYeKjeUpB3W1Zu63Ntel",
      "include_colab_link": true
    },
    "kernelspec": {
      "display_name": "Python 3",
      "name": "python3"
    },
    "language_info": {
      "name": "python"
    }
  },
  "nbformat": 4,
  "nbformat_minor": 0
}